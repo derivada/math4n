{
 "cells": [
  {
   "cell_type": "markdown",
   "metadata": {
    "slideshow": {
     "slide_type": "slide"
    }
   },
   "source": [
    "## Half-range expansions\n",
    "\n",
    "Markus Grasmair (including some code by André Massing from Spring 2020)\n",
    "\n",
    "Date: September 17, 2022"
   ]
  },
  {
   "cell_type": "markdown",
   "metadata": {},
   "source": [
    "In this note, we will look at the different methods to define a half-range expansion for a triangular function on the interval $[0,\\pi]$."
   ]
  },
  {
   "cell_type": "code",
   "execution_count": 18,
   "metadata": {
    "slideshow": {
     "slide_type": "fragment"
    }
   },
   "outputs": [],
   "source": [
    "import numpy as np \n",
    "import matplotlib.pyplot as plt\n",
    "import ipywidgets as widgets\n",
    "from ipywidgets import interact"
   ]
  },
  {
   "cell_type": "code",
   "execution_count": 19,
   "metadata": {
    "slideshow": {
     "slide_type": "fragment"
    }
   },
   "outputs": [],
   "source": [
    "%matplotlib inline\n",
    "\n",
    "plt.rcParams['figure.figsize'] = [15, 7]"
   ]
  },
  {
   "cell_type": "markdown",
   "metadata": {
    "slideshow": {
     "slide_type": "slide"
    }
   },
   "source": [
    "First we define some plotting functions which will visualize\n",
    "the $N$-th partial sum for a given function $f$. The examples below show how to use it."
   ]
  },
  {
   "cell_type": "code",
   "execution_count": 20,
   "metadata": {
    "slideshow": {
     "slide_type": "fragment"
    }
   },
   "outputs": [],
   "source": [
    "def plot_partial_sum(f, x, S_N, N, title=\"\"):\n",
    "    y = f(x)\n",
    "    s_N = S_N(x, N)\n",
    "    plt.plot(x, y, label=\"$f$\",color='b')\n",
    "    plt.plot(x, s_N, label=\"$S_N$\",color='r')\n",
    "    plt.title(title)\n",
    "    plt.legend()\n",
    "    plt.xlabel(\"x\")\n",
    "    plt.ylabel(\"$S_N(x)$\")\n",
    "    plt.show()"
   ]
  },
  {
   "cell_type": "markdown",
   "metadata": {
    "slideshow": {
     "slide_type": "slide"
    }
   },
   "source": [
    "### Fourier cosine series\n",
    "\n",
    "We consider the triangular function $f$ given as\n",
    "$$\n",
    "f(x) = \n",
    "\\left\\{\n",
    "\\begin{array}{rl}\n",
    " \\frac{2x}{\\pi} &\\text{ if } 0 < x < \\pi/2, \\\\\n",
    "\\frac{2}{\\pi}(\\pi-x) &\\text{ if } \\pi/2 < x < \\pi\n",
    "\\end{array}\n",
    "\\right.\n",
    "$$\n",
    "\n",
    "Its Fourier cosine-series is\n",
    "$$\n",
    "f \\sim\n",
    "\\frac{1}{2} \n",
    "- \\sum_{n=1}^\\infty \\dfrac{16}{\\pi^2 (4n-2)^2} \\cos((4n-2)x).\n",
    "$$"
   ]
  },
  {
   "cell_type": "code",
   "execution_count": 30,
   "metadata": {
    "slideshow": {
     "slide_type": "slide"
    }
   },
   "outputs": [],
   "source": [
    "x = np.linspace(0, np.pi, 1000) # Interval\n",
    "f = lambda  x : 1.0-2*np.abs((x/np.pi)%1-0.5) # Define f\n",
    "\n",
    "# Define partial sums\n",
    "def S_N(x, N):\n",
    "    s = (1/2)*np.ones_like(x)\n",
    "    for n in range(1,N+1):\n",
    "        s += -(16/(np.pi**2*(4*n-2)**2))*np.cos((4*n-2)*x)\n",
    "    return s\n",
    "\n",
    "title = \"Triangular function\"\n",
    "\n",
    "# Define a helper function\n",
    "pps = lambda N: plot_partial_sum(f, x, S_N, N, title)"
   ]
  },
  {
   "cell_type": "code",
   "execution_count": 31,
   "metadata": {
    "slideshow": {
     "slide_type": "slide"
    }
   },
   "outputs": [
    {
     "data": {
      "application/vnd.jupyter.widget-view+json": {
       "model_id": "0286de9f01d648d29be3cf0b0accbf82",
       "version_major": 2,
       "version_minor": 0
      },
      "text/plain": [
       "interactive(children=(IntSlider(value=0, description='Order N', max=20), Output()), _dom_classes=('widget-inte…"
      ]
     },
     "metadata": {},
     "output_type": "display_data"
    },
    {
     "data": {
      "text/plain": [
       "<function __main__.<lambda>(N)>"
      ]
     },
     "execution_count": 31,
     "metadata": {},
     "output_type": "execute_result"
    }
   ],
   "source": [
    "slider = widgets.IntSlider(min = 0,\n",
    "                           max = 20,\n",
    "                           step = 1,\n",
    "                           description=\"Order N\",\n",
    "                           value = 0)\n",
    "interact(pps, N=slider)"
   ]
  },
  {
   "cell_type": "markdown",
   "metadata": {},
   "source": [
    "As the number $N$ of terms in the Fourier-cosine series increases, we see how the approximation becomes better and better. Only at the points $0$, $\\pi/2$, and $\\pi$ are there noticeable differences between the function and its approximation. At the point $\\pi/2$, this is due to the \"kink\" in the function $f$, which we try to approximate with smooth functions. It is clear that this cannot be done perfectly.\n",
    "\n",
    "At the points $0$ and $\\pi$, the reason for the differences between $f$ is actually the same, but this is not immediately obvious from the figure. However, recall that the Fourier-cosine expansion is based on the even periodic extension of $f$. If we plot this extension (you can do so by changing the range of $x$ in the code above), we see that the same kinks as in $\\pi/2$ appear in $0$ and $\\pi$."
   ]
  },
  {
   "cell_type": "markdown",
   "metadata": {
    "slideshow": {
     "slide_type": "slide"
    }
   },
   "source": [
    "### Fourier-sine series\n",
    "\n",
    "Alternatively, we can compute the Fourier-sine series of the triangular function\n",
    "$$\n",
    "f(x) = \n",
    "\\left\\{\n",
    "\\begin{array}{rl}\n",
    " \\frac{2x}{\\pi} &\\text{ if } 0 < x < \\pi/2, \\\\\n",
    "\\frac{2}{\\pi}(\\pi-x) &\\text{ if } \\pi/2 < x < \\pi\n",
    "\\end{array}\n",
    "\\right.\n",
    "$$\n",
    "as\n",
    "$$\n",
    "f \\sim\n",
    "\\sum_{n=1}^\\infty (-1)^{n-1} \\frac{8}{\\pi^2(2n-1)^2} \\sin((2n-1)x).\n",
    "$$"
   ]
  },
  {
   "cell_type": "code",
   "execution_count": 32,
   "metadata": {
    "slideshow": {
     "slide_type": "slide"
    }
   },
   "outputs": [],
   "source": [
    "x = np.linspace(0, np.pi, 1000) # Interval\n",
    "f = lambda  x : 1.0-4*np.abs(((x+np.pi/2)/(2*np.pi))%1-0.5) # Define f\n",
    "\n",
    "# Define partial sums\n",
    "def S_N(x, N):\n",
    "    s = np.zeros_like(x)\n",
    "    for n in range(1,N+1):\n",
    "        s += (-1)**(n-1)*(8.0/(np.pi**2*(2*n-1)**2))*np.sin((2*n-1)*x)\n",
    "    return s\n",
    "\n",
    "title = \"Triangular function\"\n",
    "\n",
    "# Define a helper function\n",
    "pps = lambda N: plot_partial_sum(f, x, S_N, N, title)"
   ]
  },
  {
   "cell_type": "code",
   "execution_count": 33,
   "metadata": {
    "slideshow": {
     "slide_type": "slide"
    }
   },
   "outputs": [
    {
     "data": {
      "application/vnd.jupyter.widget-view+json": {
       "model_id": "74ed93fb2c344d378bbbd762f5073c44",
       "version_major": 2,
       "version_minor": 0
      },
      "text/plain": [
       "interactive(children=(IntSlider(value=0, description='Order N', max=20), Output()), _dom_classes=('widget-inte…"
      ]
     },
     "metadata": {},
     "output_type": "display_data"
    },
    {
     "data": {
      "text/plain": [
       "<function __main__.<lambda>(N)>"
      ]
     },
     "execution_count": 33,
     "metadata": {},
     "output_type": "execute_result"
    }
   ],
   "source": [
    "slider = widgets.IntSlider(min = 0,\n",
    "                           max = 20,\n",
    "                           step = 1,\n",
    "                           description=\"Order N\",\n",
    "                           value = 0)\n",
    "interact(pps, N=slider)"
   ]
  },
  {
   "cell_type": "markdown",
   "metadata": {},
   "source": [
    "Here we obtain a very good approximation of $f$ outside of the kink at $\\pi/2$. In particular at the points $0$ and $\\pi$, the approximation is almost perfect. The reason for that becomes again clear when we recall that the sine expansion implicitly assumes an odd periodic extension of $f$. Since the function $f$ is equal to 0 at the boundaries of the interval where it is defined, it follows that this odd extension is not only continuous, but continuously differentiable at these boundary points."
   ]
  },
  {
   "cell_type": "markdown",
   "metadata": {
    "slideshow": {
     "slide_type": "slide"
    }
   },
   "source": [
    "### Fourier-cosine series of a shifted function\n",
    "\n",
    "We now modify the triangular function above slightly by adding the constant 1. That is, we consider the function $f$ defined as\n",
    "$$\n",
    "f(x) = \n",
    "\\left\\{\n",
    "\\begin{array}{rl}\n",
    " 1+\\frac{2x}{\\pi} &\\text{ if } 0 < x < \\pi/2, \\\\\n",
    " 1+\\frac{2}{\\pi}(\\pi-x) &\\text{ if } \\pi/2 < x < \\pi\n",
    "\\end{array}\n",
    "\\right.\n",
    "$$\n",
    "\n",
    "Its Fourier cosine-series is\n",
    "$$\n",
    "f \\sim\n",
    "\\frac{3}{2} \n",
    "- \\sum_{n=1}^\\infty \\dfrac{16}{\\pi^2 (4n-2)^2} \\cos((4n-2)x).\n",
    "$$\n",
    "Adding the constant in the function only results in a change of the constant term $a_0$; everything else is the same as in the original series."
   ]
  },
  {
   "cell_type": "code",
   "execution_count": 34,
   "metadata": {
    "slideshow": {
     "slide_type": "slide"
    }
   },
   "outputs": [],
   "source": [
    "x = np.linspace(0, np.pi, 1000) # Interval\n",
    "f = lambda  x : 2.0-2*np.abs((x/np.pi)%1-0.5) # Define f\n",
    "\n",
    "# Define partial sums\n",
    "def S_N(x, N):\n",
    "    s = (3/2)*np.ones_like(x)\n",
    "    for n in range(1,N+1):\n",
    "        s += -(16/(np.pi**2*(4*n-2)**2))*np.cos((4*n-2)*x)\n",
    "    return s\n",
    "\n",
    "title = \"Triangular function\"\n",
    "\n",
    "# Define a helper function\n",
    "pps = lambda N: plot_partial_sum(f, x, S_N, N, title)"
   ]
  },
  {
   "cell_type": "code",
   "execution_count": 35,
   "metadata": {
    "slideshow": {
     "slide_type": "slide"
    }
   },
   "outputs": [
    {
     "data": {
      "application/vnd.jupyter.widget-view+json": {
       "model_id": "bfb75731802b42c29be0e3a15c2b2b7c",
       "version_major": 2,
       "version_minor": 0
      },
      "text/plain": [
       "interactive(children=(IntSlider(value=0, description='Order N', max=20), Output()), _dom_classes=('widget-inte…"
      ]
     },
     "metadata": {},
     "output_type": "display_data"
    },
    {
     "data": {
      "text/plain": [
       "<function __main__.<lambda>(N)>"
      ]
     },
     "execution_count": 35,
     "metadata": {},
     "output_type": "execute_result"
    }
   ],
   "source": [
    "slider = widgets.IntSlider(min = 0,\n",
    "                           max = 20,\n",
    "                           step = 1,\n",
    "                           description=\"Order N\",\n",
    "                           value = 0)\n",
    "interact(pps, N=slider)"
   ]
  },
  {
   "cell_type": "markdown",
   "metadata": {},
   "source": [
    "The situation here is almost exactly the same as in the first function. The only difference between the Fourier-cosine expansions is the constant term; the approximation properties (and challenges) are precisely the same."
   ]
  },
  {
   "cell_type": "markdown",
   "metadata": {
    "slideshow": {
     "slide_type": "slide"
    }
   },
   "source": [
    "### Fourier-sine series of a shifted function\n",
    "\n",
    "Alternatively, we can now compute the Fourier-sine series of this modified triangular function\n",
    "$$\n",
    "f(x) = \n",
    "\\left\\{\n",
    "\\begin{array}{rl}\n",
    " 1+\\frac{2x}{\\pi} &\\text{ if } 0 < x < \\pi/2, \\\\\n",
    " 1+\\frac{2}{\\pi}(\\pi-x) &\\text{ if } \\pi/2 < x < \\pi\n",
    "\\end{array}\n",
    "\\right.\n",
    "$$\n",
    "as\n",
    "$$\n",
    "f \\sim\n",
    "\\sum_{n=1}^\\infty  \\biggl(\\frac{4}{\\pi(2n-1)} + (-1)^{n-1}\\frac{8}{\\pi^2(2n-1)^2}\\biggr) \\sin((2n-1)x).\n",
    "$$\n",
    "This is (somewhat) easily obtained by adding the Fouriersineseries of the original triangular function and the rectangular wave together."
   ]
  },
  {
   "cell_type": "code",
   "execution_count": 36,
   "metadata": {
    "slideshow": {
     "slide_type": "slide"
    }
   },
   "outputs": [],
   "source": [
    "x = np.linspace(1e-6, np.pi, 1000) # Interval\n",
    "f = lambda  x : np.sign(np.sin(x)) + 1.0-4*np.abs(((x+np.pi/2)/(2*np.pi))%1-0.5) # Define f\n",
    "\n",
    "# Define partial sums\n",
    "def S_N(x, N):\n",
    "    s = np.zeros_like(x)\n",
    "    for n in range(1,N+1):\n",
    "        s += ((4/(np.pi*(2*n-1))) + (-1)**(n-1)*(8.0/(np.pi**2*(2*n-1)**2)))*np.sin((2*n-1)*x)\n",
    "    return s\n",
    "\n",
    "title = \"Triangular function\"\n",
    "\n",
    "# Define a helper function\n",
    "pps = lambda N: plot_partial_sum(f, x, S_N, N, title)"
   ]
  },
  {
   "cell_type": "code",
   "execution_count": 37,
   "metadata": {
    "slideshow": {
     "slide_type": "slide"
    }
   },
   "outputs": [
    {
     "data": {
      "application/vnd.jupyter.widget-view+json": {
       "model_id": "2968f0366ef24c5697a70ea2d47495c0",
       "version_major": 2,
       "version_minor": 0
      },
      "text/plain": [
       "interactive(children=(IntSlider(value=0, description='Order N', max=40), Output()), _dom_classes=('widget-inte…"
      ]
     },
     "metadata": {},
     "output_type": "display_data"
    },
    {
     "data": {
      "text/plain": [
       "<function __main__.<lambda>(N)>"
      ]
     },
     "execution_count": 37,
     "metadata": {},
     "output_type": "execute_result"
    }
   ],
   "source": [
    "slider = widgets.IntSlider(min = 0,\n",
    "                           max = 40,\n",
    "                           step = 1,\n",
    "                           description=\"Order N\",\n",
    "                           value = 0)\n",
    "interact(pps, N=slider)"
   ]
  },
  {
   "cell_type": "markdown",
   "metadata": {},
   "source": [
    "We immediately note the osciallations at the boundary points $0$ and $\\pi$. The explanation for this can again be found by recalling that we are implicitly considering an odd extension of $f$. In this particular case, this odd extension jumps at $0$ from a value of $-1$ to a value of $+1$. This jump discontinuity then leads to the occurrence of the Gibbs phenomenon in the Fourier-sine approximation."
   ]
  }
 ],
 "metadata": {
  "kernelspec": {
   "display_name": "Python 3",
   "language": "python",
   "name": "python3"
  },
  "language_info": {
   "codemirror_mode": {
    "name": "ipython",
    "version": 3
   },
   "file_extension": ".py",
   "mimetype": "text/x-python",
   "name": "python",
   "nbconvert_exporter": "python",
   "pygments_lexer": "ipython3",
   "version": "3.8.3"
  }
 },
 "nbformat": 4,
 "nbformat_minor": 2
}

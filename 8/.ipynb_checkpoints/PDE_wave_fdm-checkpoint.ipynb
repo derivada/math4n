{
 "cells": [
  {
   "cell_type": "markdown",
   "id": "24a4339e",
   "metadata": {},
   "source": [
    "**Template for Exercise 8, problem 1**"
   ]
  },
  {
   "cell_type": "code",
   "execution_count": null,
   "id": "3e00bf55",
   "metadata": {},
   "outputs": [],
   "source": [
    "\"\"\"\n",
    "Solve the wave equation \n",
    "u_{tt} = c^2 u_{xx} on a<x<b\n",
    "with boundary conditions\n",
    "u(a) = u(b) = 0\n",
    "by a finite difference scheme. \n",
    "\"\"\"\n",
    "%matplotlib inline\n",
    "import numpy as np\n",
    "import matplotlib.pyplot as plt\n",
    "\n",
    "from matplotlib import animation, rc\n",
    "from IPython.display import HTML\n",
    "\n",
    "tend = 2                # 0 <= t <= tend\n",
    "a, b = -5, 5            # a <= x <= b \n",
    "c = 2                   # Wave speed\n",
    "\n",
    "h, k = 0.1, 0.05        # Stepsizes in space (x) and time (t).\n",
    "M = int((b-a)/h)        # Number of grid intervals\n",
    "h = (b-a)/M             # To ensure a uniform grid in x.\n",
    "N = int(tend/k)         # Number of steps in the t-direction\n",
    "\n",
    "# The grid\n",
    "x = np.array([a+i*h for i in range(M+1)])\n",
    "t = np.array([n*k for n in range(N+1)])\n",
    "\n",
    "# initial values\n",
    "def f(x):\n",
    "    return np.cos(0.5*np.pi*x) \n",
    "\n",
    "def g(x):\n",
    "    return np.zeros_like(x)\n",
    "\n",
    "# Array for storing the solution\n",
    "# U[i,n] \\approx u(x_i,t_n)\n",
    "U = np.zeros((M+1, N+1))  \n",
    "\n",
    "# === Fill in your own code here ===\n",
    "\n",
    "\n",
    "\n",
    "\n",
    "\n",
    "\n",
    "# === end own code ===   "
   ]
  },
  {
   "cell_type": "code",
   "execution_count": null,
   "id": "210d4854",
   "metadata": {},
   "outputs": [],
   "source": [
    "# The exact solution (if available)\n",
    "def uexact(x,t):\n",
    "    return np.cos(0.5*np.pi*x)*np.cos(np.pi*t)\n",
    "\n",
    "# Plot the solution together with the exact solution\n",
    "plt.rcParams['figure.figsize'] = [10, 10]\n",
    "\n",
    "t_plot = [0, 0.4, 1.2, 2]\n",
    "\n",
    "for i in range(4):\n",
    "    plt.subplot(2,2,i+1)\n",
    "    nt = round(t_plot[i]/k)\n",
    "    plt.plot(x,U[:,nt], label='Num')\n",
    "    plt.plot(x,uexact(x,nt*k), label='Exact')\n",
    "    plt.axis([a, b, -1.1, 1.1])\n",
    "    plt.title(f't={nt*k:.2f}')\n",
    "    plt.legend()\n"
   ]
  },
  {
   "cell_type": "code",
   "execution_count": null,
   "id": "7a838d98",
   "metadata": {},
   "outputs": [],
   "source": [
    "# Animation\n",
    "\n",
    "# First set up the figure, the axis, and the plot element we want to animate\n",
    "plt.rcParams['figure.figsize'] = [6, 4]\n",
    "fig, ax = plt.subplots()\n",
    "\n",
    "ax.set_xlim(( a, b))\n",
    "ax.set_ylim((-1.1, 1.1))\n",
    "\n",
    "line, = ax.plot([], [], lw=2)\n",
    "\n",
    "# initialization function: plot the background of each frame\n",
    "def init():\n",
    "    line.set_data([], [])\n",
    "    return (line,)\n",
    "\n",
    "# animation function. This is called sequentially\n",
    "def animate(i):\n",
    "    line.set_data(x, U[:,i])\n",
    "    plt.title(f't={t[i]:.2f}')\n",
    "    return (line,)\n",
    "\n",
    "# call the animator. blit=True means only re-draw the parts that have changed.\n",
    "anim = animation.FuncAnimation(fig, animate, init_func=init,\n",
    "                               frames=N, interval=200, blit=True)\n",
    "HTML(anim.to_html5_video())"
   ]
  },
  {
   "cell_type": "code",
   "execution_count": null,
   "id": "30d6a1fc",
   "metadata": {},
   "outputs": [],
   "source": []
  }
 ],
 "metadata": {
  "kernelspec": {
   "display_name": "Python 3 (ipykernel)",
   "language": "python",
   "name": "python3"
  },
  "language_info": {
   "codemirror_mode": {
    "name": "ipython",
    "version": 3
   },
   "file_extension": ".py",
   "mimetype": "text/x-python",
   "name": "python",
   "nbconvert_exporter": "python",
   "pygments_lexer": "ipython3",
   "version": "3.9.12"
  }
 },
 "nbformat": 4,
 "nbformat_minor": 5
}

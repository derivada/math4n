{
 "cells": [
  {
   "cell_type": "markdown",
   "id": "ed12d283",
   "metadata": {},
   "source": [
    "<!-- dom:TITLE: Assigment 2--> \n",
    "# Assignment 3\n",
    "<!-- dom:AUTHOR: Pablo Díaz Viñambres -->\n",
    "<!-- Author: -->  \n",
    "**Pablo Díaz Viñambres**\n",
    "\n",
    "Date: **Sep 18, 2022**"
   ]
  },
  {
   "cell_type": "code",
   "execution_count": 19,
   "id": "99d4deb8",
   "metadata": {},
   "outputs": [],
   "source": [
    "import numpy as np\n",
    "import matplotlib.pyplot as plt\n",
    "from numpy.linalg import solve, norm\n",
    "from numpy import cos, sin\n",
    "import math"
   ]
  },
  {
   "cell_type": "markdown",
   "id": "8f68873f",
   "metadata": {},
   "source": [
    "# Exercise 3\n",
    "We consider the function $f(x) = 2x^3-x^2-1$ and want to find its roots using the fixed-point method\n",
    "\n",
    "b) Set $𝑥^{(0)} = 0.9$ and $𝑔(𝑥) = 𝑔_1(𝑥)$, and iterate until $|x^{(k+1)}-x^{(k)}| < 10^{-6}$. What is the\n",
    "solution obtained, and how many iterations are needed to reach that?\n",
    "\n",
    "\n",
    "c) Now, do the same for $𝑔(𝑥) = 𝑔_2(𝑥)$. How many iterations are now needed?\n",
    "\n",
    "\n",
    "We will use the *fixed_point* function provided on the notebook"
   ]
  },
  {
   "cell_type": "code",
   "execution_count": 20,
   "id": "9bed6ed8",
   "metadata": {},
   "outputs": [],
   "source": [
    "def fixed_point(g, x0, tol = 1.0e-10, max_iter=20, verbose=True):\n",
    "    \"\"\"\n",
    "        fixed_point(f, x0, tol, max_iter, verbose)\n",
    "    \n",
    "    Solve the scalar equations x = g(x) using fixed-point iterations.\n",
    "    \n",
    "    Input:\n",
    "        g    - the function g(x)\n",
    "        x0   - initial guess\n",
    "    Optional (keyword) parameters\n",
    "        tol      - (`1.0e-10`) a tolerance when to stop (maximal movement in a compontent of $\\mathbf f(\\mathbf x^{(k)})$ is less than this tolerance)\n",
    "        max_iter - (`20`) the maximal number of iterations\n",
    "        verbose  – (`True`) prints the iterates if set to true\n",
    "    Output:\n",
    "        x, k – the found root and the number of iterations needed\n",
    "               to get to this point\n",
    "    \"\"\"\n",
    "    x = x0\n",
    "    err = 10*tol\n",
    "    verbose and print('k ={:3d}, x = '.format(0), x)\n",
    "    for k in range(max_iter):\n",
    "        x_old = x\n",
    "        if err < tol: \n",
    "            break\n",
    "        x = g(x)           \n",
    "        verbose and print('k ={:3d}, x = '.format(k+1), x)\n",
    "        err = abs(x-x_old)\n",
    "    return x, k"
   ]
  },
  {
   "cell_type": "code",
   "execution_count": 21,
   "id": "7825f3f3",
   "metadata": {
    "scrolled": false
   },
   "outputs": [
    {
     "name": "stdout",
     "output_type": "stream",
     "text": [
      "Using function g1:\n",
      "k =  0, x =  0.9\n",
      "k =  1, x =  0.17599999999999993\n",
      "k =  2, x =  0.510036224\n",
      "k =  3, x =  0.49738920730120895\n",
      "k =  4, x =  0.5006458997319675\n",
      "k =  5, x =  0.4998381076110837\n",
      "k =  6, x =  0.5000404468923265\n",
      "k =  7, x =  0.4999898866409011\n",
      "k =  8, x =  0.5000025282374957\n",
      "k =  9, x =  0.49999936793423405\n",
      "k = 10, x =  0.500000158016042\n",
      "0.500000158016042\n",
      "Using function g2:\n",
      "k =  0, x =  0.9\n",
      "k =  1, x =  0.17099759466766976\n",
      "k =  2, x =  0.7004232094044729\n",
      "k =  3, x =  0.35535473826180924\n",
      "k =  4, x =  0.5922938156249336\n",
      "k =  5, x =  0.4364034757706748\n",
      "k =  6, x =  0.5415462325242006\n",
      "k =  7, x =  0.47190404370643696\n",
      "k =  8, x =  0.5185594616382357\n",
      "k =  9, x =  0.4875491894984722\n",
      "k = 10, x =  0.5082664666672883\n",
      "k = 11, x =  0.49447372411349705\n",
      "k = 12, x =  0.503677430442846\n",
      "k = 13, x =  0.4975453646178315\n",
      "k = 14, x =  0.5016350875601265\n",
      "k = 15, x =  0.4989093466478114\n",
      "k = 16, x =  0.5007268381519053\n",
      "k = 17, x =  0.4995153237575503\n",
      "k = 18, x =  0.500323065314986\n",
      "k = 19, x =  0.49978459992308016\n",
      "k = 20, x =  0.5001435897427662\n",
      "k = 21, x =  0.4999042689224567\n",
      "k = 22, x =  0.5000638186819935\n",
      "k = 23, x =  0.499957453306881\n",
      "k = 24, x =  0.5000283640598232\n",
      "k = 25, x =  0.4999810904479978\n",
      "k = 26, x =  0.5000126062885425\n",
      "k = 27, x =  0.49999159577232277\n",
      "k = 28, x =  0.5000056028027559\n",
      "k = 29, x =  0.4999962647911869\n",
      "k = 30, x =  0.5000024901361083\n",
      "k = 31, x =  0.4999983399078831\n",
      "k = 32, x =  0.5000011067274656\n",
      "k = 33, x =  0.4999992621814175\n",
      "k = 34, x =  0.500000491878934\n",
      "k = 35, x =  0.4999996720806569\n",
      "0.4999996720806569\n"
     ]
    }
   ],
   "source": [
    "#Define solver settings\n",
    "x0 =  0.9 \n",
    "maxIterations = 100\n",
    "tol = 10**-6\n",
    "\n",
    "\n",
    "def g1(x): \n",
    "    g1 = (-2*x**3+x**2+1)/2\n",
    "    return g1\n",
    "def g2(x): \n",
    "    g2 = ((x**2-2*x+1)/2)**(1/3)\n",
    "    return g2\n",
    "\n",
    "# Apply the fixed-point method\n",
    "print('Using function g1:')\n",
    "x, nIt = fixed_point(g1, x0, tol, maxIterations)\n",
    "if nIt == maxIterations:\n",
    "    printf('Warning: Convergence was not achieved')\n",
    "else:\n",
    "    print(x)\n",
    "print('Using function g2:')\n",
    "x, nIt = fixed_point(g2, x0, tol, maxIterations)\n",
    "if nIt == maxIterations:\n",
    "    printf('Warning: Convergence was not achieved')\n",
    "else:\n",
    "    print(x)\n"
   ]
  },
  {
   "cell_type": "markdown",
   "id": "d8df28c6",
   "metadata": {},
   "source": [
    "As we can see, convergence is achieved in 10 iterations for function $g_1$ and in 35 for function $g_2$, validating our guess that $g_1$ is the better function."
   ]
  },
  {
   "cell_type": "markdown",
   "id": "d5b34e76",
   "metadata": {},
   "source": [
    "# Exercise 3\n",
    "We are solving the equation $\\cos{\\theta} - \\frac{k_\\theta}{WL}\\theta = 0 \\implies cos{\\theta} - \\frac{3}{4}\\theta = 0$. \n",
    "\n",
    "c) Now, compute a few more iterations until meeting a tolerance of $10^{-6}$. Then, compare\n",
    "the linearised $\\theta$ from *a)* with the one obtained iteratively: which one is larger?\n",
    "\n",
    "We will use $x^{(0)} = 4/3$, the solution obtained from *a)*, using the provided *Newton* function, we compute the iterations until we meet the desired tolerance:"
   ]
  },
  {
   "cell_type": "code",
   "execution_count": 22,
   "id": "90283240",
   "metadata": {},
   "outputs": [],
   "source": [
    "def Newton(f, dfdx, x0, tol=1.e-8, max_iter=30, verbose=True):\n",
    "    \"\"\"\n",
    "        Newton(f, dfdx, x0, tol=1.e-8, max_iter=30, verbose=True):\n",
    "    \n",
    "    Solve $f(x) = 0$ by Newtons method.\n",
    "    \n",
    "    Input:\n",
    "        f    - the function f\n",
    "      dfdx   - the derivative of f\n",
    "        x0   - initial value\n",
    "    Optional (keyword) parameters\n",
    "        tol      - (`1.0e-8`) a tolerance when to stop\n",
    "        max_iter - (`30`) the maximal number of iterations\n",
    "        verbose  – (`True`) prints the iterates if set to true\n",
    "    Output:\n",
    "        x, k – the found root and the number of iterations needed\n",
    "               to get to this point\n",
    "    \"\"\"\n",
    "    x = x0\n",
    "    verbose and print('k ={:3d}, x = {:18.15f}, f(x) = {:10.3e}'.format(0, x, f(x)))\n",
    "    for k in range(max_iter):\n",
    "        fx = f(x)\n",
    "        if abs(fx) < tol:           # Accept the solution \n",
    "            verbose and print('The function value {:1.5e} is below the tolerance ({:1.5e})'.format(fx,tol))\n",
    "            break \n",
    "        x = x - fx/dfdx(x)            # Newton-iteration\n",
    "        verbose and print('k ={:3d}, x = {:18.15f}, f(x) = {:10.3e}'.format(k+1, x, f(x)))\n",
    "    return x, k+1"
   ]
  },
  {
   "cell_type": "code",
   "execution_count": 28,
   "id": "1f5798bf",
   "metadata": {},
   "outputs": [
    {
     "name": "stdout",
     "output_type": "stream",
     "text": [
      "k =  0, x =  1.333333333333333, f(x) = -7.648e-01\n",
      "k =  1, x =  0.889204409699372, f(x) = -3.687e-02\n",
      "k =  2, x =  0.865050108775147, f(x) = -1.856e-04\n",
      "k =  3, x =  0.864927283779938, f(x) = -4.893e-09\n",
      "The function value -4.89263e-09 is below the tolerance (1.00000e-06)\n",
      "\n",
      "Result:\n",
      "x=0.8649272837799377, number of iterations=4\n"
     ]
    }
   ],
   "source": [
    "theta0 = 4/3\n",
    "\n",
    "#Define f and f'\n",
    "def f(theta):                  \n",
    "    return cos(theta) - 3/4 * theta\n",
    "\n",
    "def dfdx(theta):                  \n",
    "    return -sin(theta) - 3/4\n",
    "\n",
    "\n",
    "x, nit = Newton(f, dfdx, theta0, tol=1e-6, max_iter=30)\n",
    "print('\\nResult:\\nx={}, number of iterations={}'.format(x, nit))"
   ]
  },
  {
   "cell_type": "markdown",
   "id": "e9becd46",
   "metadata": {},
   "source": [
    "And we get a result smaller than the the linearised one, with an absolute difference of $|\\frac{4}{3}-0.864| \\approx 0.469$ radians."
   ]
  }
 ],
 "metadata": {
  "kernelspec": {
   "display_name": "Python 3 (ipykernel)",
   "language": "python",
   "name": "python3"
  },
  "language_info": {
   "codemirror_mode": {
    "name": "ipython",
    "version": 3
   },
   "file_extension": ".py",
   "mimetype": "text/x-python",
   "name": "python",
   "nbconvert_exporter": "python",
   "pygments_lexer": "ipython3",
   "version": "3.9.12"
  }
 },
 "nbformat": 4,
 "nbformat_minor": 5
}

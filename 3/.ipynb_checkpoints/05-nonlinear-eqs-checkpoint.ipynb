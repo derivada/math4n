{
 "cells": [
  {
   "cell_type": "markdown",
   "id": "ed12d283",
   "metadata": {},
   "source": [
    "# Numerical methods for non-linear algebraic equations\n",
    "\n",
    "TMA4130 Autumn 2022"
   ]
  },
  {
   "cell_type": "code",
   "execution_count": 6,
   "id": "99d4deb8",
   "metadata": {},
   "outputs": [],
   "source": [
    "import numpy as np\n",
    "import matplotlib.pyplot as plt\n",
    "from numpy.linalg import solve, norm\n",
    "from numpy import cos, sin\n",
    "import math"
   ]
  },
  {
   "cell_type": "markdown",
   "id": "8f68873f",
   "metadata": {},
   "source": [
    "## Fixed-point iterations\n",
    "\n",
    "Let's use different fixed-point iterations to find the real root of the polynomial $f(x) = 2x^3-x^2+2x-1$"
   ]
  },
  {
   "cell_type": "code",
   "execution_count": 7,
   "id": "9bed6ed8",
   "metadata": {},
   "outputs": [],
   "source": [
    "def fixed_point(g, x0, tol = 1.0e-10, max_iter=20, verbose=True):\n",
    "    \"\"\"\n",
    "        fixed_point(f, x0, tol, max_iter, verbose)\n",
    "    \n",
    "    Solve the scalar equations x = g(x) using fixed-point iterations.\n",
    "    \n",
    "    Input:\n",
    "        g    - the function g(x)\n",
    "        x0   - initial guess\n",
    "    Optional (keyword) parameters\n",
    "        tol      - (`1.0e-10`) a tolerance when to stop (maximal movement in a compontent of $\\mathbf f(\\mathbf x^{(k)})$ is less than this tolerance)\n",
    "        max_iter - (`20`) the maximal number of iterations\n",
    "        verbose  – (`True`) prints the iterates if set to true\n",
    "    Output:\n",
    "        x, k – the found root and the number of iterations needed\n",
    "               to get to this point\n",
    "    \"\"\"\n",
    "    x = x0\n",
    "    err = 10*tol\n",
    "    verbose and print('k ={:3d}, x = '.format(0), x)\n",
    "    for k in range(max_iter):\n",
    "        x_old = x\n",
    "        if err < tol: \n",
    "            break\n",
    "        x = g(x)           \n",
    "        verbose and print('k ={:3d}, x = '.format(k+1), x)\n",
    "        err = abs(x-x_old)\n",
    "    return x, k"
   ]
  },
  {
   "cell_type": "markdown",
   "id": "6656c679",
   "metadata": {},
   "source": [
    "We will start from $x^{(0)}=0.9$, and iterate until reaching a tolerance of $10^{-6}$:"
   ]
  },
  {
   "cell_type": "code",
   "execution_count": 8,
   "id": "7825f3f3",
   "metadata": {
    "scrolled": false
   },
   "outputs": [
    {
     "ename": "SyntaxError",
     "evalue": "invalid syntax (1578692486.py, line 2)",
     "output_type": "error",
     "traceback": [
      "\u001b[1;36m  Input \u001b[1;32mIn [8]\u001b[1;36m\u001b[0m\n\u001b[1;33m    x0 =  # (!) enter the initial guess here\u001b[0m\n\u001b[1;37m          ^\u001b[0m\n\u001b[1;31mSyntaxError\u001b[0m\u001b[1;31m:\u001b[0m invalid syntax\n"
     ]
    }
   ],
   "source": [
    "#Define solver settings\n",
    "x0 =  # (!) enter the initial guess here \n",
    "maxIterations = 100 # maximum number of iterations\n",
    "tol =  # (!) enter the tolerance here\n",
    "\n",
    "\n",
    "def g(x): \n",
    "    # (!) enter the definition of the function g(x) for the fixed-point iterations x^{k+1} = g(x^k)\n",
    "    return g\n",
    "\n",
    "\n",
    "# Apply the fixed-point method\n",
    "x, nIt = fixed_point(g, x0, tol, maxIterations)\n",
    "  \n",
    "if nIt == maxIterations:\n",
    "    printf('Warning: Convergence was not achieved')\n",
    "else:\n",
    "    print(x)"
   ]
  },
  {
   "cell_type": "markdown",
   "id": "d5b34e76",
   "metadata": {},
   "source": [
    "## Newton's method\n",
    "\n",
    "We will now use Newton's method to solve the nonlinear equation\n",
    "  \\begin{align*}\n",
    "    f(\\theta) = \\cos\\theta - \\alpha\\theta = 0\\, ,\n",
    "    \\end{align*}\n",
    "with $\\alpha$ being a given constant."
   ]
  },
  {
   "cell_type": "code",
   "execution_count": 4,
   "id": "90283240",
   "metadata": {},
   "outputs": [],
   "source": [
    "def Newton(f, dfdx, x0, tol=1.e-8, max_iter=30, verbose=True):\n",
    "    \"\"\"\n",
    "        Newton(f, dfdx, x0, tol=1.e-8, max_iter=30, verbose=True):\n",
    "    \n",
    "    Solve $f(x) = 0$ by Newtons method.\n",
    "    \n",
    "    Input:\n",
    "        f    - the function f\n",
    "      dfdx   - the derivative of f\n",
    "        x0   - initial value\n",
    "    Optional (keyword) parameters\n",
    "        tol      - (`1.0e-8`) a tolerance when to stop\n",
    "        max_iter - (`30`) the maximal number of iterations\n",
    "        verbose  – (`True`) prints the iterates if set to true\n",
    "    Output:\n",
    "        x, k – the found root and the number of iterations needed\n",
    "               to get to this point\n",
    "    \"\"\"\n",
    "    x = x0\n",
    "    verbose and print('k ={:3d}, x = {:18.15f}, f(x) = {:10.3e}'.format(0, x, f(x)))\n",
    "    for k in range(max_iter):\n",
    "        fx = f(x)\n",
    "        if abs(fx) < tol:           # Accept the solution \n",
    "            verbose and print('The function value {:1.5e} is below the tolerance ({:1.5e})'.format(fx,tol))\n",
    "            break \n",
    "        x = x - fx/dfdx(x)            # Newton-iteration\n",
    "        verbose and print('k ={:3d}, x = {:18.15f}, f(x) = {:10.3e}'.format(k+1, x, f(x)))\n",
    "    return x, k+1"
   ]
  },
  {
   "cell_type": "markdown",
   "id": "75ffe85e",
   "metadata": {},
   "source": [
    "### Iterations\n",
    "\n",
    "To reach the tolerance of $10^{-6}$, we have to perform a few iterations. The following routine can be used:"
   ]
  },
  {
   "cell_type": "code",
   "execution_count": 5,
   "id": "1f5798bf",
   "metadata": {},
   "outputs": [
    {
     "ename": "SyntaxError",
     "evalue": "invalid syntax (150301298.py, line 1)",
     "output_type": "error",
     "traceback": [
      "\u001b[1;36m  Input \u001b[1;32mIn [5]\u001b[1;36m\u001b[0m\n\u001b[1;33m    alpha = # (!) enter the value of alpha here\u001b[0m\n\u001b[1;37m            ^\u001b[0m\n\u001b[1;31mSyntaxError\u001b[0m\u001b[1;31m:\u001b[0m invalid syntax\n"
     ]
    }
   ],
   "source": [
    "alpha = # (!) enter the value of alpha here\n",
    "theta0 = 1/alpha # (linearised) initial guess\n",
    "\n",
    "#Define f and f'\n",
    "def f(theta):                  \n",
    "    return # (!) enter the definition of the function f(theta) here\n",
    "\n",
    "def dfdx(theta):                  \n",
    "    return # (!) enter the definition of the derivative f'(theta) here\n",
    "\n",
    "\n",
    "x, nit = Newton(f, dfdx, theta0, tol=1e-6, max_iter=30)\n",
    "print('\\nResult:\\nx={}, number of iterations={}'.format(x, nit))"
   ]
  }
 ],
 "metadata": {
  "kernelspec": {
   "display_name": "Python 3 (ipykernel)",
   "language": "python",
   "name": "python3"
  },
  "language_info": {
   "codemirror_mode": {
    "name": "ipython",
    "version": 3
   },
   "file_extension": ".py",
   "mimetype": "text/x-python",
   "name": "python",
   "nbconvert_exporter": "python",
   "pygments_lexer": "ipython3",
   "version": "3.9.12"
  }
 },
 "nbformat": 4,
 "nbformat_minor": 5
}

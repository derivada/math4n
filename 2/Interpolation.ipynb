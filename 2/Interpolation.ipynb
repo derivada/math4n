{
 "cells": [
  {
   "cell_type": "markdown",
   "metadata": {},
   "source": [
    "<!-- dom:TITLE: Interpolation  -->\n",
    "# Interpolation \n",
    "<!-- dom:AUTHOR: Anne Kværnø, Markus Grasmair -->\n",
    "<!-- Author: -->  \n",
    "**Anne Kværnø, Markus Grasmair**\n",
    "\n",
    "Date: **Sep 2, 2022**"
   ]
  },
  {
   "cell_type": "code",
   "execution_count": 1,
   "metadata": {},
   "outputs": [],
   "source": [
    "%matplotlib inline\n",
    "\n",
    "import numpy as np\n",
    "from numpy.linalg import solve, norm    # Solve linear systems and compute norms\n",
    "import matplotlib.pyplot as plt\n",
    "from scipy import interpolate\n",
    "newparams = {'figure.figsize': (8.0, 4.0), 'axes.grid': True,\n",
    "             'lines.markersize': 8, 'lines.linewidth': 2,\n",
    "             'font.size': 14}\n",
    "plt.rcParams.update(newparams)"
   ]
  },
  {
   "cell_type": "markdown",
   "metadata": {},
   "source": [
    "If you want to have a nicer theme for your jupyter notebook,\n",
    "download the [cascade stylesheet file tma4320.css](https://www.math.ntnu.no/emner/TMA4320/2022v/notebooks/tma4320.css)\n",
    "and execute the next cell:"
   ]
  },
  {
   "cell_type": "code",
   "execution_count": 2,
   "metadata": {},
   "outputs": [],
   "source": [
    "from IPython.core.display import HTML\n",
    "def css_styling():\n",
    "    styles = open(\"tma4320.css\", \"r\").read()\n",
    "    return HTML(styles)\n",
    "\n",
    "# Comment out next line and execute this cell to restore the default notebook style \n",
    "css_styling();"
   ]
  },
  {
   "cell_type": "markdown",
   "metadata": {},
   "source": [
    "# Introduction\n",
    "\n",
    "In this chapter, we will discuss the problem of approximating a function $f$\n",
    "on some bounded interval $x \\in [a,b]$ by a simpler function $p$.\n",
    "This problem comes in two flavours that are similar enough to be treated\n",
    "in a unified way.\n",
    "\n",
    "The first flavour is the case where the function $f$ is only given implicitly,\n",
    "or has a very complicated form that is not useful for practical considerations.\n",
    "<!-- Add an example -->\n",
    "In this case, one possibility for approximating the function is to choose\n",
    "distinct points $x_i \\in [a,b]$ and compute $y_i := f(x_i)$.\n",
    "Then we try to find a simpler function $p$ on $[a,b]$ such that $p(x_i) = y_i$\n",
    "for all $x_i$.\n",
    "\n",
    "The second flavour of the approximation problem is the setting where the\n",
    "function $f$ itself is unknown, and only distinct measurement data $y_i = f(x_i)$ of the\n",
    "function at points $x_i$ are available.\n",
    "In contrast to the first flavour, we are here typically not free to choose\n",
    "the placement of the measurement points $x_i$ or their number.\n",
    "\n",
    "Still, we end up in both cases with the problem\n",
    "\n",
    "**Interpolation problem.**\n",
    "\n",
    "Given $n+1$ points $(x_i,y_i)_{i=0}^n$. Find a function $p(x)$ out of a given class of functions\n",
    "satisfying the *interpolation condition*"
   ]
  },
  {
   "cell_type": "markdown",
   "metadata": {},
   "source": [
    "<!-- Equation labels as ordinary links -->\n",
    "<div id=\"eq:intcond\"></div>\n",
    "\n",
    "$$\n",
    "\\begin{equation} \n",
    "    \\label{eq:intcond} \\tag{1}\n",
    "    p(x_i) = y_i,\\qquad i=0,\\dotsc, n. \n",
    "\\end{equation}\n",
    "$$"
   ]
  },
  {
   "cell_type": "markdown",
   "metadata": {},
   "source": [
    "The solution $p(x)$ is called the *interpolator*, the $x_i$ values\n",
    "are called *nodes*, and the points $(x_i,y_i)$ *interpolation points*.\n",
    "\n",
    "\n",
    "\n",
    "**Example 1:** \n",
    "We are given the points"
   ]
  },
  {
   "cell_type": "markdown",
   "metadata": {},
   "source": [
    "$$\n",
    "\\begin{array}{c|c|c|c}\n",
    "x_i & 0 & 2/3 & 1 \\\\ \\hline\n",
    "y_i & 1 & 1/2 & 0 \n",
    "\\end{array},\n",
    "$$"
   ]
  },
  {
   "cell_type": "markdown",
   "metadata": {},
   "source": [
    "which we want to approximate with a quadratic polynomial $p$.\n",
    "The resulting interpolation polynomial can be computed as"
   ]
  },
  {
   "cell_type": "markdown",
   "metadata": {},
   "source": [
    "$$\n",
    "p(x)=(-3x^2-x+4)/4.\n",
    "$$"
   ]
  },
  {
   "cell_type": "markdown",
   "metadata": {},
   "source": [
    "The $y$-values of this example are chosen such that $y_i=\\cos{(\\pi x_i/2)}$.  So\n",
    "$p_2(x)$ can be considered as an approximation to $\\cos{(\\pi x/2)}$ on the interval\n",
    "$[0,1]$ by a quadratic polynomial."
   ]
  },
  {
   "cell_type": "code",
   "execution_count": 3,
   "metadata": {},
   "outputs": [
    {
     "data": {
      "image/png": "[encoded data removed]",
      "text/plain": [
       "<Figure size 576x288 with 1 Axes>"
      ]
     },
     "metadata": {
      "needs_background": "light"
     },
     "output_type": "display_data"
    }
   ],
   "source": [
    "    # Example 1\n",
    "    xdata = [0,2/3., 1]                    # Interpolation data\n",
    "    ydata = [1, 1/2., 0]\n",
    "    x = np.linspace(0,1,100)               # Gridpoints for plotting\n",
    "    p2 = (-3*x**2-x+4)/4                   # Interpolation polynomial\n",
    "    f = np.cos(np.pi*x/2)                  # Original function\n",
    "    plt.plot(x, f, 'c', x, p2, 'm', xdata, ydata, \"ok\")\n",
    "    plt.legend(['$\\cos(\\pi x/2)$', '$p_2(x)$', 'Interpolation data']);"
   ]
  },
  {
   "cell_type": "markdown",
   "metadata": {},
   "source": [
    "### Content of this note\n",
    "\n",
    "In this note, we will consider the cases of polynomial interpolation\n",
    "and spline interpolation.\n",
    "\n",
    "For polynomial interpolation, we will discuss the following:\n",
    "* Method: How to compute the polynomials?\n",
    "\n",
    "* Existence and uniqueness results. \n",
    "\n",
    "* Error analysis: If the polynomial is used to approximate a function, how good is the approximation?\n",
    "\n",
    "* Improvements: If the nodes $x_i$ can be chosen freely, how should we do it in order to reduce the error? \n",
    "\n",
    "For splines we will discuss:\n",
    "* What are splines?\n",
    "\n",
    "* Implementation and usage in Python.\n",
    "\n",
    "# Polynomial Interpolation\n",
    "\n",
    "Let us start with some useful notation and facts about polynomials.  \n",
    "* A polynomial of degree $n$ is given by"
   ]
  },
  {
   "cell_type": "markdown",
   "metadata": {},
   "source": [
    "<!-- Equation labels as ordinary links -->\n",
    "<div id=\"eq:polynomial\"></div>\n",
    "\n",
    "$$\n",
    "\\begin{equation} \\label{eq:polynomial} \\tag{2}\n",
    " p_n(x) = c_{n}x^n + c_{n-1}x^{n-1} + \\cdots + c_1 x_1 + c_0, \\qquad  c_i \\in\n",
    "\\mathbb{R}, \\quad i=0,1,\\dotsc,n, \\text{ with } c_n\\not=0.\n",
    "\\end{equation}\n",
    "$$"
   ]
  },
  {
   "cell_type": "markdown",
   "metadata": {},
   "source": [
    "* $\\mathbb{P}_n$ is the set of all polynomials of degree at most $n$. \n",
    "\n",
    "* $C^m[a,b]$ is the vector space of all continuous functions that have continuous first $m$ derivatives.\n",
    "\n",
    "* The value $r$ is a *root* or a *zero* of a polynomial $p$ if $p(r)=0$.\n",
    "\n",
    "* A nonzero polynomial of degree $n$ can never have more than $n$ roots in $\\mathbb{R}$ (there may be fewer).  \n",
    "\n",
    "* A polynomial of degree $n$ with $n$ real roots $r_1,r_2,\\dotsc,r_n$ can be written as"
   ]
  },
  {
   "cell_type": "markdown",
   "metadata": {},
   "source": [
    "$$\n",
    "p_n(x) = c(x-r_1)(x-r_2)\\dotsm(x-r_n) = c_n\\prod_{i=1}^n(x-r_i).\n",
    "$$"
   ]
  },
  {
   "cell_type": "markdown",
   "metadata": {},
   "source": [
    "## Methods\n",
    "In this section, we present three techniques for finding the interpolation polynomial for a given set of data. \n",
    "\n",
    "### The direct approach\n",
    "\n",
    "For a polynomial of degree $n$ the interpolation condition ([1](#eq:intcond)) is a linear systems of \n",
    "$n+1$ equations in $n+1$ unknowns:"
   ]
  },
  {
   "cell_type": "markdown",
   "metadata": {},
   "source": [
    "$$\n",
    "\\sum_{i=0}^n x_j^i c_i = y_j, \\qquad j=0,\\dotsc, n.\n",
    "$$"
   ]
  },
  {
   "cell_type": "markdown",
   "metadata": {},
   "source": [
    "If we are basically interested in the polynomials themself, given by the coefficients\n",
    "$c_i$, $i=0,1,\\dotsc, n$, this is a perfectly fine solution.\n",
    "It is also the strategy implemented in Python's interpolation routines\n",
    "within the *polynomial* package (see \"https://numpy.org/doc/stable/reference/routines.polynomials.html\").\n",
    "\n",
    "\n",
    "**Example 2:**\n",
    "Given the points"
   ]
  },
  {
   "cell_type": "markdown",
   "metadata": {},
   "source": [
    "$$\n",
    "\\begin{array}{c|ccccc}\n",
    "x_i & 0 & 1 & 3 & 4 & 7\\\\ \\hline y_i & 3 & 8 & 6 & -1 & 2\n",
    "\\end{array},\n",
    "$$"
   ]
  },
  {
   "cell_type": "markdown",
   "metadata": {},
   "source": [
    "calculate the interpolation polynomial by using the function\n",
    "*Polynomial.fit* within the *polynomial* package in *numpy*,\n",
    "and plot the result."
   ]
  },
  {
   "cell_type": "code",
   "execution_count": 9,
   "metadata": {},
   "outputs": [
    {
     "name": "stdout",
     "output_type": "stream",
     "text": [
      "2.999999999999989 + 6.5833333333334 x**1 - 1.2777777777778125 x**2 -\n",
      "0.36111111111110544 x**3 + 0.05555555555555527 x**4\n"
     ]
    },
    {
     "data": {
      "image/png": "[encoded data removed]",
      "text/plain": [
       "<Figure size 576x288 with 1 Axes>"
      ]
     },
     "metadata": {
      "needs_background": "light"
     },
     "output_type": "display_data"
    }
   ],
   "source": [
    "# Example 2\n",
    "\n",
    "# Define the interpolation points\n",
    "xdata = [0,1,3,4,7]\n",
    "ydata = [3,8,6,0,-4]\n",
    "# Find the degree of the interpolation polynomial\n",
    "# (that is, one less than the number of interpolation points)\n",
    "n = np.size(xdata) - 1\n",
    "\n",
    "# Set the interval\n",
    "a, b = 0, 7                        # The interpolation interval\n",
    "x = np.linspace(a, b, 101)         # The 'x-axis'\n",
    "\n",
    "# Compute the interpolation polynomial using built in numpy functions\n",
    "p = np.polynomial.Polynomial.fit(xdata,ydata,n)\n",
    "\n",
    "# Output the polynomial\n",
    "print(p.convert())\n",
    "\n",
    "plt.plot(x, p(x))                  # Plot the polynomial\n",
    "plt.plot(xdata, ydata, 'o')        # Plot the interpolation points \n",
    "plt.title('The interpolation polynomial p(x)')\n",
    "plt.xlabel('x');"
   ]
  },
  {
   "cell_type": "markdown",
   "metadata": {},
   "source": [
    "If we actually want to solve this problem by hand, we have to solve\n",
    "the following linear system:"
   ]
  },
  {
   "cell_type": "markdown",
   "metadata": {},
   "source": [
    "$$\n",
    "\\begin{align*}\n",
    "c_0  &= 0,\\\\ \n",
    "c_0 + c_1 + c_2 + c_3 + c_4 &= 8,\\\\ \n",
    "c_0 + 3c_1 + 9c_2 + 27c_3 + 81c_4 &= 3,\\\\ \n",
    "c_0 + 4c_1 + 16c_2 + 64c_3 + 256c_4 &= -1,\\\\ \n",
    "c_0 + 7c_1 + 49c_2 + 343c_3 + 2401c_4 &= 2.\n",
    "\\end{align*}\n",
    "$$"
   ]
  },
  {
   "cell_type": "markdown",
   "metadata": {},
   "source": [
    "We obtain this system by inserting the given points $(x_i,y_i)$\n",
    "into the interpolation condition"
   ]
  },
  {
   "cell_type": "markdown",
   "metadata": {},
   "source": [
    "$$\n",
    "c_0 + c_1 x + c_2 x^2 + c_3 x^3 + c_4 x^4 = y.\n",
    "$$"
   ]
  },
  {
   "cell_type": "markdown",
   "metadata": {},
   "source": [
    "Written in matrix-vector form, the system becomes"
   ]
  },
  {
   "cell_type": "markdown",
   "metadata": {},
   "source": [
    "$$\n",
    "\\begin{pmatrix}\n",
    "1 & 0 & 0 & 0 & 0 \\\\ \n",
    "1 & 1 & 1 & 1 & 1 \\\\ \n",
    "1 & 3 & 9 & 27 & 81 \\\\ \n",
    "1 & 4 & 16 & 64 & 256 \\\\ \n",
    "1 & 7 & 49 & 343 & 2401\n",
    "\\end{pmatrix}\n",
    "\\begin{pmatrix}\n",
    "c_0 \\\\ c_1 \\\\ c_2 \\\\ c_3 \\\\ c_4\n",
    "\\end{pmatrix}\n",
    "=\n",
    "\\begin{pmatrix}\n",
    "0 \\\\ 8 \\\\ 3 \\\\ -1 \\\\ 2\n",
    "\\end{pmatrix}.\n",
    "$$"
   ]
  },
  {
   "cell_type": "markdown",
   "metadata": {},
   "source": [
    "As we can see already from this matrix, the involved numbers become large rather rapidly\n",
    "as the number of points and the degree of the polynomial increase.\n",
    "\n",
    "The system becomes even worse if we move the points in this example by 100 to the right,\n",
    "that is, if we want to interpolate the points"
   ]
  },
  {
   "cell_type": "markdown",
   "metadata": {},
   "source": [
    "$$\n",
    "\\begin{array}{c|ccccc}\n",
    "x_i & 100 & 101 & 103 & 104 & 107\\\\ \\hline y_i & 3 & 8 & 6 & -1 & 2\n",
    "\\end{array}\n",
    "$$"
   ]
  },
  {
   "cell_type": "markdown",
   "metadata": {},
   "source": [
    "instead. In this case, the entry in the fifth column and fifth row\n",
    "of the resulting matrix would be $107^4 = 131079601$.\n",
    "In fact, it is not possible to perform any sensible numerical computations with this matrix:\n",
    "rounding errors at the level of the machine accuracy will be amplified massively\n",
    "and will actually influence the numerical solution of the linear system\n",
    "in a noticeable manner\n",
    "(in technical terms, we have that the resulting matrix is *ill-conditioned*).\n",
    "Thus, we have to modify our approach somewhat.\n",
    "\n",
    "Fortunately, there is a rather straightforward way of mitigating\n",
    "some of these problems:\n",
    "We can move the interpolation points ourselves into a \"nicer\" interval,\n",
    "for instance the interval $[-1,1]$.\n",
    "To that end, we define $a := \\min_i x_i$ and $b := \\max_i x_i$\n",
    "and use the shift of variables"
   ]
  },
  {
   "cell_type": "markdown",
   "metadata": {},
   "source": [
    "$$\n",
    "x_i = \\frac{a+b}{2} + t_i \\frac{b-a}{2}\n",
    "$$"
   ]
  },
  {
   "cell_type": "markdown",
   "metadata": {},
   "source": [
    "or"
   ]
  },
  {
   "cell_type": "markdown",
   "metadata": {},
   "source": [
    "$$\n",
    "t_i = \\frac{2}{b-a}x_i - \\frac{b+a}{b-a}.\n",
    "$$"
   ]
  },
  {
   "cell_type": "markdown",
   "metadata": {},
   "source": [
    "This moves all the nodes $x_i$ into the interval $[-1,1]$.\n",
    "Then we can compute the interpolation polynomial $q$ through the\n",
    "points $(t_i,y_i)_{i=0}^n$.\n",
    "Since all the nodes lie between $-1$ and $+1$,\n",
    "all the entries in the required matrix (all of which are\n",
    "powers of the nodes) lie between $-1$ and $+1$ as well.\n",
    "From the polynomial $q$, we can then, if we want to, get back\n",
    "to an interpolation polynomial $p$ through the points $(x_i,y_i)_{i=0}^n$\n",
    "by reversing the shift of variables:"
   ]
  },
  {
   "cell_type": "markdown",
   "metadata": {},
   "source": [
    "$$\n",
    "p(x) = q(t) = q \\Bigl(\\frac{2}{b-a}x - \\frac{b+a}{b-a}\\Bigr).\n",
    "$$"
   ]
  },
  {
   "cell_type": "markdown",
   "metadata": {},
   "source": [
    "This strategy of moving the interpolation points to $[-1,1]$ is also implemented\n",
    "in *numpy*. Calling the function *Polynomial.polynomial.fit* actually results\n",
    "in the computation of the polynomial $q$. In order to move the polynomial\n",
    "back to the original interval, we have to use the method *convert*.\n",
    "\n",
    "\n",
    "\n",
    "### Lagrange interpolation\n",
    "\n",
    "In this course, polynomial interpolation will be used as a basic tool to\n",
    "construct other algorithms, in particular for integration.\n",
    "In that case, the direct approach is not the most convenient option,\n",
    "so we concentrate on a different strategy,\n",
    "which essentially makes it possible to just write up the polynomials. \n",
    "\n",
    "For $n+1$ points $x_i$, $i = 0,\\ldots,n$, with distinct values $x_i \\neq x_j$ if $i \\neq j$,\n",
    "the associated *cardinal functions* are defined by:"
   ]
  },
  {
   "cell_type": "markdown",
   "metadata": {},
   "source": [
    "$$\n",
    "\\ell_i(x) = \\prod_{j=0,j\\not=i}^n \\frac{x-x_j}{x_i-x_j}\n",
    "  = \\frac{x-x_0}{x_i-x_0} \\dotsm \\frac{x-x_{i-1}}{x_i-x_{i-1}}\\cdot \\frac{x-x_{i+1}}{x_i-x_{i+1}} \\dotsm \\frac{x-x_n}{x_i-x_n} , \\qquad i=0,\\dotsc,n.\n",
    "$$"
   ]
  },
  {
   "cell_type": "markdown",
   "metadata": {},
   "source": [
    "The cardinal functions have the following properties:\n",
    "* $\\ell_i \\in \\mathbb{P}_n$, $i=0,1,\\ldots,n$.\n",
    "\n",
    "* $\\ell_i(x_j) = \\delta_{ij} = \\begin{cases} 1, & \\text{when } i=j \\\\ 0, & \\text{when }i\\not=j \\end{cases}$.\n",
    "\n",
    "* They are linearly independent, and thus form a basis for $\\mathbb{P}_{n}$.\n",
    "\n",
    "Assume now that we are given points $(x_i,y_i)_{i=0}^n$,\n",
    "again with distinct $x_i$ values.\n",
    "The interpolation polynomial is then given by"
   ]
  },
  {
   "cell_type": "markdown",
   "metadata": {},
   "source": [
    "$$\n",
    "p_n(x) = \\sum_{i=0}^n y_i \\ell_i(x),\n",
    "$$"
   ]
  },
  {
   "cell_type": "markdown",
   "metadata": {},
   "source": [
    "as"
   ]
  },
  {
   "cell_type": "markdown",
   "metadata": {},
   "source": [
    "$$\n",
    "p_n(x_j) = \\sum_{i=0}^n y_i \\ell_i(x_j) = y_j, \\qquad j=0,\\dotsc,n.\n",
    "$$"
   ]
  },
  {
   "cell_type": "markdown",
   "metadata": {},
   "source": [
    "**Example 3:**\n",
    "We are given the points"
   ]
  },
  {
   "cell_type": "markdown",
   "metadata": {},
   "source": [
    "$$\n",
    "\\begin{array}{c|ccc}\n",
    "x_i & 0 & 1 & 3 \\\\ \\hline y_i & 3 & 8 & 6\n",
    "\\end{array}.\n",
    "$$"
   ]
  },
  {
   "cell_type": "markdown",
   "metadata": {},
   "source": [
    "The corresponding cardinal functions are"
   ]
  },
  {
   "cell_type": "markdown",
   "metadata": {},
   "source": [
    "$$\n",
    "\\begin{align*}\n",
    "  \\ell_0(x) & = \\frac{(x-1)(x-3)}{(0-1)(0-3)}\n",
    "           = \\frac{1}{3}x^2-\\frac{4}{3}x+1 \\\\ \n",
    "  \\ell_1(x) & = \\frac{(x-0)(x-3)}{(1-0)(1-3)}\n",
    "           = -\\frac12 x^2 + \\frac32 x \\\\ \n",
    "  \\ell_2(x) &= \\frac{(x-0)(x-1)}{(3-0)(3-1)} = \\frac16 x^2-\\frac16 x\n",
    "\\end{align*}\n",
    "$$"
   ]
  },
  {
   "cell_type": "markdown",
   "metadata": {},
   "source": [
    "and the interpolation polynomial is given by (check it yourself):"
   ]
  },
  {
   "cell_type": "markdown",
   "metadata": {},
   "source": [
    "$$\n",
    "p_2(x) = 3 \\ell_0(x) + 8 \\ell_1(x) + 6 \\ell_2(x) = -2x^2 + 7x + 3.\n",
    "$$"
   ]
  },
  {
   "cell_type": "markdown",
   "metadata": {},
   "source": [
    "<!-- ===== Implementation ===== -->\n",
    "The method above is implemented as two functions:\n",
    "* `cardinal(xdata, x)`: Create a list of cardinal functions $\\ell_i(x)$ evaluated in $x$.\n",
    "\n",
    "* `lagrange(ydata, l)`: Create the interpolation polynomial $p_n(x)$.\n",
    "\n",
    "Here, `xdata` and `ydata` are arrays with the interpolation points, and `x` is an \n",
    "array of values in which the polynomials are evaluated. \n",
    "\n",
    "You are not required to understand the implementation of these functions, but you should understand how to use them."
   ]
  },
  {
   "cell_type": "code",
   "execution_count": 34,
   "metadata": {},
   "outputs": [],
   "source": [
    "def cardinal(xdata, x):\n",
    "    \"\"\"\n",
    "    cardinal(xdata, x): \n",
    "    In: xdata, array with the nodes x_i.\n",
    "        x, array or a scalar of values in which the cardinal functions are evaluated.\n",
    "    Return: l: a list of arrays of the cardinal functions evaluated in x. \n",
    "    \"\"\"\n",
    "    n = len(xdata)              # Number of evaluation points x\n",
    "    l = []\n",
    "    for i in range(n):          # Loop over the cardinal functions\n",
    "        li = np.ones(len(x))\n",
    "        for j in range(n):      # Loop to make the product for l_i\n",
    "            if i is not j:\n",
    "                li = li*(x-xdata[j])/(xdata[i]-xdata[j])\n",
    "        l.append(li)            # Append the array to the list            \n",
    "    return l\n",
    "\n",
    "def lagrange(ydata, l):\n",
    "    \"\"\"\n",
    "    lagrange(ydata, l):\n",
    "    In: ydata, array of the y-values of the interpolation points.\n",
    "         l, a list of the cardinal functions, given by cardinal(xdata, x)\n",
    "    Return: An array with the interpolation polynomial. \n",
    "    \"\"\"\n",
    "    poly = 0                        \n",
    "    for i in range(len(ydata)):\n",
    "        poly = poly + ydata[i]*l[i]  \n",
    "    return poly"
   ]
  },
  {
   "cell_type": "markdown",
   "metadata": {},
   "source": [
    "**Example 4:**\n",
    "Test the functions on the interpolation points of Example 3."
   ]
  },
  {
   "cell_type": "code",
   "execution_count": 35,
   "metadata": {},
   "outputs": [
    {
     "data": {
      "image/png": "[encoded data removed]",
      "text/plain": [
       "<Figure size 576x288 with 1 Axes>"
      ]
     },
     "metadata": {
      "needs_background": "light"
     },
     "output_type": "display_data"
    }
   ],
   "source": [
    "# Example 4\n",
    "xdata = [0, 1, 3]               # The interpolation points\n",
    "ydata = [3, 8, 6]\n",
    "x = np.linspace(0, 3, 101)      # The x-values in which the polynomial is evaluated\n",
    "l = cardinal(xdata, x)          # Find the cardinal functions evaluated in x\n",
    "p = lagrange(ydata, l)          # Compute the polynomial evaluated in x\n",
    "plt.plot(x, p)                  # Plot the polynomial\n",
    "plt.plot(xdata, ydata, 'o')     # Plot the interpolation points \n",
    "plt.title('The interpolation polynomial p(x)')\n",
    "plt.xlabel('x');"
   ]
  },
  {
   "cell_type": "markdown",
   "metadata": {},
   "source": [
    "**Numerical exercises:**\n",
    "1. Plot the cardinal functions for the nodes of Example 1. \n",
    "\n",
    "2. Plot the interpolation polynomials for some points of your own choice."
   ]
  },
  {
   "cell_type": "code",
   "execution_count": 36,
   "metadata": {},
   "outputs": [
    {
     "data": {
      "image/png": "[encoded data removed]",
      "text/plain": [
       "<Figure size 576x288 with 1 Axes>"
      ]
     },
     "metadata": {
      "needs_background": "light"
     },
     "output_type": "display_data"
    },
    {
     "data": {
      "image/png": "[encoded data removed]",
      "text/plain": [
       "<Figure size 576x288 with 1 Axes>"
      ]
     },
     "metadata": {
      "needs_background": "light"
     },
     "output_type": "display_data"
    }
   ],
   "source": [
    "# Print cardinal functions for nodes in ex1\n",
    "legends = []\n",
    "plt.title(\"Lagrange Interpolation Cardinals\")\n",
    "plt.xlabel(\"x\")\n",
    "for i in range(len(l)):\n",
    "    plt.plot(x, l[i])\n",
    "    legends.append('Cardinal # {0}'.format(i))\n",
    "plt.legend(legends, loc= \"upper right\");\n",
    "plt.show()\n",
    "\n",
    "# Find interpolation polynomials for new points\n",
    "xdata2 = [1, 2, 3, 5, 8 ,13, 21]\n",
    "ydata2 = [6, 10, -2, -4, 0, 2, 10]\n",
    "x2 = np.linspace(1, 21, 101)\n",
    "l2 = cardinal(xdata2, x2)\n",
    "p2 = lagrange(ydata2, l2)\n",
    "plt.plot(x2, p2)                  # Plot the polynomial\n",
    "plt.plot(xdata2, ydata2, 'o')     # Plot the interpolation points \n",
    "plt.title('The interpolation polynomial p(x) for the new data')\n",
    "plt.xlabel('x');"
   ]
  },
  {
   "cell_type": "markdown",
   "metadata": {},
   "source": [
    "<!-- % if FORMAT in (\"latex\",\"pdflatex\"): -->\n",
    "<!-- \\newpage -->\n",
    "<!-- % endif -->\n",
    "\n",
    "### Newton Interpolation\n",
    "\n",
    "This is an alternative approach to find the interpolation polynomial.\n",
    "In the following, we will assume that $y_i=f(x_i)$ for some given function $f(x)$. \n",
    "\n",
    "Let $x_0,\\,x_1,\\ldots,x_n$ be $n+1$ distinct real numbers.\n",
    "The so-called *Newton form* of a polynomial of degree $n$ is an expansion of the form"
   ]
  },
  {
   "cell_type": "markdown",
   "metadata": {},
   "source": [
    "$$\n",
    "p_n(x)=\\sum_{i=0}^{n-1} c_{n-i}\\prod_{j=0}^{n-1-i}(x-x_j) + c_0,\n",
    "$$"
   ]
  },
  {
   "cell_type": "markdown",
   "metadata": {},
   "source": [
    "or more explicitly"
   ]
  },
  {
   "cell_type": "markdown",
   "metadata": {},
   "source": [
    "$$\n",
    "p_n(x)=c_n (x-x_0)(x-x_1)\\cdots(x-x_{n-1}) + c_{n-1}(x-x_0)(x-x_1)\\cdots(x-x_{n-2}) + \\cdots + c_1(x-x_0) + c_0.\n",
    "$$"
   ]
  },
  {
   "cell_type": "markdown",
   "metadata": {},
   "source": [
    "In the light of this form of writing a polynomial, the polynomial interpolation problem\n",
    "leads to the following observations:\n",
    "Let us start with a single node $x_0$, then $f(x_0)=p(x_0)=c_0$.\n",
    "We go one step further and consider two nodes $x_0$, $x_1$.\n",
    "Then we see that $f(x_0)=p(x_0)=c_0$ and $f(x_1)=p(x_1)=c_0 + c_1(x_1-x_0)$.\n",
    "The latter implies that the coefficient $c_1$ is given as"
   ]
  },
  {
   "cell_type": "markdown",
   "metadata": {},
   "source": [
    "$$\n",
    "c_1=\\frac{f(x_1)-f(x_0)}{x_1-x_0}.\n",
    "$$"
   ]
  },
  {
   "cell_type": "markdown",
   "metadata": {},
   "source": [
    "Given three nodes $x_0$, $x_1$, $x_2$, we obtain\n",
    "the coefficients $c_0$, $c_1$ as defined above, and from the equation"
   ]
  },
  {
   "cell_type": "markdown",
   "metadata": {},
   "source": [
    "$$\n",
    "f(x_2)=p_n(x_2)=c_0 +  c_1(x_2-x_0) +  c_2(x_2-x_0)(x_2-x_1)\n",
    "$$"
   ]
  },
  {
   "cell_type": "markdown",
   "metadata": {},
   "source": [
    "we deduce the coefficient"
   ]
  },
  {
   "cell_type": "markdown",
   "metadata": {},
   "source": [
    "$$\n",
    "c_2=\\frac{f(x_2) - f(x_0) - \\frac{f(x_1)-f(x_0)}{x_1-x_0} (x_2-x_0)}{(x_2-x_0)(x_2-x_1)}.\n",
    "$$"
   ]
  },
  {
   "cell_type": "markdown",
   "metadata": {},
   "source": [
    "Playing with this quotient gives the much more structured expression"
   ]
  },
  {
   "cell_type": "markdown",
   "metadata": {},
   "source": [
    "$$\n",
    "c_2=\\frac{\\frac{f(x_2)-f(x_1)}{x_2-x_1} - \\frac{f(x_1)-f(x_0)}{x_1-x_0}}{(x_2-x_0)}.\n",
    "$$"
   ]
  },
  {
   "cell_type": "markdown",
   "metadata": {},
   "source": [
    "This procedure can be continued and yields a so-called triangular\n",
    "system that permits to define the remaining coefficients $c_3,\\ldots,c_n$.\n",
    "One sees quickly that the coefficient $c_k$ only depends on the\n",
    "interpolation points $(x_0,y_0),\\ldots,(x_k,y_k)$, where $y_i:=f(x_i)$, $i=0,\\ldots,n$.\n",
    "\n",
    "We introduce the following so-called finite difference notation for a function $f$.\n",
    "The 0th order finite difference is defined to be $f[x_0]:=f(x_0)$.\n",
    "The 1st order finite difference is"
   ]
  },
  {
   "cell_type": "markdown",
   "metadata": {},
   "source": [
    "$$\n",
    "f[x_0,x_1]:=\\frac{f(x_1)-f(x_0)}{x_1-x_0}.\n",
    "$$"
   ]
  },
  {
   "cell_type": "markdown",
   "metadata": {},
   "source": [
    "The second order finite difference is defined as"
   ]
  },
  {
   "cell_type": "markdown",
   "metadata": {},
   "source": [
    "$$\n",
    "f[x_0,x_1,x_2]:= \\frac{f[x_1,x_2] - f[x_0,x_1]}{x_2-x_0}.\n",
    "$$"
   ]
  },
  {
   "cell_type": "markdown",
   "metadata": {},
   "source": [
    "In general, the $k$th order finite difference of the function $f$ is defined to be"
   ]
  },
  {
   "cell_type": "markdown",
   "metadata": {},
   "source": [
    "$$\n",
    "f[x_0,\\ldots,x_k]:= \\frac{f[x_1,\\ldots,x_k] - f[x_0,\\ldots,x_{k-1}]}{x_k-x_0}.\n",
    "$$"
   ]
  },
  {
   "cell_type": "markdown",
   "metadata": {},
   "source": [
    "Newton's method to solve the polynomial interpolation problem can be summarized as follows:\n",
    "We are given $n+1$ interpolation points $(x_0,y_0),\\ldots,(x_n,y_n)$, $y_i:=f(x_i)$.\n",
    "If the order $n$ interpolation polynomial is expressed in Newton's form"
   ]
  },
  {
   "cell_type": "markdown",
   "metadata": {},
   "source": [
    "$$\n",
    "p_n(x)=c_n (x-x_0)(x-x_1)\\cdots(x-x_{n-1}) + c_{n-1}(x-x_0)(x-x_1)\\cdots(x-x_{n-2}) + \\cdots + c_1(x-x_0) + c_0,\n",
    "$$"
   ]
  },
  {
   "cell_type": "markdown",
   "metadata": {},
   "source": [
    "then the coefficients"
   ]
  },
  {
   "cell_type": "markdown",
   "metadata": {},
   "source": [
    "$$\n",
    "c_k = f[x_0,\\ldots,x_k]\n",
    "$$"
   ]
  },
  {
   "cell_type": "markdown",
   "metadata": {},
   "source": [
    "for $k=0,\\ldots,n$. In fact, a recursion is in place:"
   ]
  },
  {
   "cell_type": "markdown",
   "metadata": {},
   "source": [
    "$$\n",
    "p_n(x)=p_{n-1}(x) + f[x_0,\\ldots,x_n](x-x_0)(x-x_1)\\cdots(x-x_{n-1})\n",
    "$$"
   ]
  },
  {
   "cell_type": "markdown",
   "metadata": {},
   "source": [
    "It is common to write the finite differences in a table, which for $n=3$ will\n",
    "have the form"
   ]
  },
  {
   "cell_type": "markdown",
   "metadata": {},
   "source": [
    "$$\n",
    "\\begin{array}{c|cccc}\n",
    "x_0 & f[x_0] & \\\\ \n",
    "    &        & f[x_0,x_1] & \\\\ \n",
    "x_1 & f[x_1] &            & f[x_0,x_1,x_2] \\\\ \n",
    "    &        & f[x_1,x_2] &                & f[x_0,x_1,x_2, x_3] \\\\ \n",
    "x_2 & f[x_2] &            & f[x_1,x_2,x_3] \\\\ \n",
    "    &        & f[x_2,x_3] & \\\\ \n",
    "x_3 & f[x_3] \\\\ \n",
    "\\end{array}\n",
    "$$"
   ]
  },
  {
   "cell_type": "markdown",
   "metadata": {},
   "source": [
    "**Example 1 again:**\n",
    "We are given the points in Example 1. The corresponding table of divided differences\n",
    "becomes"
   ]
  },
  {
   "cell_type": "markdown",
   "metadata": {},
   "source": [
    "$$\n",
    "\\begin{array}{c|cccc}\n",
    "0 & 1 & \\\\ \n",
    "    &        & -3/4 & \\\\ \n",
    "2/3 & 1/2 &            &  -3/4 \\\\ \n",
    "    &        & -3/2 &   \\\\ \n",
    "1   & 0 &            \n",
    "\\end{array}\n",
    "$$"
   ]
  },
  {
   "cell_type": "markdown",
   "metadata": {},
   "source": [
    "and the interpolation polynomial becomes"
   ]
  },
  {
   "cell_type": "markdown",
   "metadata": {},
   "source": [
    "$$\n",
    "p_2(x) = 1 - \\frac{3}{4}(x-0)-\\frac{3}{4}(x-0)(x-\\frac23) =  1 - \\frac{1}{4}x -\n",
    "\\frac{3}{4} x^2.\n",
    "$$"
   ]
  },
  {
   "cell_type": "markdown",
   "metadata": {},
   "source": [
    "<!-- ===== Implementation ===== -->\n",
    "\n",
    "The method above is implemented as two functions:\n",
    "* `divdiff(xdata, ydata)`: Create the table of divided differences\n",
    "\n",
    "* `newtonInterpolation(F, xdata, x)`: Evaluate the interpolation polynomial.\n",
    "\n",
    "Here, `xdata` and `ydata` are arrays with the interpolation points, and `x` is an \n",
    "array of values in which the polynomial is evaluated."
   ]
  },
  {
   "cell_type": "code",
   "execution_count": 8,
   "metadata": {},
   "outputs": [],
   "source": [
    "def divdiff(xdata,ydata):\n",
    "    '''\n",
    "    Create the table of divided differences based\n",
    "    on the data in the arrays x_data and y_data. \n",
    "    '''\n",
    "    n = len(xdata)\n",
    "    F = np.zeros((n,n))\n",
    "    F[:,0] = ydata             # Array for the divided differences\n",
    "    for j in range(n):\n",
    "        for i in range(n-j-1):\n",
    "            F[i,j+1] = (F[i+1,j]-F[i,j])/(xdata[i+j+1]-xdata[i])\n",
    "    return F                    # Return all of F for inspection. \n",
    "                                # Only the first row is necessary for the\n",
    "                                # polynomial.\n",
    "\n",
    "def newton_interpolation(F, xdata, x):\n",
    "    # The Newton interpolation polynomial evaluated in x. \n",
    "    n, m = np.shape(F)\n",
    "    xpoly = np.ones(len(x))               # (x-x[0])(x-x[1])...\n",
    "    newton_poly = F[0,0]*np.ones(len(x))  # The Newton polynomial\n",
    "    for j in range(n-1):\n",
    "        xpoly = xpoly*(x-xdata[j])\n",
    "        newton_poly = newton_poly + F[0,j+1]*xpoly\n",
    "    return newton_poly"
   ]
  },
  {
   "cell_type": "markdown",
   "metadata": {},
   "source": [
    "Run the code on the example above:"
   ]
  },
  {
   "cell_type": "code",
   "execution_count": 9,
   "metadata": {},
   "outputs": [],
   "source": [
    "# Example: Use of divided differences and the Newton interpolation\n",
    "# formula. \n",
    "xdata = [0, 2/3, 1]\n",
    "ydata = [1, 1/2, 0]\n",
    "F = divdiff(xdata, ydata)       # The table of divided differences\n",
    "print('The table of divided differences:\\n',F)\n",
    "\n",
    "x = np.linspace(0, 1, 101)      # The x-values in which the polynomial is evaluated\n",
    "p = newton_interpolation(F, xdata, x)\n",
    "plt.plot(x, p)                  # Plot the polynomial\n",
    "plt.plot(xdata, ydata, 'o')     # Plot the interpolation points \n",
    "plt.title('The interpolation polynomial p(x)')\n",
    "plt.grid(True)\n",
    "plt.xlabel('x');"
   ]
  },
  {
   "cell_type": "markdown",
   "metadata": {},
   "source": [
    "## Theoretical Results\n",
    "\n",
    "\n",
    "### Existence and Uniqueness\n",
    "\n",
    "We have already proved the existence of such polynomials, simply by constructing\n",
    "them. But are they unique? The answer is yes! \n",
    "\n",
    "**Theorem: Existence and uniqueness of interpolation polynomials:**\n",
    "\n",
    "Given $n+1$ points $(x_i,y_i)_{i=0}^n$ with distinct $x$ values. Then there is\n",
    "one and only one polynomial $p_n(x) \\in \\mathbb{P}_n$ satisfying the\n",
    "interpolation condition"
   ]
  },
  {
   "cell_type": "markdown",
   "metadata": {},
   "source": [
    "$$\n",
    "p_n(x_i) = y_i, \\qquad i=0,\\dotsc, n.\n",
    "$$"
   ]
  },
  {
   "cell_type": "markdown",
   "metadata": {},
   "source": [
    "*Proof:* Suppose there exist two different interpolation polynomials $p_n$ and $q_n$ of\n",
    "degree $n$ interpolating the same $n+1$ points. The polynomial $r(x) = p_n(x)-q_n(x)$ is of degree $n$\n",
    "with zeros in all the nodes $x_i$, that is a total of $n+1$ zeros. But then\n",
    "$r\\equiv 0$, thus the two polynomials $p_n$ and $q_n$ are identical. \n",
    "\n",
    "### Error Analysis\n",
    "\n",
    "Given some function $f\\in C[a,b]$, choose $n+1$ distinct nodes in\n",
    "$[a,b]$ and let $p_n(x) \\in \\mathbb{P}_n$ satisfy the interpolation condition"
   ]
  },
  {
   "cell_type": "markdown",
   "metadata": {},
   "source": [
    "$$\n",
    "p_n(x_i) = f(x_i), \\qquad i=0,\\dots,n.\n",
    "$$"
   ]
  },
  {
   "cell_type": "markdown",
   "metadata": {},
   "source": [
    "What can be said about the error $e(x)=f(x)-p_n(x)$? \n",
    "\n",
    "Let us start with an numerical experiment, to have a feeling of what to expect. \n",
    "\n",
    "**Example 5:**\n",
    "\n",
    "Let $f(x)=\\sin(x)$, $x\\in [0,2\\pi]$. Choose $n+1$ equidistributed nodes,\n",
    "that is $x_i=ih$, $i=0,\\dots,n$, and $h=2\\pi/n$.\n",
    "Calculate the interpolation polynomial (using whatever \n",
    "\n",
    "\n",
    "by use of the functions `cardinal` and `lagrange`. Plot the error $e_n(x)=f(x)-p_n(x)$ for different values of $n$. Choose  $n=4,8,16$ and $32$.  Notice how the error is distributed over the interval, and find the maximum error $\\max_{x\\in[a,b]}|e_n(x)|$ for each $n$."
   ]
  },
  {
   "cell_type": "code",
   "execution_count": 37,
   "metadata": {},
   "outputs": [
    {
     "data": {
      "image/png": "[encoded data removed]",
      "text/plain": [
       "<Figure size 576x288 with 1 Axes>"
      ]
     },
     "metadata": {
      "needs_background": "light"
     },
     "output_type": "display_data"
    }
   ],
   "source": [
    "# Example 4\n",
    "xdata = [0, 1, 3]               # The interpolation points\n",
    "ydata = [3, 8, 6]\n",
    "x = np.linspace(0, 3, 101)      # The x-values in which the polynomial is evaluated\n",
    "l = cardinal(xdata, x)          # Find the cardinal functions evaluated in x\n",
    "p = lagrange(ydata, l)          # Compute the polynomial evaluated in x\n",
    "plt.plot(x, p)                  # Plot the polynomial\n",
    "plt.plot(xdata, ydata, 'o')     # Plot the interpolation points \n",
    "plt.title('The interpolation polynomial p(x)')\n",
    "plt.xlabel('x');"
   ]
  },
  {
   "cell_type": "markdown",
   "metadata": {},
   "source": [
    "**Numerical exercise:**\n",
    "Repeat the experiment with Runge's function"
   ]
  },
  {
   "cell_type": "markdown",
   "metadata": {},
   "source": [
    "$$\n",
    "f(x) = \\frac{1}{1+x^2}, \\qquad x\\in [-5,5].\n",
    "$$"
   ]
  },
  {
   "cell_type": "code",
   "execution_count": 85,
   "metadata": {
    "scrolled": true
   },
   "outputs": [
    {
     "name": "stdout",
     "output_type": "stream",
     "text": [
      "0.24921796077339872\n"
     ]
    },
    {
     "data": {
      "image/png": "[encoded data removed]",
      "text/plain": [
       "<Figure size 576x288 with 1 Axes>"
      ]
     },
     "metadata": {
      "needs_background": "light"
     },
     "output_type": "display_data"
    }
   ],
   "source": [
    "# Insert your code here\n",
    "n = 16\n",
    "xdata = np.linspace(-5, 5, n)\n",
    "ydata = np.zeros(n)\n",
    "for i in range(0, n):\n",
    "    ydata[i] = 1 / (1 + xdata[i]**2)\n",
    "x = np.linspace(-5, 5, 101)      # The x-values in which the polynomial is evaluated\n",
    "y = np.zeros(101)\n",
    "for i in range(0, 101):\n",
    "    y[i] = 1 / (1 + x[i]**2)\n",
    "l = cardinal(xdata, x)\n",
    "p = lagrange(ydata, l)     \n",
    "plt.plot(x, p, label = 'Interpolator')\n",
    "plt.plot(xdata, ydata, 'o')     # Plot the interpolation points \n",
    "plt.title('The interpolation polynomial p(x) of the Runge\\'s function')\n",
    "plt.xlabel('x');\n",
    "plt.plot(x, y, label = 'Runge\\'s function')\n",
    "err = y - p\n",
    "plt.plot(x, err, label = 'Error')\n",
    "plt.legend()\n",
    "print(max(err))"
   ]
  },
  {
   "cell_type": "markdown",
   "metadata": {},
   "source": [
    "### Interpolation Error\n",
    "\n",
    "An expression for the interpolation error $f(x)-p(x)$ is given by the following theorem:\n",
    "\n",
    "**Theorem: Interpolation error.**\n",
    "\n",
    "Given $f \\in C^{(n+1)}[a,b]$. Let $p_{n} \\in \\mathbb{P}_n$ interpolate $f$ in\n",
    "$n+1$ distinct nodes $x_i \\in [a,b]$. For each $x\\in [a,b]$ there is at least\n",
    "one $\\xi(x) \\in (a,b)$ such that"
   ]
  },
  {
   "cell_type": "markdown",
   "metadata": {},
   "source": [
    "$$\n",
    "f(x) - p_n(x) = \\frac{f^{(n+1)}(\\xi(x))}{(n+1)!}\\prod_{i=0}^n(x-x_i).\n",
    "$$"
   ]
  },
  {
   "cell_type": "markdown",
   "metadata": {},
   "source": [
    "*Proof:*\n",
    "Start by assuming $f$ to be *sufficiently differentialable*, what this is will be revealed on the go. \n",
    "We will also need the following function, defined solely by the nodes:"
   ]
  },
  {
   "cell_type": "markdown",
   "metadata": {},
   "source": [
    "$$\n",
    "\\omega(x) = \\prod_{i=0}^{n}(x-x_i) = x^{n+1} + \\dotsm.\n",
    "$$"
   ]
  },
  {
   "cell_type": "markdown",
   "metadata": {},
   "source": [
    "Obviously, in the nodes $x_i$ there are no error, thus $e(x_i)=0$, $i=0,\\dotsc,n$. \n",
    "Choose an *arbitrary* $x\\in [a,b]$, $x\\in [a,b]$, where $x\\not=x_i$,\n",
    "$i=0,1,\\dotsc,n$. For this fixed $x$, define a function in $t$ as:"
   ]
  },
  {
   "cell_type": "markdown",
   "metadata": {},
   "source": [
    "$$\n",
    "\\varphi(t) = e(t)\\omega(x) - e(x)\\omega(t).\n",
    "$$"
   ]
  },
  {
   "cell_type": "markdown",
   "metadata": {},
   "source": [
    "where $e(t) = f(t)-p_n(t)$.\n",
    "Notice that $\\varphi(t)$ is as differentiable with respect to $t$ as $f(t)$. The\n",
    "function $\\varphi(t)$ has $n+2$ distinct zeros (the nodes and the fixed $x$). As a\n",
    "consequence of Rolle's theorem (see Preliminaries, *Some other useful results*)\n",
    "the derivative $\\varphi'(t)$ has at least $n+1$ distinct zeros, one between each of the zeros\n",
    "of $\\varphi(t)$. So $\\varphi''(t)$ has $n$ distinct\n",
    "zeros, etc. By repeating this argument, we can see that $\\varphi^{n+1}(t)$\n",
    "has at least one zero in $[a,b]$, let us call this $\\xi(x)$, as it do depend on the fixed $x$. \n",
    " Since\n",
    "$\\omega^{(n+1)}(t)=(n+1)!$ and $e^{(n+1)}(t)=f^{(n+1)}(t)$ we can conclude that"
   ]
  },
  {
   "cell_type": "markdown",
   "metadata": {},
   "source": [
    "$$\n",
    "\\varphi^{(n+1)}(\\xi)= 0 = f^{(n+1)}(\\xi)\\omega(x) - e(x)(n+1)!.\n",
    "$$"
   ]
  },
  {
   "cell_type": "markdown",
   "metadata": {},
   "source": [
    "Solving this with respect to $e(x)$ gives the statement of the theorem. \n",
    "\n",
    "The interpolation error consists of three elements: The derivative of the\n",
    "function $f$, the number of interpolation points $n+1$ and the distribution of\n",
    "the nodes $x_i$. We cannot do much with the first of these, but we can choose\n",
    "the two others. Let us first look at the most obvious choice of nodes.\n",
    "\n",
    "### Equidistributed nodes\n",
    "\n",
    "The nodes are *equidistributed* over the interval $[a,b]$ if $x_i=a+ih$, $h=(b-a)/n$. In this case it can\n",
    "be proved that:"
   ]
  },
  {
   "cell_type": "markdown",
   "metadata": {},
   "source": [
    "$$\n",
    "|\\omega(x)| \\leq \\frac{h^{n+1}}{4}n!\n",
    "$$"
   ]
  },
  {
   "cell_type": "markdown",
   "metadata": {},
   "source": [
    "such that"
   ]
  },
  {
   "cell_type": "markdown",
   "metadata": {},
   "source": [
    "$$\n",
    "|e(x)| \\leq \\frac{h^{n+1}}{4(n+1)}M, \\qquad M=\\max_{x\\in[a,b]}|f^{(n+1)}(x)|.\n",
    "$$"
   ]
  },
  {
   "cell_type": "markdown",
   "metadata": {},
   "source": [
    "for all $x\\in [a,b]$. \n",
    "\n",
    "Let us now see how good this error bound is by an example.\n",
    "\n",
    "**Example 6:**\n",
    "Let again $f(x)=\\sin(x)$ on the interval $[0,2\\pi]$ and $p_n(x)$ the polynomial interpolating $f(x)$ in\n",
    "$n+1$ equidistributed points. Find an upper bound for the error for different values of $n$. \n",
    "\n",
    "Clearly,\n",
    "$\\max_{x\\in[0,2\\pi]}|f^{(n+1)}(x)|=M=1$ for all $n$, so"
   ]
  },
  {
   "cell_type": "markdown",
   "metadata": {},
   "source": [
    "$$\n",
    "|e_n(x)| = |f(x)-p_n(x)| \\leq\n",
    "\\frac{1}{4(n+1)}\\left(\\frac{2\\pi}{n}\\right)^{n+1}, \\qquad x\\in[a,b].\n",
    "$$"
   ]
  },
  {
   "cell_type": "markdown",
   "metadata": {},
   "source": [
    "Use the code in Example 5 to verify the result. How close is the bound to the real error? \n",
    "\n",
    "## Optimal choice of interpolation points\n",
    "If you have done the exercise with Runge's function, you should have noted, that the interpolation polynomial with equidistant interpolation points in this case appears not to converge to the function  𝑓\n",
    "f. Instead the error becomes larger and the approximation worse as the degree increases. Therefore we are interested in finding alternatives that yield a better approximation.\n",
    "\n",
    "\n",
    "So how can the error be reduced? For a given $n$ there is only one choice: to\n",
    "distribute the nodes in order to make\n",
    "$|\\omega(x)|= \\prod_{j=0}^{n}|x-x_i|$ as small as possible. We will first do this\n",
    "on a standard interval $[-1,1]$, and then transfer the results to some arbitrary\n",
    "interval $[a,b]$.\n",
    "\n",
    "Let us start taking a look at $\\omega(x)$ for equidistributed nodes on the\n",
    "interval $[-1,1]$, for\n",
    "different values of $n$:"
   ]
  },
  {
   "cell_type": "code",
   "execution_count": 12,
   "metadata": {},
   "outputs": [],
   "source": [
    "def omega(xdata, x):\n",
    "    # compute omega(x) for the nodes in xdata\n",
    "    n1 = len(xdata)\n",
    "    omega_value = np.ones(len(x))             \n",
    "    for j in range(n1):\n",
    "        omega_value = omega_value*(x-xdata[j])  # (x-x_0)(x-x_1)...(x-x_n)\n",
    "    return omega_value"
   ]
  },
  {
   "cell_type": "code",
   "execution_count": 13,
   "metadata": {},
   "outputs": [],
   "source": [
    "# Plot omega(x) \n",
    "n = 8                           # Number of interpolation points is n+1\n",
    "a, b = -1, 1                    # The interval\n",
    "x = np.linspace(a, b, 501)        \n",
    "xdata = np.linspace(a, b, n) \n",
    "plt.plot(x, omega(xdata, x))\n",
    "plt.grid(True)\n",
    "plt.xlabel('x')\n",
    "plt.ylabel('omega(x)')\n",
    "print(\"n = {:2d}, max|omega(x)| = {:.2e}\".format(n, max(abs(omega(xdata, x)))))"
   ]
  },
  {
   "cell_type": "markdown",
   "metadata": {},
   "source": [
    "Run the code for different values of $n$. Notice the following: \n",
    "* $\\max_{x\\in[-1,1]} |\\omega(x)|$ becomes smaller with increasing $n$. \n",
    "\n",
    "* $|\\omega(x)|$ has its maximum values near the boundaries of $[-1, 1]$.\n",
    "\n",
    "A a consequence of the latter, it seems reasonable to move the nodes towards the boundaries. \n",
    "It can be proved that the optimal choice of nodes are the *Chebyshev-nodes*, given by"
   ]
  },
  {
   "cell_type": "markdown",
   "metadata": {},
   "source": [
    "$$\n",
    "\\tilde{x}_i = \\cos \\left( \\frac{(2i+1)\\pi}{2(n+1)} \\right), \\qquad i=0,\\dotsc,n\n",
    "$$"
   ]
  },
  {
   "cell_type": "markdown",
   "metadata": {},
   "source": [
    "Let $\\omega_{Cheb}(x) = \\prod_{j=0}^n(x-\\tilde{x}_i)$. It is then possible to prove that"
   ]
  },
  {
   "cell_type": "markdown",
   "metadata": {},
   "source": [
    "$$\n",
    "\\frac{1}{2^{n}} = \\max_{x\\in [-1, 1]} |\\omega_{Cheb}(x)| \\leq \\max_{x \\in [-1, 1]} |q(x)|\n",
    "$$"
   ]
  },
  {
   "cell_type": "markdown",
   "metadata": {},
   "source": [
    "for all polynomials $q\\in \\mathbb{P}_{n+1}$ such that $q(x)=x^{n+1} + c_{n}x^{n}+\\dotsm+c_1x + c_0$. \n",
    "\n",
    "The distribution of nodes can be transferred to an interval $[a,b]$ by the linear transformation"
   ]
  },
  {
   "cell_type": "markdown",
   "metadata": {},
   "source": [
    "$$\n",
    "x = \\frac{b-a}{2}\\tilde{x} + \\frac{b+a}{2}\n",
    "$$"
   ]
  },
  {
   "cell_type": "markdown",
   "metadata": {},
   "source": [
    "where $x\\in[a,b]$ and $\\tilde{x} \\in [-1,1]$. By doing so we get"
   ]
  },
  {
   "cell_type": "markdown",
   "metadata": {},
   "source": [
    "$$\n",
    "\\omega(x) = \\prod_{i=0}^n (x-x_i) =\n",
    "  \\left(\\frac{b-a}{2}\\right)^{n+1} \\prod_{i=0}^n (\\tilde{x}-\\tilde{x}_i)\n",
    "  = \\left(\\frac{b-a}{2}\\right)^{n+1} \\omega_{Cheb}(\\tilde{x}).\n",
    "$$"
   ]
  },
  {
   "cell_type": "markdown",
   "metadata": {},
   "source": [
    "From the theorem on interpolation errors we can conclude:\n",
    "\n",
    "**Theorem (interpolation error for Chebyshev interpolation).**\n",
    "\n",
    "Given $f \\in C^{(n+1)}[a,b]$, and let $M_{n+1} = \\max_{x\\in [a,b]}|f^{(n+1)}(x)|$.  Let $p_{n} \\in \\mathbb{P}_n$ interpolate $f$ i $n+1$ Chebyshev-nodes $x_i \\in [a,b]$. Then"
   ]
  },
  {
   "cell_type": "markdown",
   "metadata": {},
   "source": [
    "$$\n",
    "\\max_{x\\in[a,b]}|f(x) - p_n(x)| \\leq \\frac{(b-a)^{n+1}}{2^{2n+1}(n+1)!} M_{n+1}.\n",
    "$$"
   ]
  },
  {
   "cell_type": "markdown",
   "metadata": {},
   "source": [
    "The Chebyshev nodes over an interval $[a,b]$ are evaluated in the following function:"
   ]
  },
  {
   "cell_type": "code",
   "execution_count": 14,
   "metadata": {},
   "outputs": [],
   "source": [
    "def chebyshev_nodes(a, b, n):\n",
    "    # n Chebyshev nodes in the interval [a, b] \n",
    "    i = np.array(range(n))                 # i = [0,1,2,3, ....n-1]\n",
    "    x = np.cos((2*i+1)*pi/(2*(n)))         # nodes over the interval [-1,1]\n",
    "    return 0.5*(b-a)*x+0.5*(b+a)           # nodes over the interval [a,b]"
   ]
  },
  {
   "cell_type": "markdown",
   "metadata": {},
   "source": [
    "**Numerical exercises:**\n",
    "1. Plot $\\omega_{Cheb}(x)$ for $3, 5, 9, 17$ interpolation points.\n",
    "\n",
    "2. Repeat Example 3 using Chebyshev interpolation on the functions below. Compare with the results you got from equidistributed nodes."
   ]
  },
  {
   "cell_type": "markdown",
   "metadata": {},
   "source": [
    "$$\n",
    "\\begin{align*}\n",
    "  f(x) &= \\sin(x), && x\\in[0,2\\pi] \\\\ \n",
    "  f(x) &= \\frac{1}{1+x^2}, && x\\in[-5,5]. \n",
    "\\end{align*}\n",
    "$$"
   ]
  },
  {
   "cell_type": "code",
   "execution_count": 15,
   "metadata": {},
   "outputs": [],
   "source": [
    "# Insert your code here"
   ]
  },
  {
   "cell_type": "markdown",
   "metadata": {},
   "source": [
    "**For information**: \n",
    "[Chebfun](http://www.chebfun.org/) is software package which makes it possible to manipulate functions and to solve equations with accuracy close to machine accuracy. The algorithms are based on polynomial interpolation in Chebyshev nodes.\n",
    "\n",
    "\n",
    "# Spline Interpolation\n",
    "\n",
    "## Idea of Splines\n",
    "\n",
    "The results we have obtained above have shown that we obtain the\n",
    "best results for polynomial interpolation, if we use the\n",
    "Chebyshev interpolation points.\n",
    "Instead, if we use equidistant interpolation points, the resulting\n",
    "interpolation polynomials might actually diverge as the number of\n",
    "nodes increases. This is what we have observed for the example\n",
    "of Runge's function.\n",
    "Chebyshev interpolation, however, is only possible if we are\n",
    "free to choose the nodes ourselves.\n",
    "In the case where we want to interpolate an unknown function\n",
    "in some given measurement points, this is not the case.\n",
    "Because of that, we will here briefly discuss a different\n",
    "approximation strategy that uses *piecewise* polynomials\n",
    "instead of polynomials.\n",
    "\n",
    "Assume again that $[a,b]$ is an interval and that we are\n",
    "given $n+1$ nodes $a = x_0 < x_1 < \\ldots < x_n = b$.\n",
    "Write $\\Delta := (x_0,x_1,\\ldots,x_n)$.\n",
    "A *spline* of order $k$ is a function $s \\in C^{k-1}(a,b)$\n",
    "such that the restriction of $s$ to every interval $(x_i,x_{i+1})$\n",
    "is a polynomial of degree $k$.\n",
    "That is, $s$ consists of piecewise polynomials that\n",
    "are glued together at the nodes $x_i$ in an as smooth as possible manner.\n",
    "The space of all splines of order $k$ on the grid $\\Delta$ is denoted as $S_{n,\\Delta}$.\n",
    "\n",
    "For $n=1$, we speak of *linear splines*, for $n=2$ of *quadratic splines*,\n",
    "and for $n=3$ of *cubic splines*.\n",
    "\n",
    "\n",
    "**NB:** In the literature, there exist different notations for the order of splines.\n",
    "Sometimes linear splines are said to be of order $0$, quadratic splines of order $1$,\n",
    "cubic splines of order $2$, and so on.\n",
    "\n",
    "\n",
    "\n",
    "## Linear Splines\n",
    "\n",
    "*Linear splines*, or splines of order 1, are by definition\n",
    "continuous functions that are linear in between the nodes.\n",
    "Graphically, we obtain the linear interpolation spline\n",
    "through points $(x_i,y_i)$ by simply connecting consecutive\n",
    "points by a straight line.\n",
    "Formally, the construction is not much more difficult than that:\n",
    "One can show that the *\"hat-functions\"*"
   ]
  },
  {
   "cell_type": "markdown",
   "metadata": {},
   "source": [
    "$$\n",
    "\\Lambda_i(x) :=\n",
    "\\begin{cases}\n",
    "\\dfrac{x-x_{i-1}}{x_i-x_{i-1}} & \\text{ if } x_{i-1}\\le x < x_i,\\\\ \n",
    "\\dfrac{x_{i+1}-x}{x_{i+1}-x_i} & \\text{ if } x_i \\le x < x_{i+1},\\\\ \n",
    "0 & \\text{ else,}\n",
    "\\end{cases}\n",
    "$$"
   ]
  },
  {
   "cell_type": "markdown",
   "metadata": {},
   "source": [
    "form a basis of the spline space $S_{1,\\Delta}$.\n",
    "Every linear spline $s \\in S_{1,\\Delta}$ has the unique representation"
   ]
  },
  {
   "cell_type": "markdown",
   "metadata": {},
   "source": [
    "$$\n",
    "s(x) = \\sum_{i=0}^m s(x_i) \\Lambda_i(x).\n",
    "$$"
   ]
  },
  {
   "cell_type": "markdown",
   "metadata": {},
   "source": [
    "In particular, if we want to interpolate the points $(x_i,y_i)_{i=1}^m$\n",
    "with $x_0 < x_1 < \\ldots < x_m$, the interpolating linear spline is given as"
   ]
  },
  {
   "cell_type": "markdown",
   "metadata": {},
   "source": [
    "$$\n",
    "s(x) = \\sum_{i=0}^m y_i \\Lambda_i(x).\n",
    "$$"
   ]
  },
  {
   "cell_type": "markdown",
   "metadata": {},
   "source": [
    "Note the conceptual similarity to the cardinal functions in polynomial interpolation:\n",
    "As in the case of Lagrange interpolation, we simply obtain the\n",
    "interpolation spline by multiplying the $y$-values with the corresponding\n",
    "basis functions and summing up over all $i$.\n",
    "\n",
    "\n",
    "\n",
    "In *numpy*, interpolation with linear splines is implemented in\n",
    "the function *interp*.\n",
    "\n",
    "**Example 7:**\n",
    "Given the points"
   ]
  },
  {
   "cell_type": "markdown",
   "metadata": {},
   "source": [
    "$$\n",
    "\\begin{array}{c|ccccc}\n",
    "x_i & 0 & 1 & 3 & 4 & 7\\\\ \\hline y_i & 3 & 8 & 6 & -1 & 2\n",
    "\\end{array},\n",
    "$$"
   ]
  },
  {
   "cell_type": "markdown",
   "metadata": {},
   "source": [
    "compute the linear interpolation spline through these points\n",
    "and plot the result."
   ]
  },
  {
   "cell_type": "code",
   "execution_count": 16,
   "metadata": {},
   "outputs": [],
   "source": [
    "# Example 7\n",
    "\n",
    "# Define the interpolation points\n",
    "xdata = [0,1,3,4,7]\n",
    "ydata = [3,8,6,-1,2]\n",
    "\n",
    "# Set the interval\n",
    "a, b = 0, 7                        # The interpolation interval\n",
    "x = np.linspace(a, b, 101)         # The 'x-axis'\n",
    "\n",
    "# Compute the interpolating linear spline using built in numpy functions\n",
    "s = np.interp(x,xdata,ydata)\n",
    "\n",
    "plt.plot(x, s)                     # Plot the linear spline\n",
    "plt.plot(xdata, ydata, 'o')        # Plot the interpolation points \n",
    "plt.title('Interpolation with a linear spline')\n",
    "plt.xlabel('x');"
   ]
  },
  {
   "cell_type": "markdown",
   "metadata": {},
   "source": [
    "## Cubic Splines\n",
    "\n",
    "In practice, the probably most important splines are cubic splines\n",
    "$s \\in S_{3,\\Delta}$, that is, splines of order 3.\n",
    "One of the reasons is that cubic splines, by construction, are\n",
    "twice differentiable, and therefore appear as \"smooth\" to the human eye.\n",
    "Also, when used for interpolating data points $(x_i,y_i)$,\n",
    "they minimise (an approximation to) the curvature amongst all\n",
    "interpolating functions.\n",
    "This has the effect that they look like a \"natural\" interpolation\n",
    "through the given points.\n",
    "\n",
    "\n",
    "Next, we will discuss how large the space of cubic splines is.\n",
    "To that end, we assume that we are given a grid\n",
    "$\\Delta = (x_0,x_1,\\ldots,x_m)$ with $m+1$ nodes.\n",
    "Every spline $s \\in S_{3,\\Delta}$ is a cubic polynomial on\n",
    "each of the intervals $[x_i,x_{i+1}]$, and there are $m$ such intervals.\n",
    "Thus, to start with, a cubic spline $s$ is determined by $4m$ coefficients:\n",
    "4 for each subinterval, where the spline is equal to a cubic polynomial.\n",
    "We can, for instance, write"
   ]
  },
  {
   "cell_type": "markdown",
   "metadata": {},
   "source": [
    "<!-- Equation labels as ordinary links -->\n",
    "<div id=\"eq:cubicspline\"></div>\n",
    "\n",
    "$$\n",
    "\\begin{equation} \\label{eq:cubicspline} \\tag{3}\n",
    "s(x) = c_{i,0} + c_{i,1} (x-x_i) + c_{i,2} (x-x_i)^2 + c_{i,3}(x-x_i)^3\n",
    "\\qquad\\text{ if } x \\in [x_i,x_{i+1}).\n",
    "\\end{equation}\n",
    "$$"
   ]
  },
  {
   "cell_type": "markdown",
   "metadata": {},
   "source": [
    "However, the coefficients $c_{i,j}$ cannot be chosen freely,\n",
    "as a cubic spline also has to be twice continuously differentiable.\n",
    "This adds restrictions at the *interior* nodes $x_1,\\ldots,x_{m-1}$:\n",
    "At each of these nodes, the spline $s$ has to be continuous with continuous\n",
    "first and second derivatives. We therefore obtain $3$ conditions for each interior\n",
    "node, which gives us $3(m-1)$ conditions in total.\n",
    "At the boundary nodes $x_0$ and $x_m$, we do not get any further conditions.\n",
    "In total, we thus have $4m$ coefficients, which have to satisfy $3(m-1)$ additional\n",
    "conditions. This should give us $m+3$ degrees of freedom.\n",
    "Indeed, one can show that the space $S_{3,\\Delta}$ is a vector space\n",
    "of dimension $m+3$.\n",
    "\n",
    "Assume now that we want to interpolate the data points $(x_i,y_i)_{i=0}^m$\n",
    "with a cubic spline $s$.\n",
    "Then the spline $s$ has to satisfy the $m+1$ equations $s(x_i) = y_i$.\n",
    "This, however, does not give us enough conditions to determine $s$ uniquely,\n",
    "since, as discussed above, we actually have $m+3$ degrees of freedom.\n",
    "We therefore need to specify $2$ additional conditions.\n",
    "Typically, this is done in the form of *boundary conditions* that\n",
    "add additional requirements at, or near, the boundary nodes $x_0$ and $x_m$.\n",
    "The most important conditions are the following:\n",
    "* *Natural boundary conditions:* Here we require that $s''(x_0) = 0$ and $s''(x_m) = 0$,\n",
    "  that is, the spline $s$ has no curvature at the boundary.\n",
    "\n",
    "* *Clamped boundary conditions:* Here we require that $s'(x_0) = 0$ and $s'(x_m) = 0$,\n",
    "  that is, the spline $s$ has horizontal tangents at the boundaries.\n",
    "  This is useful when we want to interpolate a function with the same property.\n",
    "  Else the result looks unnatural and we obtain relatively large errors near the boundary.\n",
    "\n",
    "* *Not-a-knot boundary conditions:* Here we remove the nodes\n",
    "  $x_1$ and $x_{m-1}$ from the grid and define the spline using the modified grid\n",
    "  $\\tilde{\\Delta} = (x_0,x_2,x_3,\\ldots,x_{m-3},x_{m-2},x_m)$ instead.\n",
    "  Doing so, we lose 2 degrees of freedom in the spline space we are using.\n",
    "  We still require that the interpolation condition $s(x_i) = y_i$ is\n",
    "  satisfied at all $x_i$, including the two nodes we have removed from the grid.\n",
    "\n",
    "To our best knowledge, there exists no built in method for\n",
    "interpolation with cubic splines in *numpy*. There exists, however,\n",
    "an implementation in the package *scipy*, which we will use in the following example.\n",
    "\n",
    "\n",
    "**Example 7:**\n",
    "Given the points"
   ]
  },
  {
   "cell_type": "markdown",
   "metadata": {},
   "source": [
    "$$\n",
    "\\begin{array}{c|ccccc}\n",
    "x_i & 0 & 1 & 3 & 4 & 7\\\\ \\hline y_i & 3 & 8 & 6 & -1 & 2\n",
    "\\end{array},\n",
    "$$"
   ]
  },
  {
   "cell_type": "markdown",
   "metadata": {},
   "source": [
    "compute the different cubic interpolation splines through these points\n",
    "and plot the result."
   ]
  },
  {
   "cell_type": "code",
   "execution_count": 17,
   "metadata": {},
   "outputs": [],
   "source": [
    "# Example 8\n",
    "\n",
    "# Define the interpolation points\n",
    "xdata = [0,1,3,4,7]\n",
    "ydata = [3,8,6,-1,2]\n",
    "\n",
    "# Set the interval\n",
    "a, b = 0, 7                        # The interpolation interval\n",
    "x = np.linspace(a, b, 101)         # The 'x-axis'\n",
    "\n",
    "# Compute the different interpolating cubic splines using built in scipy functions\n",
    "# We assume here that the package scipy.interpolate is imported as interpolate\n",
    "s1 = interpolate.CubicSpline(xdata,ydata,bc_type='not-a-knot')\n",
    "s2 = interpolate.CubicSpline(xdata,ydata,bc_type='clamped')\n",
    "s3 = interpolate.CubicSpline(xdata,ydata,bc_type='natural')\n",
    "\n",
    "plt.plot(x, s1(x),'r',label='Not a knot')\n",
    "plt.plot(x, s2(x),'b',label='Clamped')\n",
    "plt.plot(x, s3(x),'k',label='Natural')\n",
    "plt.plot(xdata, ydata, 'o')\n",
    "plt.title('Interpolation with a cubic spline')\n",
    "plt.legend()\n",
    "plt.xlabel('x');"
   ]
  },
  {
   "cell_type": "markdown",
   "metadata": {},
   "source": [
    "In contrast to the case of polynomials and linear splines,\n",
    "there is no simple representation of splines that allows us to\n",
    "write the interpolation spline as $s(x) = \\sum_{i=0}^m y_i s_i(x)$\n",
    "for some *basis splines* $s_i$.\n",
    "More precisely, such a representation exists, but it is by no means simple\n",
    "and therefore usually not used for practical applications.\n",
    "In *scipy*, for instance, the representation ([3](#eq:cubicspline)) is used.\n",
    "Another common representation makes use of so-called B-splines\n",
    "(see e.g. <https://en.wikipedia.org/wiki/B-spline>).\n",
    "We won't discuss their construction in this note, though."
   ]
  }
 ],
 "metadata": {
  "kernelspec": {
   "display_name": "Python 3 (ipykernel)",
   "language": "python",
   "name": "python3"
  },
  "language_info": {
   "codemirror_mode": {
    "name": "ipython",
    "version": 3
   },
   "file_extension": ".py",
   "mimetype": "text/x-python",
   "name": "python",
   "nbconvert_exporter": "python",
   "pygments_lexer": "ipython3",
   "version": "3.9.12"
  }
 },
 "nbformat": 4,
 "nbformat_minor": 4
}

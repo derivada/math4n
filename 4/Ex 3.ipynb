{
 "cells": [
  {
   "cell_type": "markdown",
   "metadata": {
    "slideshow": {
     "slide_type": "slide"
    }
   },
   "source": [
    "## Examples of Fourier series\n",
    "\n",
    "Markus Grasmair (based on a notebook by André Massing, spring 2020)\n",
    "\n",
    "Date: September 14, 2022"
   ]
  },
  {
   "cell_type": "code",
   "execution_count": 1,
   "metadata": {
    "slideshow": {
     "slide_type": "fragment"
    }
   },
   "outputs": [],
   "source": [
    "import numpy as np \n",
    "import matplotlib.pyplot as plt\n",
    "import ipywidgets as widgets\n",
    "from ipywidgets import interact"
   ]
  },
  {
   "cell_type": "code",
   "execution_count": 2,
   "metadata": {
    "slideshow": {
     "slide_type": "fragment"
    }
   },
   "outputs": [],
   "source": [
    "%matplotlib inline\n",
    "\n",
    "plt.rcParams['figure.figsize'] = [15, 7]"
   ]
  },
  {
   "cell_type": "markdown",
   "metadata": {
    "slideshow": {
     "slide_type": "slide"
    }
   },
   "source": [
    "In this notebook, we will show some examples of Fourier series. In particular, we will focus on how (and if) the partial sums converge to the function $f$ we are representing.\n",
    "\n",
    "First we define some plotting functions which will visualize\n",
    "the $N$-th partial sum for a given function $f$. The examples below show how to use it."
   ]
  },
  {
   "cell_type": "code",
   "execution_count": 18,
   "metadata": {
    "slideshow": {
     "slide_type": "fragment"
    }
   },
   "outputs": [],
   "source": [
    "# The following function relies on a function S_N\n",
    "# that computes the N-th partial sum of a Fourier\n",
    "# series expansion. This has to be provided by the user!\n",
    "def plot_partial_sum(f, x, S_N, N, title=\"\"):\n",
    "    y = f(x)\n",
    "    s_N = S_N(x, N)\n",
    "    plt.plot(x, y, label=\"$f$\",color='b')\n",
    "    plt.plot(x, s_N, label=\"$S_N$\",color='r')\n",
    "    plt.title(title)\n",
    "    plt.legend()\n",
    "    plt.xlabel(\"x\")\n",
    "    plt.ylabel(\"$S_N(x)$\")\n",
    "    plt.show()"
   ]
  },
  {
   "cell_type": "markdown",
   "metadata": {
    "slideshow": {
     "slide_type": "slide"
    }
   },
   "source": [
    "### Example 1:\n",
    "The function $f$ is the rectangular wave given as\n",
    "$$\n",
    "f(x) = \n",
    "\\left\\{\n",
    "\\begin{array}{rl}\n",
    " 1 &\\text{ if } 0 < x < \\pi, \\\\\n",
    "-1 &\\text{ if } -\\pi < x < 0\n",
    "\\end{array}\n",
    "\\right.\n",
    "$$\n",
    "\n",
    "Its Fourier series is\n",
    "$$\n",
    "f \\sim\n",
    "\\sum_{n=1}^\\infty \\dfrac{2}{\\pi n}\n",
    "\\bigl(\n",
    "1 - (-1)^{n}\n",
    "\\bigr)\n",
    "\\sin(nx)\n",
    "= \\frac{4}{\\pi}\\Bigl( \\sin(x) + \\frac{1}{3}\\sin(3x) + \\frac{1}{5}\\sin(5x) + \\ldots \\Bigr).\n",
    "$$"
   ]
  },
  {
   "cell_type": "code",
   "execution_count": 25,
   "metadata": {
    "slideshow": {
     "slide_type": "slide"
    }
   },
   "outputs": [],
   "source": [
    "# Define the interval on which we want to plot as well as a discretisation\n",
    "x = np.linspace(-3.0*np.pi, 3.0*np.pi, 1000)\n",
    "# The following construction is a short way of defining a rectangular wave.\n",
    "# It would be also possible to define f by means of the Heaviside function\n",
    "# (which we will discuss later in connection with the Laplace transform)\n",
    "# or using if-statements; the chosen definition has the advantage of being\n",
    "# extremely short.\n",
    "f = lambda x : (2/np.pi)*np.arcsin(np.sin(x))\n",
    "\n",
    "# The following function produces the partial sums in the\n",
    "# Fourier series expansion of a rectangular wave.\n",
    "def S_N(x, N):\n",
    "    # Initialise with a constant zero function\n",
    "    s = np.zeros_like(x)\n",
    "    s += np.pi**2/8\n",
    "    # Add the terms in the expansion up to index $N$:\n",
    "    for n in range(1,N+1):\n",
    "        # b) s += (np.cos((np.pi/2) * n) - 1 + (2*((-1)**n - 1))/(np.pi * n**2)) * np.cos(n*x)\n",
    "        s += (2/np.pi) * (np.pi**2/2 + 2*((-1/n) * ((np.pi/2) * np.cos(n*np.pi/2) + (1/n) * np.sin(n*np.pi/2))) +  \\\n",
    "             (np.pi / n) * (-1)**n) * np.sin(n*x)\n",
    "\n",
    "    return s\n",
    "\n",
    "\n",
    "title = \"idk\"\n",
    "\n",
    "# Define a helper function that has the number N\n",
    "# of Fourier coefficients as the only argument.\n",
    "# This is required for the interact function used below.\n",
    "pps = lambda N: plot_partial_sum(f, x, S_N, N, title)"
   ]
  },
  {
   "cell_type": "code",
   "execution_count": 26,
   "metadata": {
    "slideshow": {
     "slide_type": "slide"
    }
   },
   "outputs": [
    {
     "data": {
      "application/vnd.jupyter.widget-view+json": {
       "model_id": "572f8c3be3814774be1b21e9286d8e90",
       "version_major": 2,
       "version_minor": 0
      },
      "text/plain": [
       "interactive(children=(IntSlider(value=0, description='Order N', max=60, step=2), Output()), _dom_classes=('wid…"
      ]
     },
     "metadata": {},
     "output_type": "display_data"
    },
    {
     "data": {
      "text/plain": [
       "<function __main__.<lambda>(N)>"
      ]
     },
     "execution_count": 26,
     "metadata": {},
     "output_type": "execute_result"
    }
   ],
   "source": [
    "# Define the parameters of the slider.\n",
    "slider = widgets.IntSlider(min = 0,\n",
    "                           max = 60,\n",
    "                           step = 2,\n",
    "                           description=\"Order N\",\n",
    "                           value = 0)\n",
    "interact(pps, N=slider)"
   ]
  },
  {
   "cell_type": "markdown",
   "metadata": {},
   "source": [
    "One can see that the Fourier series becomes a better and better approximation of the rectangular wave $f$ as the number $N$ of terms increases - at least in the parts where the function $f$ is constant. However, at the jumps at $0$, $\\pm \\pi$, $\\pm 2\\pi$, and so on, we observe oscillations that have a higher amplitude than the function $f$ itself. Moreover, these oscillations do not die down as $N$ approaches $\\infty$, but only shift closer and closer to the jumps of $f$. This phenomenon is known as the *Gibbs phenomenon*. It always occurs when we want to approximate a discontinuous function with a finite Fourier series."
   ]
  },
  {
   "cell_type": "markdown",
   "metadata": {
    "slideshow": {
     "slide_type": "slide"
    }
   },
   "source": [
    "### Example 2: Triangle wave\n",
    "\n",
    "The Fourier series of the triangle wave\n",
    "$$\n",
    "f(x) = \n",
    "\\left\\{\n",
    "\\begin{array}{rl}\n",
    "-\\frac{2}{\\pi}(\\pi+x) &\\text{ if } -\\pi < x < -\\pi/2,\\\\\n",
    "\\frac{2x}{\\pi} &\\text{ if } -\\pi/2 < x < \\pi/2, \\\\\n",
    "\\frac{2}{\\pi}(\\pi-x) &\\text{ if } \\pi/2 < x < \\pi\n",
    "\\end{array}\n",
    "\\right.\n",
    "$$\n",
    "is\n",
    "$$\n",
    "f \\sim\n",
    "\\sum_{n=1}^\\infty (-1)^{n-1} \\frac{8}{\\pi^2(2n-1)^2} \\sin((2n-1)x).\n",
    "$$"
   ]
  },
  {
   "cell_type": "code",
   "execution_count": 6,
   "metadata": {
    "slideshow": {
     "slide_type": "slide"
    }
   },
   "outputs": [],
   "source": [
    "# Interval\n",
    "x = np.linspace(-3*np.pi, 3*np.pi, 1000)\n",
    "# Define f (trust me, this works...)\n",
    "f = lambda x : (2/np.pi)*np.arcsin(np.sin(x))\n",
    "\n",
    "# Define partial sums\n",
    "def S_N(x, N):\n",
    "    s = np.zeros_like(x)\n",
    "    for n in range(1,N+1):\n",
    "        s += (-1)**(n-1)*(8.0/(np.pi**2*(2*n-1)**2))*np.sin((2*n-1)*x)\n",
    "    return s\n",
    "\n",
    "title = \"Triangular function\"\n",
    "\n",
    "# Define a helper function\n",
    "pps = lambda N: plot_partial_sum(f, x, S_N, N, title)"
   ]
  },
  {
   "cell_type": "code",
   "execution_count": 7,
   "metadata": {
    "slideshow": {
     "slide_type": "slide"
    }
   },
   "outputs": [
    {
     "data": {
      "application/vnd.jupyter.widget-view+json": {
       "model_id": "8ec0901edf06417eaab3f28dd03c07ce",
       "version_major": 2,
       "version_minor": 0
      },
      "text/plain": [
       "interactive(children=(IntSlider(value=0, description='Order N', max=20), Output()), _dom_classes=('widget-inte…"
      ]
     },
     "metadata": {},
     "output_type": "display_data"
    },
    {
     "data": {
      "text/plain": [
       "<function __main__.<lambda>(N)>"
      ]
     },
     "execution_count": 7,
     "metadata": {},
     "output_type": "execute_result"
    }
   ],
   "source": [
    "slider = widgets.IntSlider(min = 0,\n",
    "                           max = 20,\n",
    "                           step = 1,\n",
    "                           description=\"Order N\",\n",
    "                           value = 0)\n",
    "interact(pps, N=slider)"
   ]
  },
  {
   "cell_type": "markdown",
   "metadata": {},
   "source": [
    "Here the function $f$ is continuous, and we see that the Fourier series converges everywhere towards $f$. In contrast to the rectangular wave, no spurious oscillations occur at all."
   ]
  },
  {
   "cell_type": "markdown",
   "metadata": {},
   "source": [
    "### Example 3: piecewise quadratic function\n",
    "\n",
    "One can show that the Fourier coefficients of the $2\\pi$-periodic function defined\n",
    "by \n",
    "$$\n",
    "f(x) = \n",
    "\\left\\{\\begin{aligned}\n",
    "x^2 & \\quad\\text{ if } 0 < x < \\pi,\\\\\n",
    "0 & \\quad\\text{ if } -\\pi < x < 0,\\\\\n",
    "\\end{aligned}\\right.\n",
    "$$\n",
    "are\n",
    "$$\n",
    "\\begin{aligned}\n",
    "a_n &= \\frac{\\pi^2}{6},\\\\\n",
    "a_n &= (-1)^n \\frac{2}{n^2}\\\\\n",
    "b_n &= \\left\\{\\begin{aligned}\n",
    "&-\\frac{\\pi}{n}&& \\quad\\text{ if } n \\text{ is even},\\\\\n",
    "&\\frac{\\pi}{n} - \\frac{4}{n^3\\pi} && \\quad\\text{ if } n \\text{ is odd.}\\\\\n",
    "\\end{aligned}\\right.\n",
    "\\end{aligned}\n",
    "$$\n",
    "\n",
    "(See problem 1a in the exam from autumn 2013.)"
   ]
  },
  {
   "cell_type": "code",
   "execution_count": 8,
   "metadata": {},
   "outputs": [],
   "source": [
    "# Interval\n",
    "x = np.linspace(-3*np.pi, 3*np.pi, 1000)\n",
    "\n",
    "# Define f (sorry for the messy definition)\n",
    "f = lambda x: 4*np.pi**2*(np.round(x/(2*np.pi)) < x/(2*np.pi))*(np.round(x/(2*np.pi)) - x/(2*np.pi))**2\n",
    "\n",
    "\n",
    "# Define partial sum\n",
    "def S_N(x, N):\n",
    "    s = (np.pi**2/6)*np.ones_like(x)\n",
    "    for n in range(1,N+1):\n",
    "        s += (2*(-1)**n/n**2)*np.cos(n*x)\n",
    "        if (n%2):\n",
    "            s+= (np.pi/n - 4/(n**3*np.pi))*np.sin(n*x)\n",
    "        else:\n",
    "            s+= -(np.pi/n)*np.sin(n*x)\n",
    "    return s\n",
    "\n",
    "title = \"$f(x)$\"\n",
    "\n",
    "# Define a helper function\n",
    "pps = lambda N: plot_partial_sum(f, x, S_N, N, title)"
   ]
  },
  {
   "cell_type": "code",
   "execution_count": 9,
   "metadata": {},
   "outputs": [
    {
     "data": {
      "application/vnd.jupyter.widget-view+json": {
       "model_id": "085b95e184be40cab6c68414bf088930",
       "version_major": 2,
       "version_minor": 0
      },
      "text/plain": [
       "interactive(children=(IntSlider(value=0, description='Order N', max=40), Output()), _dom_classes=('widget-inte…"
      ]
     },
     "metadata": {},
     "output_type": "display_data"
    },
    {
     "data": {
      "text/plain": [
       "<function __main__.<lambda>(N)>"
      ]
     },
     "execution_count": 9,
     "metadata": {},
     "output_type": "execute_result"
    }
   ],
   "source": [
    "slider = widgets.IntSlider(min = 0,\n",
    "                           max = 40,\n",
    "                           step = 1,\n",
    "                           description=\"Order N\",\n",
    "                           value = 0)\n",
    "interact(pps, N=slider)"
   ]
  }
 ],
 "metadata": {
  "kernelspec": {
   "display_name": "Python 3 (ipykernel)",
   "language": "python",
   "name": "python3"
  },
  "language_info": {
   "codemirror_mode": {
    "name": "ipython",
    "version": 3
   },
   "file_extension": ".py",
   "mimetype": "text/x-python",
   "name": "python",
   "nbconvert_exporter": "python",
   "pygments_lexer": "ipython3",
   "version": "3.9.12"
  }
 },
 "nbformat": 4,
 "nbformat_minor": 2
}

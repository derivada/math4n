{
 "cells": [
  {
   "cell_type": "markdown",
   "id": "ed12d283",
   "metadata": {},
   "source": [
    "<!-- dom:TITLE: Assigment 2--> \n",
    "# Assignment 4\n",
    "<!-- dom:AUTHOR: Pablo Díaz Viñambres -->\n",
    "<!-- Author: -->  \n",
    "**Pablo Díaz Viñambres**\n",
    "\n",
    "Date: **Sep 22, 2022**"
   ]
  },
  {
   "cell_type": "code",
   "execution_count": 15,
   "id": "99d4deb8",
   "metadata": {},
   "outputs": [],
   "source": [
    "import numpy as np\n",
    "import matplotlib.pyplot as plt\n",
    "from numpy.linalg import solve, norm\n",
    "from numpy import cos, sin\n",
    "import math"
   ]
  },
  {
   "cell_type": "markdown",
   "id": "8f68873f",
   "metadata": {},
   "source": [
    "# Exercise 1\n",
    "We are given the system of nonlinear equations\n",
    "\n",
    "\\begin{cases} x_1^3+x_1^2x_2-x_1x_3 = -6, \\\\ e^{x_1}+e^{x_2}-x_3 = 0, \\\\ x_2^2-2x_1x_3 = 4. \\end{cases} \n",
    "\n",
    "Write a python program for solving this system by Newton’s method. Use $x_0 = (-1, 2, 1)$ as\n",
    "a starting value, and iterate until $\\lVert x_{k+1} - x_{k} \\rVert < 10^6$. How many iterations are needed in\n",
    "this case?\n",
    "You are encouraged to experiment a bit with different starting values.\n",
    "\n",
    "Let us define $f(\\vec{x})$ as the function that solves the above system when $f(\\vec{x}) = f(x_1, x_2, x_3) = 0$. Then, we compute its Jacobian $Jf(\\vec{x})$:\n",
    "\n",
    "\n",
    "$$\n",
    "Jf(\\vec{x}) = \\begin{bmatrix} \\nabla f_1 \\\\ \\nabla f_2 \\\\ \\nabla f_3 \\end{bmatrix} =\n",
    "\\begin{bmatrix} 3x^2_1 + 2x_1x_2 -x_1 & x_1^2 & -x_1 \\\\ e^{x_1} & e^{x_2} & -1 \\\\ -2x_3 & 2x_2 & -2x_1 \\end{bmatrix}\n",
    "$$\n",
    "\n",
    "And apply Netwon's multivariable method: $x_{k+1} = x_k - Jf(x_k)^{-1}f(x_k) \\implies Jf(x_k)\\nabla_k = -f(x_k)$ until we meet the desired tolerance. We will use the implementation provided in `system.py`:"
   ]
  },
  {
   "cell_type": "code",
   "execution_count": 45,
   "id": "9bed6ed8",
   "metadata": {},
   "outputs": [],
   "source": [
    "def F(X):\n",
    "    res = np.zeros(3)\n",
    "    x = X[0]\n",
    "    y = X[1]\n",
    "    z = X[2]\n",
    "    res[0] = x**3 + x**2*y - x*z + 6\n",
    "    res[1] = np.exp(x) + np.exp(y) - z\n",
    "    res[2] = y**2 - 2*x*z - 4\n",
    "    return(res)\n",
    "\n",
    "def JF(X):\n",
    "    res = np.zeros([3,3])\n",
    "    x = X[0]\n",
    "    y = X[1]\n",
    "    z = X[2]\n",
    "    res[0, 0] = 3*x**2 + 2*x*y - z\n",
    "    res[0, 1] = x**2\n",
    "    res[0, 2] = -x\n",
    "    res[1, 0] = np.exp(x)\n",
    "    res[1, 1] = np.exp(y)\n",
    "    res[1, 2] = -1\n",
    "    res[2, 0] = -2*z\n",
    "    res[2, 1] = 2*y\n",
    "    res[2, 2] = -2*x\n",
    "    return(res)\n",
    "\n",
    "def Newton(X0, max_iter, tol):\n",
    "    it = 0\n",
    "    DeltaX = float('inf')\n",
    "    X = X0\n",
    "    while norm(DeltaX) >= tol and it < max_iter:\n",
    "        FX = F(X)\n",
    "        JX = JF(X)\n",
    "        DeltaX = np.linalg.solve(JX, -FX)\n",
    "        X = X + DeltaX\n",
    "        it += 1\n",
    "        print('Iteration {}: X = ({}, {}, {})'.format(it, X[0], X[1], X[2]))\n",
    "    if it == max_iter:\n",
    "        return None\n",
    "    return X, it"
   ]
  },
  {
   "cell_type": "code",
   "execution_count": 46,
   "id": "7825f3f3",
   "metadata": {
    "scrolled": false
   },
   "outputs": [
    {
     "name": "stdout",
     "output_type": "stream",
     "text": [
      "Iteration 1: X = (-1.6367383305506236, -1.5142772287152113, 0.3347072120189537)\n",
      "Iteration 2: X = (-1.4648568981216796, -1.6682319775342527, 0.4141663999071322)\n",
      "Iteration 3: X = (-1.4561074057208219, -1.6641910468456549, 0.4224753905463522)\n",
      "Iteration 4: X = (-1.4560427975108896, -1.6642304663744762, 0.4224934033946674)\n",
      "Iteration 5: X = (-1.4560427959553357, -1.6642304660815355, 0.4224934044465324)\n",
      "Found solution: (-1.4560427959553357, -1.6642304660815355, 0.4224934044465324) in 5 iterations\n"
     ]
    }
   ],
   "source": [
    "#Define solver settings\n",
    "max_iter = 100\n",
    "tol = 10**-6\n",
    "X0 = np.array([-1, -2, 1])\n",
    "# X0 = np.array([11, 11, 2001])\n",
    "X, it = Newton(X0, max_iter, tol)\n",
    "if(X.any()):\n",
    "    print('Found solution: ({}, {}, {}) in {} iterations'.format(X[0], X[1], X[2], it))\n",
    "else:\n",
    "    print('Convergence was not achieved after {} iterations'.format(max_iter))"
   ]
  },
  {
   "cell_type": "markdown",
   "id": "d8df28c6",
   "metadata": {},
   "source": [
    "As we can see, convergence is achieved in only 5 iterations for $X_0 = (-1, 2, 1)$. Trying another value like $X_0 = (11, 11, 2001)$ gives convergence in 18 iterations"
   ]
  }
 ],
 "metadata": {
  "kernelspec": {
   "display_name": "Python 3 (ipykernel)",
   "language": "python",
   "name": "python3"
  },
  "language_info": {
   "codemirror_mode": {
    "name": "ipython",
    "version": 3
   },
   "file_extension": ".py",
   "mimetype": "text/x-python",
   "name": "python",
   "nbconvert_exporter": "python",
   "pygments_lexer": "ipython3",
   "version": "3.9.12"
  }
 },
 "nbformat": 4,
 "nbformat_minor": 5
}

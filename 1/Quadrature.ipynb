{
 "cells": [
  {
   "cell_type": "markdown",
   "metadata": {},
   "source": [
    "<!-- dom:TITLE: Numerical integration  -->\n",
    "# Numerical integration \n",
    "<!-- dom:AUTHOR: Anne Kværnø, Markus Grasmair -->\n",
    "<!-- Author: -->  \n",
    "**Anne Kværnø, Markus Grasmair**\n",
    "\n",
    "Date: **Sep 2, 2022**"
   ]
  },
  {
   "cell_type": "code",
   "execution_count": 1,
   "metadata": {
    "collapsed": false
   },
   "outputs": [],
   "source": [
    "%matplotlib inline\n",
    "\n",
    "import numpy as np\n",
    "from math import factorial\n",
    "from numpy.linalg import solve, norm    # Solve linear systems and compute norms\n",
    "import matplotlib.pyplot as plt\n",
    "newparams = {'figure.figsize': (8.0, 4.0), 'axes.grid': True,\n",
    "             'lines.markersize': 8, 'lines.linewidth': 2,\n",
    "             'font.size': 14}\n",
    "plt.rcParams.update(newparams)"
   ]
  },
  {
   "cell_type": "markdown",
   "metadata": {},
   "source": [
    "<!-- If you want to have a nicer theme for your jupyter notebook, -->\n",
    "<!-- download the \"cascade stylesheet file tma4320.css\": -->\n",
    "<!-- \"https://www.math.ntnu.no/emner/TMA4320/2022v/notebooks/tma4320.css\" -->\n",
    "<!-- and execute the next cell: -->\n",
    "<!--  -->\n",
    "<!-- % if FORMAT in (\"ipynb\"): -->\n",
    "<!-- !bc pycod -->\n",
    "<!-- from IPython.core.display import HTML -->\n",
    "<!-- def css_styling(): -->\n",
    "<!-- styles = open(\"tma4320.css\", \"r\").read() -->\n",
    "<!-- return HTML(styles) -->\n",
    "<!--  -->\n",
    "<!-- css_styling(); -->\n",
    "<!-- !ec -->\n",
    "<!-- % endif -->\n",
    "\n",
    "\n",
    "# Introduction\n",
    "In this note, we will discuss numerical methods for the approximation of (finite) integrals of the form"
   ]
  },
  {
   "cell_type": "markdown",
   "metadata": {},
   "source": [
    "$$\n",
    "I[f](a,b) = \\int_a^b f(x) dx.\n",
    "$$"
   ]
  },
  {
   "cell_type": "markdown",
   "metadata": {},
   "source": [
    "A *numerical quadrature* or a *quadrature rule* is a formula for approximating such integrals. Quadratures are usually of the form"
   ]
  },
  {
   "cell_type": "markdown",
   "metadata": {},
   "source": [
    "$$\n",
    "Q[f](a,b) = \\sum_{i=0}^n w_i f(x_i),\n",
    "$$"
   ]
  },
  {
   "cell_type": "markdown",
   "metadata": {},
   "source": [
    "where $x_i$, $w_i$ for $i=0,1,\\dotsc,n$  are respectively the *nodes* and the *weights* of the quadrature rule. \n",
    "If the function $f$ is given from the context, we will for simplicity denote the integral and the quadrature simply as $I(a,b)$ and $Q(a,b)$. Examples of numerical quadratures known from previous courses are the the [trapezoidal rule, the midpoint rule and Simpson's rule](https://wiki.math.ntnu.no/tma4100/tema/numerics?&#numerisk_integrasjon). \n",
    "\n",
    "In practice, we will not use a single (or *simple*) quadrature for the whole interval $[a,b]$,\n",
    "but rather choose a partitioning"
   ]
  },
  {
   "cell_type": "markdown",
   "metadata": {},
   "source": [
    "$$\n",
    "a = X_0 < X_1 \\cdots < X_m = b\n",
    "$$"
   ]
  },
  {
   "cell_type": "markdown",
   "metadata": {},
   "source": [
    "into $m$ sub-intervals, apply a quadrature on each of the subintervals $[X_j,X_{j+1}]$, \n",
    "and then add the results together.\n",
    "This leads to *composite quadratures* yielding the approximation"
   ]
  },
  {
   "cell_type": "markdown",
   "metadata": {},
   "source": [
    "$$\n",
    "I[f](a,b) = \\sum_{j=0}^{m-1} I[f](X_j, X_{j+1}) \\approx \\sum_{j=0}^{m-1} Q[f](X_j,X_{j+1}).\n",
    "$$"
   ]
  },
  {
   "cell_type": "markdown",
   "metadata": {},
   "source": [
    "In this note we will see how quadrature rules can be constructed from integration of interpolation polynomials.\n",
    "We will demonstrate how to do error analysis and how to find error estimates both for simple and composite quadratures. Moreover, we will demonstrate how the partitioning of the integration\n",
    "interval can be chosen automatically based on these error estimates;\n",
    "this idea is called *adaptive integration*. \n",
    "\n",
    "\n",
    "In the sequel, we will use material from *Preliminaries*, section 3.2, 4 and 5. \n",
    "\n",
    "# Quadrature based on polynomial interpolation.\n",
    "This section relies on the content of the note on polynomial interpolation, in particular the section on Lagrange polynomials. \n",
    "\n",
    "Choose $n+1$ distinct nodes $x_i$, $i=0,\\dotsc,n$ in the interval $[a,b]$, and let $p_n(x)$ be the interpolation polynomial satisfying\n",
    "the interpolation condition"
   ]
  },
  {
   "cell_type": "markdown",
   "metadata": {},
   "source": [
    "$$\n",
    "p_n(x_i) = f(x_i), \\qquad i=0,1,\\dotsc, n\n",
    "$$"
   ]
  },
  {
   "cell_type": "markdown",
   "metadata": {},
   "source": [
    "We will then use $\\int_a^b p_n(x)dx$ to approximate $\\int_a^b f(x)dx$. By using the Lagrange form of the polynomial"
   ]
  },
  {
   "cell_type": "markdown",
   "metadata": {},
   "source": [
    "$$\n",
    "p_n(x) = \\sum_{i=0}^n f(x_i) \\ell_i(x)\n",
    "$$"
   ]
  },
  {
   "cell_type": "markdown",
   "metadata": {},
   "source": [
    "with the cardinal functions $\\ell_i(x)$ given by"
   ]
  },
  {
   "cell_type": "markdown",
   "metadata": {},
   "source": [
    "$$\n",
    "\\ell_i(x) = \\prod_{j=0,j\\not=i}^n \\frac{x-x_j}{x_i-x_j},\n",
    "$$"
   ]
  },
  {
   "cell_type": "markdown",
   "metadata": {},
   "source": [
    "the following quadrature formula is obtained"
   ]
  },
  {
   "cell_type": "markdown",
   "metadata": {},
   "source": [
    "$$\n",
    "Q[f](a,b) = \\int_a^b p_n(x)dx\n",
    "  = \\sum_{i=0}^n f(x_i) \\int_a^b \\ell_i(x) dx = \\sum_{i=0}^n w_i f(x_i).\n",
    "$$"
   ]
  },
  {
   "cell_type": "markdown",
   "metadata": {},
   "source": [
    "The weights in the quadrature are simply the integral of the cardinal functions over the interval:"
   ]
  },
  {
   "cell_type": "markdown",
   "metadata": {},
   "source": [
    "$$\n",
    "w_i = \\int_a^b \\ell_i(x)\\,dx.\n",
    "$$"
   ]
  },
  {
   "cell_type": "markdown",
   "metadata": {},
   "source": [
    "*Some comments on notation:*\n",
    "When the function $f$ and/or the interval is clear from the context, they will often be ommited in the \n",
    "expression for $Q$ and $I$, thus we may write $I(a,b)$ rather than $I[f](a,b)$, etc. Further, $Q$ is \n",
    "here used as a generic name for the quadrature, but some well known methods have their own \n",
    "commonly used notation. Thus the trapzoidal rule will be denoted $T[f](a,b)$ and Simpson's rule $S[f](a,b)]$ rather than $Q[f](a,b)$. \n",
    "\n",
    "Let us derive two schemes for integration over the interval $[0,1]$, and apply them to the integral"
   ]
  },
  {
   "cell_type": "markdown",
   "metadata": {},
   "source": [
    "$$\n",
    "I(0,1) = \\int_0^1 \\cos\\left(\\frac{\\pi}{2}x\\right) = \\frac{2}{\\pi} = 0.636619\\dotsc.\n",
    "$$"
   ]
  },
  {
   "cell_type": "markdown",
   "metadata": {},
   "source": [
    "**Example 1:**\n",
    "Let $x_0=0$ and $x_1=1$. The cardinal functions and thus the weights are given by"
   ]
  },
  {
   "cell_type": "markdown",
   "metadata": {},
   "source": [
    "$$\n",
    "\\begin{align*}\n",
    "\\ell_0(x) &= 1-x, & w_0 &= \\int_0^1(1-x)dx = 1/2  \\\\ \n",
    "\\ell_1(x) &= x,   & w_1 &= \\int_0^1 xdx = 1/2\n",
    "\\end{align*}\n",
    "$$"
   ]
  },
  {
   "cell_type": "markdown",
   "metadata": {},
   "source": [
    "and the corresponding quadrature rule, better known as the trapezoidal rule and usually denoted by $T$, is given by"
   ]
  },
  {
   "cell_type": "markdown",
   "metadata": {},
   "source": [
    "$$\n",
    "T(0,1) = \\frac{1}{2} \\left[ f(0) + f(1) \\right].\n",
    "$$"
   ]
  },
  {
   "cell_type": "markdown",
   "metadata": {},
   "source": [
    "This formula applied to the function $f(x)=\\cos(\\pi x/2)$ gives"
   ]
  },
  {
   "cell_type": "markdown",
   "metadata": {},
   "source": [
    "$$\n",
    "T(0,1) = \\frac{1}{2}\\left[ \\cos(0) + \\cos\\left(\\frac{\\pi}{2}\\right)\\right] =  \\frac{1}{2},\n",
    "$$"
   ]
  },
  {
   "cell_type": "markdown",
   "metadata": {},
   "source": [
    "and the error is"
   ]
  },
  {
   "cell_type": "markdown",
   "metadata": {},
   "source": [
    "$$\n",
    "I(0,1) - T(0,1) = \\frac{2}{\\pi}-\\frac{1}{2} = 0.138\\dotsc\n",
    "$$"
   ]
  },
  {
   "cell_type": "markdown",
   "metadata": {},
   "source": [
    "**Example 2 (Gauss-Legendre quadrature with two nodes):**\n",
    "\n",
    "Let $x_0=1/2 + \\sqrt{3}/6$ and $x_1 = 1/2 - \\sqrt{3}/6$. Then"
   ]
  },
  {
   "cell_type": "markdown",
   "metadata": {},
   "source": [
    "$$\n",
    "\\begin{align*}\n",
    "\\ell_0(x) &= -\\sqrt{3}x + \\frac{1+\\sqrt{3}}{2}, & w_0 &= \\int_0^1 \\ell_0(x)dx=  1/2,  \\\\ \n",
    "\\ell_1(x) &=  \\sqrt{3}x + \\frac{1-\\sqrt{3}}{2}, & w_1 &= \\int_0^1 \\ell_1(x)dx = 1/2.\n",
    "\\end{align*}\n",
    "$$"
   ]
  },
  {
   "cell_type": "markdown",
   "metadata": {},
   "source": [
    "The quadrature rule is"
   ]
  },
  {
   "cell_type": "markdown",
   "metadata": {},
   "source": [
    "$$\n",
    "Q(0,1) = \\frac{1}{2}\\left[f\\left(\\frac{1}{2}-\\frac{\\sqrt{3}}{6}\\right) + \n",
    "f\\left(\\frac{1}{2}+\\frac{\\sqrt{3}}{6}\\right) \\right].\n",
    "$$"
   ]
  },
  {
   "cell_type": "markdown",
   "metadata": {},
   "source": [
    "And this quadrature applied to $f(x)=\\cos(\\pi x/2)$ is given by"
   ]
  },
  {
   "cell_type": "markdown",
   "metadata": {},
   "source": [
    "$$\n",
    "Q(0,1) = \\frac{1}{2}\\left[\\cos\\left(\\frac{\\pi}{2}x_0\\right) + \\cos\\left(\\frac{\\pi}{2}x_1\\right) \\right] = 0.635647\\dotsc\n",
    "$$"
   ]
  },
  {
   "cell_type": "markdown",
   "metadata": {},
   "source": [
    "with an error"
   ]
  },
  {
   "cell_type": "markdown",
   "metadata": {},
   "source": [
    "$$\n",
    "I(0,1)-Q(0,1) = 9.72\\dotsc \\cdot 10^{-4}.\n",
    "$$"
   ]
  },
  {
   "cell_type": "markdown",
   "metadata": {},
   "source": [
    "So the choice of nodes clearly matters!\n",
    "\n",
    "Before concluding this section, let us present simple indication on the quality of a method:  \n",
    "\n",
    "**Definition: Degree of precision.**\n",
    "\n",
    "A numerical quadrature has degree of precision $d$ if:  \n",
    "* $Q[p](a,b) = I[p](a,b)$ for all $p \\in \\mathbb{P}_d$.\n",
    "\n",
    "* There exists $p\\in \\mathbb{P}_{d+1}$ such that $Q[p](a,b) \\not= I[p](a,b)$.\n",
    "\n",
    "\\vspace{-2 mm}\n",
    "\n",
    "\n",
    "\n",
    "\n",
    "Since both integrals and quadratures are linear in the integrand $f$, the degree of precision is $d$ \n",
    "if and only if the following conditions hold:"
   ]
  },
  {
   "cell_type": "markdown",
   "metadata": {},
   "source": [
    "$$\n",
    "\\begin{align*}\n",
    "I[x^j](a,b) &= Q[x^j](a,b), \\qquad j=0,1,\\dotsc, d, \\\\ \n",
    "I[x^{d+1}](a,b) &\\not= Q[x^{d+1}](a,b)\n",
    "\\end{align*}\n",
    "$$"
   ]
  },
  {
   "cell_type": "markdown",
   "metadata": {},
   "source": [
    "All quadratures constructed from Lagrange interpolation polynomials in $n+1$ distinct nodes will automatically be of precision at least $n$. This follows immediately from the way these quadratures are constructed: Indeed, if \n",
    "$p \\in \\mathbb{P}_n$ is a polynomial of degree at most $n$, then the interpolation polynomial will simply be equal to $p$ itself, and thus the integration is performed exactly.\n",
    "\n",
    "Note, however, that the degree of precision can actually be larger than $n$.\n",
    "It is left to the reader to show that\n",
    "the trapezoidal rule from Example 1 has degree of precision 1, whereas formula from Example 2 has degree of precision 3.\n",
    "\n",
    "\n",
    "# Construction and analysis of quadrature rules\n",
    "In the following, we will discuss the necessary steps for the construction\n",
    "of realistic algorithms for numerical integration, similar to those used\n",
    "in software like Matlab or SciPy. The steps are:\n",
    "\n",
    "**Construction.**\n",
    "\n",
    "1. Choose $n+1$ distinct nodes on a standard interval $[-1,1]$. \n",
    "\n",
    "2. Let $p_n(t)$ be the polynomial interpolating some general function $f(t)$ in the nodes, and let the  $Q[f](-1,1)=I[p_n](-1,1)$.  \n",
    "\n",
    "3. Transfer the formula $Q$ from $[-1,1]$ to an arbitrary interval $[a,b]$.\n",
    "\n",
    "4. Find the composite formula by dividing the interval $[a,b]$ into subintervals and applying the quadrature formula on each subinterval.\n",
    "\n",
    "5. Find an expression for the error $E[f](a,b) = I[f](a,b)-Q[f](a,b)$. \n",
    "\n",
    "6. Find an expression for an estimate of the error, and use this to create an adaptive algorithm.\n",
    "\n",
    "\n",
    "\n",
    "We will in this chapter go through the steps 1.-5. for one specific method, namely Simpson's formula,\n",
    "for which we will adopt the standard notation $S[f](a,b)$.\n",
    "After that, we will briefly discuss the same approach for the trapezoidal and midpoint rules.\n",
    "The strategy is quite generic, so it is more important to understand, and remember,\n",
    "how results are derived, not exactly what they are.\n",
    "\n",
    "Step 6 --- error estimation and creation of adaptive algorithms --- is more intricate\n",
    "and is therefore relegated to a separate chapter.\n",
    "\n",
    "\n",
    "\n",
    "## Construction of Simpson's rule\n",
    "\n",
    "\n",
    "### The quadrature formula on the standard interval  [-1,1]\n",
    "\n",
    "The quadrature rule is defined by the choice of nodes on a standard interval $[-1,1]$.\n",
    "For Simpson's rule, choose\n",
    "the nodes $t_0=-1$, $t_1=0$ and $t_2=1$. \n",
    "The corresponding cardinal\n",
    "functions are"
   ]
  },
  {
   "cell_type": "markdown",
   "metadata": {},
   "source": [
    "$$\n",
    "\\ell_0 = \\frac{1}{2}(t^2-t), \\qquad\n",
    "\\ell_1(t) = 1-t^2, \\qquad\n",
    "\\ell_2(t) = \\frac{1}{2}(t^2+t).\n",
    "$$"
   ]
  },
  {
   "cell_type": "markdown",
   "metadata": {},
   "source": [
    "which gives the weights"
   ]
  },
  {
   "cell_type": "markdown",
   "metadata": {},
   "source": [
    "$$\n",
    "w_0 = \\int_{-1}^1 \\ell_0(t)dt = \\frac{1}{3}, \\qquad\n",
    "w_1 = \\int_{-1}^1 \\ell_1(t)dt = \\frac{4}{3}, \\qquad\n",
    "w_2 = \\int_{-1}^1 \\ell_2(t)dt = \\frac{1}{3}\n",
    "$$"
   ]
  },
  {
   "cell_type": "markdown",
   "metadata": {},
   "source": [
    "such that"
   ]
  },
  {
   "cell_type": "markdown",
   "metadata": {},
   "source": [
    "$$\n",
    "\\int_{-1}^1 f(t) dt \\approx \\int_{-1}^1 p_2(t) dt = \\sum_{i=0}^2 w_i f(t_i) =\n",
    "\\frac{1}{3} \\left[\\; f(-1) + 4 f(0) + f(1) \\; \\right].\n",
    "$$"
   ]
  },
  {
   "cell_type": "markdown",
   "metadata": {},
   "source": [
    "Simpson's rule has degree of precision 3 (check it yourself). \n",
    "\n",
    "**Example 3:**"
   ]
  },
  {
   "cell_type": "markdown",
   "metadata": {},
   "source": [
    "$$\n",
    "\\int_{-1}^1 \\cos \\left( \\frac{\\pi t}{2}\\right)dt = \\frac{4}{\\pi}\n",
    "\\approx \\frac{1}{3}\\left[\\cos(-\\pi/2) + 4 \\cos(0)\n",
    "+ \\cos(\\pi/2) \\right]= \\frac{4}{3}.\n",
    "$$"
   ]
  },
  {
   "cell_type": "markdown",
   "metadata": {},
   "source": [
    "### Transfer the integral and the quadrature to the interval $[a,b]$\n",
    "\n",
    "The integral and the quadrature is transferred to some arbitrary interval\n",
    "$[a,b]$ by the transformation"
   ]
  },
  {
   "cell_type": "markdown",
   "metadata": {},
   "source": [
    "$$\n",
    "x = \\frac{b-a}{2}t + \\frac{b+a}{2}, \\qquad  \\text{so} \\qquad dx = \\frac{b-a}{2}dt.\n",
    "$$"
   ]
  },
  {
   "cell_type": "markdown",
   "metadata": {},
   "source": [
    "By this transformation, the nodes $t_0 = -1$, $t_1 = 0$, and $t_2 = 1$ in the interval\n",
    "$[-1,1]$ are mapped to"
   ]
  },
  {
   "cell_type": "markdown",
   "metadata": {},
   "source": [
    "$$\n",
    "x_0 = a, \\qquad\\qquad x_1 = \\frac{a+b}{2},\\qquad\\qquad x_2 = b.\n",
    "$$"
   ]
  },
  {
   "cell_type": "markdown",
   "metadata": {},
   "source": [
    "Thus we obtain the quadrature"
   ]
  },
  {
   "cell_type": "markdown",
   "metadata": {},
   "source": [
    "$$\n",
    "\\int_a^b f(x)dx = \\frac{b-a}{2} \\int_{-1}^1 f\\left(\\frac{b-a}{2}t + \\frac{b+a}{2}\\right) dt\n",
    "\\approx \\frac{b-a}{6} \\left[\\;f(a)+4f\\left(\\frac{b+a}{2}\\right)+f(b)\\;\\right].\n",
    "$$"
   ]
  },
  {
   "cell_type": "markdown",
   "metadata": {},
   "source": [
    "Simpson's rule over the interval $[a,b]$ becomes therefore"
   ]
  },
  {
   "cell_type": "markdown",
   "metadata": {},
   "source": [
    "$$\n",
    "S(a,b) = \\frac{b-a}{6}\\left[\\; f(a)+4f(c)+f(b)\\; \\right], \\quad\\text{with} \\quad c=\\frac{b+a}{2}.\n",
    "$$"
   ]
  },
  {
   "cell_type": "markdown",
   "metadata": {},
   "source": [
    "### Composite Simpson's rule\n",
    "\n",
    "Next we will have to discuss the corresponding composite rule. Here we have to choose\n",
    "a partition of the interval $[a,b]$ into sub-intervals, evaluate the quadrature\n",
    "on each of the sub-intervals, and finally add all results together.\n",
    "The final result will heavily rely on the choice of the sub-intervals,\n",
    "and we will discuss later an automated strategy for their construction.\n",
    "For now, we content ourselves with the simplest construction, where we\n",
    "take sub-intervals of equal lengths.\n",
    "\n",
    "Divide $[a,b]$ into $2m$ equal intervals of length \n",
    "$ h = (b-a)/(2m)$. Let $x_j = a+jh$, $i=0,\\cdots,2m$, and apply Simpson's rule\n",
    "on each subinterval $[x_{2j}, x_{2j+2}]$. The result is:"
   ]
  },
  {
   "cell_type": "markdown",
   "metadata": {},
   "source": [
    "$$\n",
    "\\begin{align*}\n",
    "\\int_a^b f(x)dx &= \\sum_{j=0}^{m-1} \\int_{x_{2j}}^{x_{2j+2}} f(x) dx \\\\ \n",
    "&\\approx \\sum_{j=0}^{m-1} S(x_{2j},x_{2j+2}) \n",
    " = \\sum_{j=0}^{m-1} \\frac{h}{3}\n",
    "\\left[ f(x_{2j}) + 4 f(x_{2j+1})+ f(x_{2j+2}) \\right] \\\\ &=\n",
    "\\frac{h}{3} \\left[ f(x_0) + 4\\sum_{j=0}^{m-1}f(x_{2j+1}) + 2 \\sum_{j=1}^{m-1}f(x_{2j}) + f(x_{2m}) \\right]\n",
    "\\end{align*}\n",
    "$$"
   ]
  },
  {
   "cell_type": "markdown",
   "metadata": {},
   "source": [
    "We will use the the notation $S_m(a,b)$ for the composite Simpson's rule on $m$ subintervals. \n",
    "\n",
    "### Implementation and testing\n",
    "\n",
    "It is now time to implement the composite Simpson's method, and see how well it\n",
    "works."
   ]
  },
  {
   "cell_type": "code",
   "execution_count": 2,
   "metadata": {
    "collapsed": false
   },
   "outputs": [],
   "source": [
    "def simpson(f, a, b, m=10):\n",
    "    \"\"\"\n",
    "    Find an approximation to an integral by the composite Simpson's method:\n",
    "    Input:  \n",
    "       f:    integrand\n",
    "       a, b: integration interval\n",
    "       m:    number of subintervals\n",
    "    Output: The approximation to the integral\n",
    "    \"\"\"\n",
    "    n = 2*m\n",
    "    x_nodes = np.linspace(a, b, n+1)       # equidistributed nodes from a to b \n",
    "    h = (b-a)/n                            # stepsize\n",
    "    S1 = f(x_nodes[0]) + f(x_nodes[n])     # S1 = f(x_0)+f(x_n)\n",
    "    S2 = np.sum(f(x_nodes[1:n:2]))         # S2 = f(x_1)+f(x_3)+...+f(x_m)\n",
    "    S3 = np.sum(f(x_nodes[2:n-1:2]))       # S3 = f(x_2)+f(x_4)+...+f(x_{m-1})\n",
    "    S = h*(S1 + 4*S2 + 2*S3)/3\n",
    "    return S"
   ]
  },
  {
   "cell_type": "markdown",
   "metadata": {},
   "source": [
    "The first thing to do is to test if the code is correct.\n",
    "We know that Simpson's rule has precision 3, thus\n",
    "all third degree polynomials can be integrated exactly. Choose one such\n",
    "polynomial, find the exact integral, and compare. \n",
    "\n",
    "**Numerical experiment 1:**\n",
    "Apply the code on the integral, and compare with the exact result."
   ]
  },
  {
   "cell_type": "markdown",
   "metadata": {},
   "source": [
    "$$\n",
    "\\int_{-1}^2(4x^3+x^2+2x-1)dx = 18.\n",
    "$$"
   ]
  },
  {
   "cell_type": "markdown",
   "metadata": {},
   "source": [
    "**Comment:** If you have no clue of the precision of your scheme, repeat the experiment on\n",
    "on $\\int_a^b x^j$ for $j=0,1,2,3, ...$."
   ]
  },
  {
   "cell_type": "code",
   "execution_count": 3,
   "metadata": {
    "collapsed": false
   },
   "outputs": [],
   "source": [
    "# Numerical experiment 1\n",
    "def f(x):                   # Integrand\n",
    "    return 4*x**3+x**2+2*x-1    \n",
    "a, b = -1, 2                # Integration interval\n",
    "I_exact = 18.0              # Exact value of the integral (for comparision)\n",
    "S = simpson(f, a, b, m=1)   # Numerical solution, using m subintervals   \n",
    "err = I_exact-S             # Error\n",
    "print('I = {:.8f},  S = {:.8f},  error = {:.3e}'.format(I_exact, S, err))"
   ]
  },
  {
   "cell_type": "markdown",
   "metadata": {},
   "source": [
    "**Numerical experiment 2:**\n",
    "We will assume that the error decreases when the number of subintervals $m$\n",
    "increases. But how much? \n",
    "\n",
    "Apply the composite method on the integral (again with a known solution):"
   ]
  },
  {
   "cell_type": "markdown",
   "metadata": {},
   "source": [
    "$$\n",
    "\\int_0^1 \\cos\\left(\\frac{\\pi x}{2}\\right )dx = \\frac{2}{\\pi}.\n",
    "$$"
   ]
  },
  {
   "cell_type": "markdown",
   "metadata": {},
   "source": [
    "Use the function 'simpson' with $m=1,2,4,8,16$ and see how the error changes\n",
    "with $m$. Comment on the result."
   ]
  },
  {
   "cell_type": "code",
   "execution_count": 4,
   "metadata": {
    "collapsed": false
   },
   "outputs": [],
   "source": [
    "# Numerical experiment 2\n",
    "def f(x):\n",
    "    return np.cos(0.5*np.pi*x)\n",
    "a, b = 0, 1\n",
    "I_exact = 2/np.pi\n",
    "for m in [1,2,4,8,16]:\n",
    "    S = simpson(f, a, b, m=m)   # Numerical solution, using m subintervals   \n",
    "    err = I_exact-S             # Error\n",
    "    if m == 1:\n",
    "        print('m = {:3d},  error = {:.3e}'.format(m, err))\n",
    "    else:\n",
    "        print('m = {:3d},  error = {:.3e},  reduction factor = {:.3e}'.format(m, err, err/err_prev))\n",
    "    err_prev=err"
   ]
  },
  {
   "cell_type": "markdown",
   "metadata": {},
   "source": [
    "From the experiment we observe that the error is reduced by a factor\n",
    "approximately $0.0625 = 1/16$ whenever the number of subintervals increases with\n",
    "a factor 2. In the following, we will prove that this is in fact what can be\n",
    "expected. \n",
    "\n",
    "## Error analysis of Simpson's rule\n",
    "First we will find an expression for the error $E(a,b)=I(a,b)-S(a,b)$ over one\n",
    "interval $(a,b)$. This will then be used to find an expression for the composite\n",
    "formula.  \n",
    "\n",
    "Let $c=(a+b)/2$ be the midpoint of the interval, and  $h=(b-a)/2$ be the distance between $c$\n",
    "and the endpoints $a$ and $b$. Do a Taylor series expansion of the integrand $f$\n",
    "around the midpoint, and integrate each term in the series."
   ]
  },
  {
   "cell_type": "markdown",
   "metadata": {},
   "source": [
    "$$\n",
    "\\begin{align*}\n",
    "\\int_a^b f(x)dx &= \\int_{-h}^{h} f(c+s)ds =\n",
    "\\int_{-h}^h \\left( f(c) + sf'(c) + \\frac{1}{2}s^2 f''(c) + \\frac{1}{6} s^3 f'''(c) + \\frac{1}{24}s^4 f^{(4)}(c) + \\dotsm \\right) ds \\\\ \n",
    "&= 2h f(c) + \\frac{h^3}{3} f''(c) + \\frac{h^5}{60} f^{(4)}(c) + \\dotsm.\n",
    "\\end{align*}\n",
    "$$"
   ]
  },
  {
   "cell_type": "markdown",
   "metadata": {},
   "source": [
    "Similarly, do a Taylor series expansion of the quadrature $S(a,b)$ around c:"
   ]
  },
  {
   "cell_type": "markdown",
   "metadata": {},
   "source": [
    "$$\n",
    "\\begin{align*}\n",
    "S(a,b) &= \\frac{h}{3}\\left( f(c-h)+4f(c)+f(c+h) \\right) \\\\ \n",
    "       &= \\frac{h}{3}\\left( f(c) - hf'(c) + \\frac{1}{2}h^2 f''(c) - \\frac{1}{6} h^3 f'''(c) + \\frac{1}{24}h^4 f^{(4)}(c) + \\dotsm \\right. \\\\ \n",
    "       &\\qquad + 4f(c) \\\\ \n",
    "       &\\qquad + \\left. f(c) + hf'(c) + \\frac{1}{2}h^2 f''(c) + \\frac{1}{6} h^3 f'''(c) + \\frac{1}{24}h^5 f^{(4)}(c) + \\dotsm \\right) \\\\ \n",
    "       &= 2h f(c) + \\frac{h^3}{3} f''(c) + \\frac{h^5}{36} f^{(4)}(c) + \\dotsm\n",
    "\\end{align*}\n",
    "$$"
   ]
  },
  {
   "cell_type": "markdown",
   "metadata": {},
   "source": [
    "The series expansion of the error becomes:"
   ]
  },
  {
   "cell_type": "markdown",
   "metadata": {},
   "source": [
    "$$\n",
    "E(a,b) = \\int_a^b f(x) dx - S(a,b) = -\\frac{h^5}{90} f^{(4)}(c) + \\cdots\n",
    "  = - \\frac{(b-a)^5}{2^5 \\cdot 90} f^{(4)}(c) + \\dotsm,\n",
    "$$"
   ]
  },
  {
   "cell_type": "markdown",
   "metadata": {},
   "source": [
    "using $h=(b-a)/2$. \n",
    "\n",
    "**NB!** By choosing to do the Taylor-expansions around the midpoint, every second\n",
    "term disappear thanks to symmetry. Choosing another point $\\hat{c}$ in the interval will\n",
    "give the same dominant error term (with $c$ replaced by $\\hat{c}$), but the\n",
    "calculations will be much more cumbersome.\n",
    "\n",
    "Usually, we will assume $h$ to be small, such that the first nonzero term in the\n",
    "series  dominates the error, and the rest of the series can be\n",
    "ignored. The precise statement about the error is given in the following theorem, \n",
    "the full proof is unfortunately far from trivial and considered outside the present scope. \n",
    "\n",
    "**Theorem: Error in Simpson's method.**\n",
    "\n",
    "Let $f(x) \\in C^{4}[a,b]$. There exists a $\\xi \\in (a,b)$ such that"
   ]
  },
  {
   "cell_type": "markdown",
   "metadata": {},
   "source": [
    "$$\n",
    "E(a,b) = \\int_a^b f(x)dx - \\frac{b-a}{6} \\left[\\;f(a)+4f\\left(\\frac{b+a}{2}\\right)+f(b)\\;\\right] = -\\frac{(b-a)^5}{2880}f^{(4)}(\\xi).\n",
    "$$"
   ]
  },
  {
   "cell_type": "markdown",
   "metadata": {},
   "source": [
    "**NB!**: Since  $p^{(4)}(x)=0$ for all $p \\in \\mathbb{P}_3$ the degree of precisision is 3. \n",
    "\n",
    "Use the theorem to find an expression for the error in the composite Simpson's\n",
    "formula $S_m(a,b)$:"
   ]
  },
  {
   "cell_type": "markdown",
   "metadata": {},
   "source": [
    "$$\n",
    "\\begin{align*}\n",
    "\\int_a^b f(x)dx - S_{m}(a,b) & =\n",
    "\\sum_{j=0}^{m-1} \\left( \\int_{x_{2j}}^{x_{2j+2}} f(x)dx - \\frac{h}{3}\n",
    "\\left[ f(x_{2j}) + 4 f(x_{2j+1})+ f(x_{2j+2}) \\right] \\right) \\\\ \n",
    "& = \\sum_{j=0}^{m-1} -\\frac{(2h)^5}{2880} f^{(4)}(\\xi_j)\n",
    "\\end{align*}\n",
    "$$"
   ]
  },
  {
   "cell_type": "markdown",
   "metadata": {},
   "source": [
    "where $\\xi_{j} \\in (x_{2j}, x_{2j+2})$. We can then use the generalized mean\n",
    "value theorem, see *Preliminaries*, section 5. According to this, there is a $\\xi \\in (a,b)$ such that"
   ]
  },
  {
   "cell_type": "markdown",
   "metadata": {},
   "source": [
    "$$\n",
    "\\sum_{j=0}^{m-1} f^{(4)}(\\xi_j) = m f^{(4)}(\\xi).\n",
    "$$"
   ]
  },
  {
   "cell_type": "markdown",
   "metadata": {},
   "source": [
    "Use $2mh = b-a$, and the following theorem has been proved:\n",
    "\n",
    "**Theorem: Error in composite Simpson's method.**\n",
    "\n",
    "Let $f(x) \\in C^{4}[a,b]$. There exists a $\\xi \\in (a,b)$ such that"
   ]
  },
  {
   "cell_type": "markdown",
   "metadata": {},
   "source": [
    "$$\n",
    "\\int_a^b f(x)dx - S_{m}(a,b) = -\\frac{(b-a)h^4}{180} f^{(4)}(\\xi).\n",
    "$$"
   ]
  },
  {
   "cell_type": "markdown",
   "metadata": {},
   "source": [
    "**Example 4:** \n",
    "Find the upper bound for the error when the composite Simpson's rule is applied\n",
    "to the integral $\\int_0^1 \\cos(\\pi x/2)dx$. \n",
    "\n",
    "In this case $f^{(4)}(x) = (\\pi^4/16) \\cos(\\pi\n",
    "x/2)$, so that $|f^{4)}(x)| \\leq  (\\pi/2)^4$. The error bound becomes"
   ]
  },
  {
   "cell_type": "markdown",
   "metadata": {},
   "source": [
    "$$\n",
    "|I(a,b)-S_m(a,b)| \\leq \\frac{1}{180} \\left(\\frac{1}{2m}\\right)^4 \n",
    "\\left(\\frac{\\pi}{2}\\right)^4 = \\frac{\\pi^4}{46080}\\frac{1}{m^4}.\n",
    "$$"
   ]
  },
  {
   "cell_type": "markdown",
   "metadata": {},
   "source": [
    "If $m$ is increased by a factor  2, the error will be reduced by a factor of\n",
    "1/16, as indicated by Numerical experiment 2. \n",
    "\n",
    "**Numerical exercise:** \n",
    "Include the error bound in the output of Numerical experiment 2, and confirm that it really holds.\n",
    "\n",
    "\n",
    "**Remark:**\n",
    "The result above shows that the composite Simpson rule with equidistant nodes\n",
    "converges with convergence order 4 (in terms of the node distance $h$) to\n",
    "the actual integral. That is, the convergence order is equal to the degree of\n",
    "precision $+1$.\n",
    "This relation between degree of precision and convergence order can be shown to hold \n",
    "in general:\n",
    "If a composite quadrature rule with equidistant nodes is based on a simple quadrature\n",
    "rule, as constructed above, with degree of precision $p$,\n",
    "then the composite rule will have convergence\n",
    "order $p+1$ for all functions $f \\in C^{p+1}[a,b]$.\n",
    "\n",
    "\n",
    "## Trapezoidal and midpoint rule\n",
    "\n",
    "Without going into the details of the respective derivations,\n",
    "we will now summarise the results one obtains for the trapezoidal and the midpoint rule.\n",
    "\n",
    "### Trapezoidal rule\n",
    "\n",
    "On the standard interval $[-1,1]$, the trapezoidal rule $T$ is given as\n",
    "\\[\n",
    "T(-1,1) = f(-1) + f(1).\n",
    "\\]\n",
    "That is, we have the nodes and weights"
   ]
  },
  {
   "cell_type": "markdown",
   "metadata": {},
   "source": [
    "$$\n",
    "\\begin{align*}\n",
    "t_0 &= -1,& t_1&= 1,\\\\ \n",
    "w_0 &= 1,& w_1&= 1.\n",
    "\\end{align*}\n",
    "$$"
   ]
  },
  {
   "cell_type": "markdown",
   "metadata": {},
   "source": [
    "In order to transfer the rule to an arbitrary interval $[a,b]$,\n",
    "we again apply the transformation"
   ]
  },
  {
   "cell_type": "markdown",
   "metadata": {},
   "source": [
    "$$\n",
    "x = \\frac{a+b}{2} + \\frac{b-a}{2}t\n",
    "\\qquad\\qquad\\text{ with }\n",
    "dx = \\frac{b-a}{2}dt.\n",
    "$$"
   ]
  },
  {
   "cell_type": "markdown",
   "metadata": {},
   "source": [
    "This yields the new nodes $x_0 = a$ and $x_1 = b$,\n",
    "and the quadrature"
   ]
  },
  {
   "cell_type": "markdown",
   "metadata": {},
   "source": [
    "$$\n",
    "\\int_a^b f(x)\\,dx = \\frac{b-a}{2} \\int_{-1}^{1} f\\Bigl(\\frac{a+b}{2}+\\frac{b-a}{2}t\\Bigr)\\,dt\n",
    "\\approx \\frac{b-a}{2}\\bigl(f(a) + f(b)\\bigr).\n",
    "$$"
   ]
  },
  {
   "cell_type": "markdown",
   "metadata": {},
   "source": [
    "This gives us the (well known) formula for the trapezoidal rule\n",
    "on an arbitrary interval,"
   ]
  },
  {
   "cell_type": "markdown",
   "metadata": {},
   "source": [
    "$$\n",
    "T(a,b) = \\frac{b-a}{2}\\bigl(f(a) + f(b)\\bigr).\n",
    "$$"
   ]
  },
  {
   "cell_type": "markdown",
   "metadata": {},
   "source": [
    "Next, we find the composite formula for the trapezoidal rule,\n",
    "given a partition of the interval $[a,b]$.\n",
    "As for Simpson's rule, the result depends on the type of partition\n",
    "we are choosing, the simplest case, again, being that of\n",
    "a uniform partition of $[a,b]$.\n",
    "For that, we divide the interval into $m$ sub-intervals $[X_j,X_{j+1}]$ of equal\n",
    "length $h = (b-a)/m$.\n",
    "That is, we have $X_j = a + jh$.\n",
    "If we then apply the (simple) trapezoidal rule on each subinterval,\n",
    "we obtain the approximation"
   ]
  },
  {
   "cell_type": "markdown",
   "metadata": {},
   "source": [
    "$$\n",
    "\\int_a^b f(x)\\,dx \\approx \\sum_{j=0}^{m-1} T(X_j,X_{j+1})\n",
    "= \\sum_{j=0}^{m-1} \\frac{h}{2} \\bigl[f(X_j) + f(X_{j+1})\\bigr]\n",
    "= h \\Bigl[ \\frac{1}{2}f(a) + \\sum_{j=1}^{m-1} f(X_j) + \\frac{1}{2}f(b)\\Bigr].\n",
    "$$"
   ]
  },
  {
   "cell_type": "markdown",
   "metadata": {},
   "source": [
    "The next step would be the error analysis.\n",
    "Because this is somehow lengthy and does not offer any new insight, it being\n",
    "along the same lines as the analysis of Simpson's rule,\n",
    "we will only state the final results:\n",
    "\n",
    "**Theorem: Error in the trapezoidal rule.**\n",
    "\n",
    "Let $f(x) \\in C^{2}[a,b]$. There exists a $\\xi \\in (a,b)$ such that"
   ]
  },
  {
   "cell_type": "markdown",
   "metadata": {},
   "source": [
    "$$\n",
    "E(a,b) = \\int_a^b f(x)dx - \\frac{b-a}{2} \\bigl(f(a) + f(b)\\bigr) = -\\frac{(b-a)^3}{12}f''(\\xi).\n",
    "$$"
   ]
  },
  {
   "cell_type": "markdown",
   "metadata": {},
   "source": [
    "**Theorem: Error in the composite trapezoidal rule.**\n",
    "\n",
    "Let $f(x) \\in C^{2}[a,b]$. There exists a $\\xi \\in (a,b)$ such that"
   ]
  },
  {
   "cell_type": "markdown",
   "metadata": {},
   "source": [
    "$$\n",
    "\\int_a^b f(x)dx - T_{m}(a,b) = -\\frac{(b-a)h^2}{12} f''(\\xi).\n",
    "$$"
   ]
  },
  {
   "cell_type": "markdown",
   "metadata": {},
   "source": [
    "### Midpoint rule\n",
    "\n",
    "On the standard interval $[-1,1]$, the midpoint rule $M$ is given as\n",
    "\\[\n",
    "M(-1,1) = 2f(0).\n",
    "\\]\n",
    "That is, we have only a single node and single weight"
   ]
  },
  {
   "cell_type": "markdown",
   "metadata": {},
   "source": [
    "$$\n",
    "t_0 = 0\n",
    "\\qquad\\text{ and }\\qquad\n",
    "w_0 = 2.\n",
    "$$"
   ]
  },
  {
   "cell_type": "markdown",
   "metadata": {},
   "source": [
    "The transfer to an aribtrary interval $[a,b]$ works the\n",
    "same as for the other rules, and results in the new node $x_0 = (a+b)/2$\n",
    "and the quadrature"
   ]
  },
  {
   "cell_type": "markdown",
   "metadata": {},
   "source": [
    "$$\n",
    "M(a,b) = (b-a) f\\Bigl(\\frac{a+b}{2}\\Bigr).\n",
    "$$"
   ]
  },
  {
   "cell_type": "markdown",
   "metadata": {},
   "source": [
    "For the composite formula, we, again, only derive an explicit\n",
    "formula for the simplest case of a uniform partition of $[a,b]$.\n",
    "Setting $X_j = a + jh$ with $h = (b-a)/m$, we obtain the formula"
   ]
  },
  {
   "cell_type": "markdown",
   "metadata": {},
   "source": [
    "$$\n",
    "\\int_a^b f(x)\\,dx \\approx \\sum_{j=0}^{m-1} M(X_j,X_{j+1})\n",
    "= \\frac{b-a}{m} \\sum_{j=0}^{m-1} f\\Bigl(\\frac{X_j+X_{j+1}}{2}\\Bigr) =: M_m(a,b).\n",
    "$$"
   ]
  },
  {
   "cell_type": "markdown",
   "metadata": {},
   "source": [
    "With the abbreviation"
   ]
  },
  {
   "cell_type": "markdown",
   "metadata": {},
   "source": [
    "$$\n",
    "X_{j+1/2} := \\frac{X_j + X_{j+1}}{2},\n",
    "$$"
   ]
  },
  {
   "cell_type": "markdown",
   "metadata": {},
   "source": [
    "we obtain the simpler form"
   ]
  },
  {
   "cell_type": "markdown",
   "metadata": {},
   "source": [
    "$$\n",
    "M_m(a,b) = \\frac{b-a}{m} \\sum_{j=0}^{m-1} f(X_{j+1/2}).\n",
    "$$"
   ]
  },
  {
   "cell_type": "markdown",
   "metadata": {},
   "source": [
    "Even though the midpoint rule only uses a single node,\n",
    "it turns out to have the same degree of precision as the trapezoidal\n",
    "rule that uses two nodes.\n",
    "In fact, the error for the midpoint rule is actually smaller than\n",
    "that for the trapezoidal rule, as the following theorems show:\n",
    "\n",
    "**Theorem: Error in the midpoint rule.**\n",
    "\n",
    "Let $f(x) \\in C^{2}[a,b]$. There exists a $\\xi \\in (a,b)$ such that"
   ]
  },
  {
   "cell_type": "markdown",
   "metadata": {},
   "source": [
    "$$\n",
    "E(a,b) = \\int_a^b f(x)dx - (b-a) f\\Bigl(\\frac{b-a}{2}\\Bigr) = \\frac{(b-a)^3}{24}f''(\\xi).\n",
    "$$"
   ]
  },
  {
   "cell_type": "markdown",
   "metadata": {},
   "source": [
    "**Theorem: Error in the composite midpoint rule.**\n",
    "\n",
    "Let $f(x) \\in C^{2}[a,b]$. There exists a $\\xi \\in (a,b)$ such that"
   ]
  },
  {
   "cell_type": "markdown",
   "metadata": {},
   "source": [
    "$$\n",
    "\\int_a^b f(x)dx - M_{m}(a,b) = \\frac{(b-a)h^2}{24} f''(\\xi).\n",
    "$$"
   ]
  },
  {
   "cell_type": "markdown",
   "metadata": {},
   "source": [
    "From these results, it appears as if the midpoint rule\n",
    "were preferable over the trapezoidal rule, since it yields\n",
    "a more accurate result while requiring fewer computations.\n",
    "Actual implementations, however, rarely if ever use a uniform\n",
    "partition of the interval $[a,b]$ for the computation of the\n",
    "composite rule, but rather use some type of adaptive strategy,\n",
    "as described in the next chapter.\n",
    "For such adaptive strategies, the trapezoidal rule\n",
    "can be easier to use and also faster,\n",
    "as many calculations, and in particular evaluations\n",
    "of the function $f$, can be reused.\n",
    "For the midpoint rule, this requires a different\n",
    "adaptation strategy, which may be less efficient in practice.\n",
    "\n",
    "\n",
    "\n",
    "# Practical quadrature rules\n",
    "\n",
    "## Error estimation\n",
    "From a practical point of view, the error expressions derived in the previous chapter have some\n",
    "limitations, the main difficulty being that they depend on the value of\n",
    "some derivative of $f$ at an unknown point $\\xi \\in (a,b)$;\n",
    "for Simpson's rule, for instance, we require knowledge of $f^{(4)}(\\xi)$.\n",
    "In practice, we can thus at best use an error estimate of the form"
   ]
  },
  {
   "cell_type": "markdown",
   "metadata": {},
   "source": [
    "$$\n",
    "\\lvert I(a,b) - S_m(a,b)\\rvert \\le \\frac{(b-a) h^4}{180} \\lVert f^{(4)}\\rVert_\\infty,\n",
    "$$"
   ]
  },
  {
   "cell_type": "markdown",
   "metadata": {},
   "source": [
    "where $\\lVert f^{(4)}\\rVert_\\infty = \\max_{x\\in[a,b]}|f^{(4)}(x)|$. \n",
    "This bound, however, often vastly overestimates the actual error.\n",
    "In addition, we do not always\n",
    "know (or want to find) $\\lVert f^{(4)}\\rVert_\\infty$. So the question arises:\n",
    "How can we find an estimate of the error, without any extra analytical\n",
    "calculations? \n",
    "\n",
    "Again, we discuss specifically the case of Simpson's rule.\n",
    "For the other methods, the argumentation is similar, but the\n",
    "actual formulas will be slightly different, depending on\n",
    "the convergence order of the quadrature rule one uses.\n",
    "\n",
    "\n",
    "Let the interval $(a,b)$ chosen small, such that $f^{(4)}(x)$ can be\n",
    "assumed to be almost constant over the interval. Let $H=b-a$ be the length of the interval. Let $S_1(a,b)$ and $S_2(a,b)$ be the results from Simpson's formula over one and two subintervals respectively. Further, let $C = -f^{(4)}(x)/2880$ for some $x\\in [a,b]$, which $x$ does not matter since $f^{(4)}$ is assumed almost constant anyway. The errors of the two approximations are then given by"
   ]
  },
  {
   "cell_type": "markdown",
   "metadata": {},
   "source": [
    "$$\n",
    "\\begin{align*}\n",
    "I(a,b) - S_1(a,b) &\\approx C H^5,  \\\\ \n",
    "I(a,b) - S_2(a,b) &\\approx 2 C \\left(\\frac{H}{2}\\right)^5.\n",
    "\\end{align*}\n",
    "$$"
   ]
  },
  {
   "cell_type": "markdown",
   "metadata": {},
   "source": [
    "Subtract the two expressions to eliminate $I(a,b)$:"
   ]
  },
  {
   "cell_type": "markdown",
   "metadata": {},
   "source": [
    "$$\n",
    "S_2(a,b) - S_1(a,b) \\approx \\frac{15}{16}C H^5\n",
    "   \\qquad \\Rightarrow \\qquad\n",
    "   CH^5 \\approx \\frac{16}{15}(S_2(a,b) - S_1(a,b)).\n",
    "$$"
   ]
  },
  {
   "cell_type": "markdown",
   "metadata": {},
   "source": [
    "Insert this  in the expression for the error:"
   ]
  },
  {
   "cell_type": "markdown",
   "metadata": {},
   "source": [
    "$$\n",
    "\\begin{align*}\n",
    "E_1(a,b) = I(a,b) - S_1(a,b) &\\approx \\frac{16}{15} (\\,S_2(a,b) - S_1(a,b)\\, ) = \\mathcal{E}_1(a,b), \\\\ \n",
    "E_2(a,b) =  I(a,b) - S_2(a,b) &\\approx \\frac{1}{15} (\\,S_2(a,b) - S_1(a,b)\\, ) = \\mathcal{E}_2(a,b).\n",
    "\\end{align*}\n",
    "$$"
   ]
  },
  {
   "cell_type": "markdown",
   "metadata": {},
   "source": [
    "This gives us a computable estimate for the error, both in $S_1$ and $S_2$. As\n",
    "the error in $S_2(a,b)$ is about 1/16 of the error in $S_1(a,b)$, and we anyway\n",
    "need to compute both, we will use $S_2(a,b)$ as our approximation. An even better\n",
    "approximation to the integral is given for free by just adding the error\n",
    "estimate,"
   ]
  },
  {
   "cell_type": "markdown",
   "metadata": {},
   "source": [
    "$$\n",
    "I(a,b) \\approx S_2(a,b) + \\mathcal{E}_2(a,b)\n",
    "= \\frac{16}{15} S_2(a,b) - \\frac{1}{15} S_1(a,b).\n",
    "$$"
   ]
  },
  {
   "cell_type": "markdown",
   "metadata": {},
   "source": [
    "**Example 5:**\n",
    "Find an approximation to the integral $\\int_0^1\\cos(x)dx = \\sin(1)$ by Simpson's\n",
    "rule over one and two subintervals. Find the error estimates $\\mathcal{E}_m$,\n",
    "$m=1,2$  and compare with the exact error. \n",
    "\n",
    "*Solution:*"
   ]
  },
  {
   "cell_type": "markdown",
   "metadata": {},
   "source": [
    "$$\n",
    "\\begin{align*}\n",
    "S_1(0,1) &= \\frac{1}{6} \\big[ \\cos(0.0) + 4\\cos(0.5) + \\cos(1.0) \\big] = 0.8417720923 \\\\ \n",
    "S_2(0,1) &= \\frac{1}{12} \\big[ \\cos(0.0) + 4 \\cos(0.25) +2 \\cos(0.5) + 4 \\cos(0.75) + \\cos(1.0) \\big] = 0.8414893826\n",
    "\\end{align*}\n",
    "$$"
   ]
  },
  {
   "cell_type": "markdown",
   "metadata": {},
   "source": [
    "The exact error and the error estimate become:"
   ]
  },
  {
   "cell_type": "markdown",
   "metadata": {},
   "source": [
    "$$\n",
    "\\begin{align*}\n",
    "E_1(0,1) &= \\sin(1) - S_1(0,1) = -3.011 \\cdot 10^{-4}, \\quad \\\\ \n",
    "\\mathcal{E}_1(0,1) &= \\frac{16}{15}(S_2-S_1) = -3.016\\cdot 10^{-4},  \\\\ \n",
    "E_2(0,1) &= \\sin(1)-S_2(0,1) = -1.840 \\cdot 10^{-5}, \\quad \\\\ \n",
    "\\mathcal{E}_2(0,1) &= \\frac{1}{16} (S_2-S_1) = -1.885 \\cdot 10^{-5}.\n",
    "\\end{align*}\n",
    "$$"
   ]
  },
  {
   "cell_type": "markdown",
   "metadata": {},
   "source": [
    "In this case, it is a very good correspondence between the error estimate and\n",
    "the exact error. An even better approximation is obtained by adding the error\n",
    "estimate to $S_2$:"
   ]
  },
  {
   "cell_type": "markdown",
   "metadata": {},
   "source": [
    "$$\n",
    "Q = S_{2}(0,1) + \\mathcal{E}_2(0,1) = 0.8414705353607151\n",
    "$$"
   ]
  },
  {
   "cell_type": "markdown",
   "metadata": {},
   "source": [
    "with an error $\\sin(1)-Q = 4.4945 \\cdot 10^{-7}$. This gives a lot of additional\n",
    "accuracy without any extra work. \n",
    "\n",
    "### Implementation of Simpson's method with an error estimate\n",
    "\n",
    "The function `simpson_basic` returns"
   ]
  },
  {
   "cell_type": "markdown",
   "metadata": {},
   "source": [
    "$$\n",
    "S_2(a,b) \\approx \\int_{a}^b f(x)dx\n",
    "$$"
   ]
  },
  {
   "cell_type": "markdown",
   "metadata": {},
   "source": [
    "including an error estimate."
   ]
  },
  {
   "cell_type": "code",
   "execution_count": 5,
   "metadata": {
    "collapsed": false
   },
   "outputs": [],
   "source": [
    "def simpson_basic(f, a, b):\n",
    "    \"\"\"\n",
    "    Simpson's method with error estimate\n",
    "    Input:  \n",
    "       f:    integrand\n",
    "       a, b: integration interval\n",
    "    Output:\n",
    "       S_2(a,b) and the error estimate.\n",
    "    \"\"\" \n",
    "    # The nodes \n",
    "    c = 0.5*(a+b)\n",
    "    d = 0.5*(a+c)\n",
    "    e = 0.5*(c+b)\n",
    "    \n",
    "    # Calculate S1=S_1(a,b), S2=S_2(a,b) \n",
    "    H = b-a\n",
    "    S1 = H*(f(a)+4*f(c)+f(b))/6\n",
    "    S2 = 0.5*H*(f(a)+4*f(d)+2*f(c)+4*f(e)+f(b))/6\n",
    "\n",
    "    error_estimate = (S2-S1)/15    # Error estimate for S2\n",
    "    return S2, error_estimate"
   ]
  },
  {
   "cell_type": "markdown",
   "metadata": {},
   "source": [
    "**Test:**\n",
    "As a first check of the implementation, use the example above, and make sure\n",
    "that the results are the same:"
   ]
  },
  {
   "cell_type": "code",
   "execution_count": 6,
   "metadata": {
    "collapsed": false
   },
   "outputs": [],
   "source": [
    "# Test of simpson_basic\n",
    "\n",
    "def f(x):               # Integrand\n",
    "    return np.cos(x)\n",
    "\n",
    "a, b = 0, 1             # Integration interval\n",
    "    \n",
    "I_exact = np.sin(1)     # Exact solution for comparision\n",
    "\n",
    "# Simpson's method over two intervals, with error estimate\n",
    "S, error_estimate = simpson_basic(f, a, b)\n",
    "\n",
    "# Print the result and the exact solution \n",
    "print(f\"Numerical solution = {S:.8f}, exact solution = {I_exact:.8f}\")\n",
    "\n",
    "# Compare the error and the error estimate \n",
    "print(f\"Error in S2 = {I_exact-S:.3e},  error estimate for S2 = {error_estimate:.3e}\")"
   ]
  },
  {
   "cell_type": "markdown",
   "metadata": {},
   "source": [
    "Next, let us see how reliable the quadrature and the error estimates are for\n",
    "another example, which you have to do yourself: \n",
    "\n",
    "**Numerical experiment 3:**\n",
    "Given the integral (with solution)"
   ]
  },
  {
   "cell_type": "markdown",
   "metadata": {},
   "source": [
    "$$\n",
    "I(a,b) = \\int_a^b \\frac{1}{1+16x^2} dx  = \\left. \\frac{\\arctan(4x)}{4}\n",
    "\\right|_a^b\n",
    "$$"
   ]
  },
  {
   "cell_type": "markdown",
   "metadata": {},
   "source": [
    "1. Use `simson_basic` to find an approximation to the integral over the interval $[0,8]$. Print out $S_2(0,8)$, the error estimate $\\mathcal{E}_2(0,8)$ and the real error $E_2(0,8)$. How reliable are the error estimates?\n",
    "\n",
    "2. Repeat the experiment over the intervals $[0,1]$ and $[4, 8]$. Notice the difference between exact error of the two intervals.\n",
    "\n",
    "3. Repeat the experiment over the interval $[0,0.1]$.\n",
    "\n",
    "This is what you should observe from the experiment:\n",
    "1. Interval $[0,8]$: The error is large, and the error estimate is significantly smaller than the real error (the error is *under-estimated*).\n",
    "\n",
    "2. Interval $[0,1]$: As for the interval $[0,8]$. \n",
    "\n",
    "3. Interval $[4,8]$: Small error, and a reasonable error estimate.\n",
    "\n",
    "4. Interval $[0,0.1]$: Small error, reasonable error estimate.\n",
    "\n",
    "Why is it so, and how can we deal with it? Obviously, we need small subintervals\n",
    "near $x=0$, while large subintervals are acceptable in the last half of the\n",
    "interval. \n",
    "\n",
    "**Explanation:**\n",
    "The error in Simpson's method is given by"
   ]
  },
  {
   "cell_type": "markdown",
   "metadata": {},
   "source": [
    "$$\n",
    "E(a,b) = -\\frac{(b-a)^5}{2880}f^{(4)}(\\xi).\n",
    "$$"
   ]
  },
  {
   "cell_type": "markdown",
   "metadata": {},
   "source": [
    "So let us take a look at $f^{(4)}(x)$:"
   ]
  },
  {
   "cell_type": "markdown",
   "metadata": {},
   "source": [
    "$$\n",
    "f(x)=\\frac{1}{1+16x^2} \\qquad \\Rightarrow \\qquad\n",
    "   f^{(4)}(x) = 6144 \\frac{1280 x^4 - 160x^2 +1}{(1-16x^2)^5}\n",
    "$$"
   ]
  },
  {
   "cell_type": "code",
   "execution_count": 7,
   "metadata": {
    "collapsed": false
   },
   "outputs": [],
   "source": [
    "# Plot the 4th derivate of Runge's function:\n",
    "def df4(x):\n",
    "    return 6144*(1280*x**4-160*x**2+1)/((1+16*x**2)**5)\n",
    "x = np.linspace(0, 8, 1001)\n",
    "plt.plot(x, df4(x))\n",
    "plt.title('The 4th derivative of Runges function');\n",
    "plt.xlabel('x');"
   ]
  },
  {
   "cell_type": "markdown",
   "metadata": {},
   "source": [
    "It is no surprise that the error is large and the error estimates fail (we have assumed $f^{(4)}$ almost constant for the estimates) over the interval $[0,1]$. The part of the interval where $f^{(4)}(x)$ is large has to be partitioned in significantly smaller subintervals to get an acceptable result. But how, as $f^{(4)}$ is in general not known? This is the topic of the next section. \n",
    "\n",
    "## Adaptive integration\n",
    "\n",
    "Given a basic function, for example `simpson_basic`, returning an approximation $Q(a,b)$ to the integral, as well as an error estimate $\\mathcal{E}(a,b)$. Based on this, we want to find a partitioning of the interval:"
   ]
  },
  {
   "cell_type": "markdown",
   "metadata": {},
   "source": [
    "$$\n",
    "a = X_0 < X_1 \\cdots < X_m = b\n",
    "$$"
   ]
  },
  {
   "cell_type": "markdown",
   "metadata": {},
   "source": [
    "such that"
   ]
  },
  {
   "cell_type": "markdown",
   "metadata": {},
   "source": [
    "$$\n",
    "|\\mathcal{E}(X_j, X_{j+1})| \\approx \\frac{X_{k+1}-X_k}{b-a} \\cdot \\text{Tol}\n",
    "$$"
   ]
  },
  {
   "cell_type": "markdown",
   "metadata": {},
   "source": [
    "where $\\text{Tol}$ is a tolerance given by the user. In this case"
   ]
  },
  {
   "cell_type": "markdown",
   "metadata": {},
   "source": [
    "$$\n",
    "\\text{Accumulated error over $(a,b)$} \\approx \\sum_{j=0}^{m-1} \\mathcal{E}(X_k, X_{k+1})\n",
    "   \\leq \\text{Tol}.\n",
    "$$"
   ]
  },
  {
   "cell_type": "markdown",
   "metadata": {},
   "source": [
    "Such a partitioning can be done by a recursive algorithm:\n",
    "\n",
    "**Algorithm: Adaptive quadrature.**\n",
    "\n",
    "Given $f$, $a$, $b$ and a user defined tolerance Tol.\n",
    "* Calculate $Q(a,b)$ and $\\mathcal{E}(a,b)$.\n",
    "\n",
    "* **if** $|\\mathcal{E}(a,b)| \\leq \\text{Tol}$:\n",
    "\n",
    "    * Accept the result, return $Q(a,b) + \\mathcal{E}(a,b)$ as an approximation to $I(a,b)$.\n",
    "\n",
    "\n",
    "* **else**:\n",
    "\n",
    "    * Let $c=(a+b)/2$, and repeat the process on each of the subintervals $[a,c]$ and $[c,b]$, with tolerance  $\\text{Tol}/2$.\n",
    "\n",
    "\n",
    "* Sum up the accepted results from each subinterval.\n",
    "\n",
    "\n",
    "\n",
    "### Implementation\n",
    "\n",
    "The adaptive algorithm is implemented below with `simpson_basic` as the basic quadrature routine. \n",
    "The function `simpson_adaptive` is a recursive function, that is a function that calls itself.\n",
    "To avoid it to do so infinitely many times, an extra variable `level` is introduced, this will increase by one for each time the function calls itself. If `level` is over some maximum value, the result is returned, and a warning printed."
   ]
  },
  {
   "cell_type": "code",
   "execution_count": 8,
   "metadata": {
    "collapsed": false
   },
   "outputs": [],
   "source": [
    "def simpson_basic(f, a, b):\n",
    "    \"\"\"\n",
    "    Simpson's method with error estimate\n",
    "    Input:  \n",
    "       f:    integrand\n",
    "       a, b: integration interval\n",
    "    Output:\n",
    "       S_2(a,b) and the error estimate.\n",
    "    \"\"\" \n",
    "    # The nodes \n",
    "    c = 0.5*(a+b)\n",
    "    d = 0.5*(a+c)\n",
    "    e = 0.5*(c+b)\n",
    "    \n",
    "    # Calculate S1=S_1(a,b), S2=S_2(a,b) \n",
    "    H = b-a\n",
    "    S1 = H*(f(a)+4*f(c)+f(b))/6\n",
    "    S2 = 0.5*H*(f(a)+4*f(d)+2*f(c)+4*f(e)+f(b))/6\n",
    "\n",
    "    error_estimate = (S2-S1)/15    # Error estimate for S2\n",
    "    return S2, error_estimate"
   ]
  },
  {
   "cell_type": "code",
   "execution_count": 9,
   "metadata": {
    "collapsed": false
   },
   "outputs": [],
   "source": [
    "def simpson_adaptive(f, a, b, tol = 1.e-6, level = 0, maks_level=15):\n",
    "    \"\"\"\n",
    "    Simpson's adaptive method\n",
    "    Input:  \n",
    "       f:    integrand\n",
    "       a, b: integration interval\n",
    "       tol:  tolerance\n",
    "       level, maks_level: For the recursion. Just ignore them. \n",
    "    Output:\n",
    "       The approximation to the integral\n",
    "    \"\"\" \n",
    "    \n",
    "    Q, error_estimate = simpson_basic(f, a, b)    # The quadrature and the error estimate \n",
    "    \n",
    "    # -------------------------------------------------\n",
    "    # Write the output, and plot the nodes. \n",
    "    # This part is only for illustration. \n",
    "    if level == 0:\n",
    "        print(' l   a           b         feil_est   tol')\n",
    "        print('==============================================') \n",
    "    print('{:2d}   {:.6f}   {:.6f}   {:.2e}   {:.2e}'.format(\n",
    "            level, a, b, abs(error_estimate), tol))\n",
    "    \n",
    "    x = np.linspace(a, b, 101)\n",
    "    plt.plot(x, f(x), [a, b], [f(a), f(b)], '.r')\n",
    "    plt.title('The integrand and the subintervals')\n",
    "    # -------------------------------------------------\n",
    "    \n",
    "    if level >= maks_level:\n",
    "        print('Warning: Maximum number of levels used.')\n",
    "        return Q\n",
    "    \n",
    "    if abs(error_estimate) < tol:         # Accept the result, and return\n",
    "        result = Q + error_estimate      \n",
    "    else:\n",
    "        # Divide the interval in two, and apply the algorithm to each interval.\n",
    "        c = 0.5*(b+a)\n",
    "        result_left  = simpson_adaptive(f, a, c, tol = 0.5*tol, level = level+1)\n",
    "        result_right = simpson_adaptive(f, c, b, tol = 0.5*tol, level = level+1)\n",
    "        result = result_right + result_left\n",
    "    return result"
   ]
  },
  {
   "cell_type": "markdown",
   "metadata": {},
   "source": [
    "**Numerical experiment 4:**\n",
    "Use adaptive Simpson to find an approximation to the integral $ \\int_0^5 1/(1+16x^2)dx $ using the tolerances Tol=$10^{-3}, 10^{-5}, 10^{-7}$. Compare the numerical result with the exact one."
   ]
  },
  {
   "cell_type": "code",
   "execution_count": 10,
   "metadata": {
    "collapsed": false
   },
   "outputs": [],
   "source": [
    "# Test: The adaptive Simpson's method\n",
    "def f(x):                                      # Integrand       \n",
    "    return 1/(1+(4*x)**2)\n",
    "a, b = 0, 8                                    # Integration interval\n",
    "I_exact = 0.25*(np.arctan(4*b)-np.arctan(4*a)) # Exact integral\n",
    "tol = 1.e-3                                    # Tolerance\n",
    "# Apply the algorithm\n",
    "result = simpson_adaptive(f, a, b, tol=tol)\n",
    "# Print the result and the exact solution \n",
    "print(f\"\\nNumerical solution = {result:8f}, exact solution = {I_exact:8f}\")\n",
    "# Compare the measured error and the tolerance\n",
    "err = I_exact - result\n",
    "print(f\"\\nTolerance = {tol:.1e}, error = {abs(err):.3e}\")"
   ]
  },
  {
   "cell_type": "markdown",
   "metadata": {},
   "source": [
    "# Other quadrature formulas\n",
    "Simpson's rule, the trapezoidal rule, and the midpoint rule are only three exampless\n",
    "of quadrature rules derived from polynomial interpolation.\n",
    "There are many others, and the whole process of deriving the methods,\n",
    "doing the error analysis, developing error estimates and finally implementing\n",
    "adaptive algorithms can be repeated. \n",
    "\n",
    "We will conclude this note with a few other popular classes of methods:\n",
    "\n",
    "### Newton-Cotes formulas\n",
    "\n",
    "These are based on equidistributed nodes. The simplest choices here --- the\n",
    "*closed* Newton-Cotes methods --- use the nodes\n",
    "$x_i = a + ih$ with $h = (b-a)/n$. Examples of these are the Trapezoidal rule and Simpson's rule.\n",
    "The main appeal of these rules is the simple definition of the nodes.\n",
    "\n",
    "If $n$ is odd, the Newton-Cotes method with $n+1$ nodes has degree of precision $n$;\n",
    "if $n$ is even, it has degree of precision $n+1$. The corresponding convergence order\n",
    "for the composite rule is, as for all such rules, one larger than the degree of precision,\n",
    "provided that the function $f$ is sufficiently smooth.\n",
    "\n",
    "However, for $n \\ge 8$ negative weights begin to appear in the definitions.\n",
    "This has the undesired effect that the numerical integral of a positive function\n",
    "can be negative. In addition, this can lead to cancellation errors in the\n",
    "numerical evaluation, which may result in a lower practical accuracy.\n",
    "Since the rules with $n=6$ and $n=7$ yield the same convergence order,\n",
    "this mean that it is mostly the rules with $n \\le 6$ that are used in practice.\n",
    "\n",
    "\n",
    "The *open* Newton-Cotes methods, in contrast, use the nodes \n",
    "$x_i = a + (i+1/2)h$ with $h = (b-a)/(n+1)$. The simplest example here\n",
    "is the midpoint rule.\n",
    "Here negative weights appear already for $n \\ge 2$. Thus the midpoint rule\n",
    "is the only such rule that is commonly used in applications.\n",
    "\n",
    "\n",
    "### Gauss-Legendre quadrature\n",
    "\n",
    "For the standard interval $[-1,1]$ choose the nodes as the zeros of the  polynomial of degree $n$:"
   ]
  },
  {
   "cell_type": "markdown",
   "metadata": {},
   "source": [
    "$$\n",
    "L_n(t) = \\frac{d^n}{dt^n}(t^2-1)^n.\n",
    "$$"
   ]
  },
  {
   "cell_type": "markdown",
   "metadata": {},
   "source": [
    "The resulting quadrature rules have a degree of precision $d=2n-1$, and the corresponding composite\n",
    "rules have a convergence order of $2n$.\n",
    "It is possible to show that this is the highest achievable degree of precision with $n$ nodes.\n",
    "\n",
    "For $n=1$, one obtains (again) the midpoint rule.\n",
    "For $n=2$ one obtains the method discussed near the beginning of these notes in example 2,\n",
    "which, on the interval $[-1,1]$, has the nodes\n",
    "$x_0= -\\sqrt{3}/3$ and $x_1 = +\\sqrt{3}/3$ and the corresponding weights $w_0 = w_1 = 1$."
   ]
  }
 ],
 "metadata": {},
 "nbformat": 4,
 "nbformat_minor": 4
}

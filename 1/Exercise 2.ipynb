{
 "cells": [
  {
   "cell_type": "code",
   "execution_count": 1,
   "id": "600de1cf",
   "metadata": {},
   "outputs": [],
   "source": [
    "%matplotlib inline\n",
    "\n",
    "import numpy as np\n",
    "import matplotlib.pyplot as plt\n",
    "newparams = {'figure.figsize': (8.0, 4.0), 'axes.grid': True,\n",
    "             'lines.markersize': 8, 'lines.linewidth': 2,\n",
    "             'font.size': 14}\n",
    "plt.rcParams.update(newparams)"
   ]
  },
  {
   "cell_type": "markdown",
   "id": "b1b6a63f",
   "metadata": {},
   "source": [
    "Clearly, this code can only be used for monotone series.  \n",
    "\n",
    "Warning: The sequence converges very slowly, so given a very small `epsilon`\n",
    "will result in $N$ too large. This can be compensated by making `Nmax` larger,\n",
    "and increment $k$ in larger steps.\n",
    "\n",
    "## Convergence of an iterative process\n",
    "Let $X$ be the exact solution of a problem, and $X_k$ a numerical approximation\n",
    "achieved by some iterative process $X_{k+1} = G(X_k)$. In this case the\n",
    "iterations converge towards $X$ if"
   ]
  },
  {
   "cell_type": "markdown",
   "id": "e69d34d5",
   "metadata": {},
   "source": [
    "$$\n",
    "\\lim_{k\\rightarrow \\infty} \\|X-X_k\\| = 0\n",
    "$$"
   ]
  },
  {
   "cell_type": "markdown",
   "id": "24614383",
   "metadata": {},
   "source": [
    "Let $e_k = \\|X-X_k\\|$ measure the error. In practice, you have to choose an\n",
    "appropriate norm, which depends on the problem and what you might be interesting\n",
    "in measuring. The order of convergence is $p$ if there exist a positive constant $M$ such that"
   ]
  },
  {
   "cell_type": "markdown",
   "id": "8f3d8ef6",
   "metadata": {},
   "source": [
    "$$\n",
    "e_{k+1} \\leq M e_k^p\n",
    "$$"
   ]
  },
  {
   "cell_type": "markdown",
   "id": "903ed360",
   "metadata": {},
   "source": [
    "**Notation:**\n",
    "The case $p=1$ is called *linear* convergence, $p=2$ is called *quadratic* convergence and $p=3$ *cubic* convergence. \n",
    "\n",
    "### Numerical verification of the order\n",
    "\n",
    "To verify the order, we make the assumptions that $e_{k+1} = C_k e_k^p$, and\n",
    "that the $C_k$ do not change much from one iteration to the next one. \n",
    "These assumptions are usually reasonable when the error becomes small.\n",
    "The order $p$ can then be computed numerically by the following procedure:\n",
    "Take the expressions for the error for two subsequent iterations, assuming that\n",
    "$C_{k+1} \\approx C_k \\approx C$. Then divide the expression \n",
    "by each other to get rid of the unknown constant $C$, take the logarithm on both sides and\n",
    "solve for the order $p$."
   ]
  },
  {
   "cell_type": "markdown",
   "id": "7ce24890",
   "metadata": {},
   "source": [
    "$$\n",
    "\\begin{array}{rcl}\n",
    "   e_{k+2} &\\approx& C e_{k+1}^p  \\\\ \n",
    "   e_{k+1} &\\approx& C e_{k}^p \n",
    "   \\end{array}\n",
    "  \\quad \\Rightarrow \\quad \n",
    "  \\frac{e_{k+2}}{e_{k+1}} \\approx \\left( \\frac{e_{k+1}}{e_{k}} \\right)^p \n",
    "  \\quad \\Rightarrow \\quad \n",
    "  \\log \\left( \n",
    "  \\frac{e_{k+2}}{e_{k+1}}\\right) \\approx p \\log \\left( \\frac{e_{k+1}}{e_{k}} \\right)\n",
    "  \\quad \\Rightarrow \\quad \n",
    "  p \\approx \\frac{\\log{(e_{k+2}/e_{k+1})}}{\\log{(e_{k+1}/e_{k})}}\n",
    "$$"
   ]
  },
  {
   "cell_type": "markdown",
   "id": "cd6ac53b",
   "metadata": {},
   "source": [
    "We are usually not very interested in the constant $C$, but given $p$ and the\n",
    "error for two iterations, it can easily be approximated. \n",
    "\n",
    "**Example 4:**\n",
    "Newton's method applied to the equation $f(x)=0$ is given by"
   ]
  },
  {
   "cell_type": "markdown",
   "id": "3d1a99f0",
   "metadata": {},
   "source": [
    "$$\n",
    "x_{k+1} = x_k - \\frac{f(x_k)}{f'(x_k)}.\n",
    "$$"
   ]
  },
  {
   "cell_type": "markdown",
   "id": "70c3d1dd",
   "metadata": {},
   "source": [
    "Let $r$ be a solution of the equation. \n",
    "It can be proved that the error $r-x_k$ satisfies"
   ]
  },
  {
   "cell_type": "markdown",
   "id": "65d6f5cd",
   "metadata": {},
   "source": [
    "$$\n",
    "r-x_{k+1} = -\\frac{f''(\\xi_k)}{2 f'(x_k)}(r-x_k)^2, \\qquad \\text{where $\\xi_k$ is a\n",
    "real number between $x_k$ and $r$.}\n",
    "$$"
   ]
  },
  {
   "cell_type": "markdown",
   "id": "25fbb70a",
   "metadata": {},
   "source": [
    "Since the error is a real number, its norm is $e_k = |r-x_k|$\n",
    "and"
   ]
  },
  {
   "cell_type": "markdown",
   "id": "b65fb44b",
   "metadata": {},
   "source": [
    "$$\n",
    "e_{k+1} = C_k e_{k}^2 \\quad \\text{where} \\quad C_k = \\frac{|f''(\\xi_k)|}{2 |f'(x_k)|}.\n",
    "$$"
   ]
  },
  {
   "cell_type": "markdown",
   "id": "c5302018",
   "metadata": {},
   "source": [
    "Notice that $C_k \\rightarrow |f''(r)|/(2|f'(r))|$ as $x_k \\rightarrow r$. \n",
    "\n",
    "Let $M$ denote an upper\n",
    "bound for $C_k$. More precisely: let $I_{\\delta}=[x-\\delta,x+\\delta]$ be some interval \n",
    "around the solution $r$. Assume there exist \n",
    "constants $L$ and $K$ such that \n",
    "$ |f'(x)|\\leq L$ and $|f''(x)|\\geq K$ for all $x\\in I_{\\delta}$. Then $M=K/(2L)$\n",
    "and"
   ]
  },
  {
   "cell_type": "markdown",
   "id": "f140f6f3",
   "metadata": {},
   "source": [
    "$$\n",
    "e_{k+1} \\leq M e_k^2.\n",
    "$$"
   ]
  },
  {
   "cell_type": "markdown",
   "id": "9320261e",
   "metadata": {},
   "source": [
    "The convergence is quadratic, and the iterations converge for all starting\n",
    "values $x_0$ chosen such that"
   ]
  },
  {
   "cell_type": "markdown",
   "id": "00ec2160",
   "metadata": {},
   "source": [
    "$$\n",
    "M e_0 < 1,\n",
    "$$"
   ]
  },
  {
   "cell_type": "markdown",
   "id": "c69a42fb",
   "metadata": {},
   "source": [
    "often described as \"sufficiently close to the solution\". \n",
    "\n",
    "Let us now verify the theoretical result by applying Newtons method \n",
    " to the problem $x^2-a=0$ for some $a>0$. The iterations become"
   ]
  },
  {
   "cell_type": "markdown",
   "id": "d6b50ecb",
   "metadata": {},
   "source": [
    "$$\n",
    "x_{k+1} = x_k - \\frac{x_k^2-a}{2x_k} = \\frac{x_{k}^2+a}{2x_k}, \\qquad k=0,1,2,\\dotsc.\n",
    "$$"
   ]
  },
  {
   "cell_type": "markdown",
   "id": "ab9f8d2d",
   "metadata": {},
   "source": [
    "with the exact solution $r=\\sqrt{a}$. \n",
    "From the discussion above, we expect $C\\approx |f''(r)/(2f'(r))|$ with\n",
    "$r=\\sqrt{a}$, which in our case becomes $C \\approx 1/(2\\sqrt{a})$. Use the\n",
    "following code to see if the theoretical considerations hold in practice:"
   ]
  },
  {
   "cell_type": "code",
   "execution_count": 7,
   "id": "8c493182",
   "metadata": {},
   "outputs": [
    {
     "name": "stdout",
     "output_type": "stream",
     "text": [
      "The Newton iterations:\n",
      "k =  0,   x_k = 2.50000000,   e_k = 5.00e-01\n",
      "k =  1,   x_k = 2.05000000,   e_k = 5.00e-02\n",
      "k =  2,   x_k = 2.00060976,   e_k = 6.10e-04\n",
      "k =  3,   x_k = 2.00000009,   e_k = 9.29e-08\n",
      "k =  4,   x_k = 2.00000000,   e_k = 2.22e-15\n",
      "k =  5,   x_k = 2.00000000,   e_k = 0.00e+00\n",
      "\n",
      "The order p and the error constant C\n",
      "k =  0,  p = 3.32,  C = 0.5000\n",
      "k =  1,  p = 1.91,  C = 0.1884\n",
      "k =  2,  p = 1.99,  C = 0.2399\n",
      "k =  3,  p = 2.00,  C = 0.2440\n"
     ]
    }
   ],
   "source": [
    "''' Order of convergence for iterations\n",
    "    Test problem: Newtons method for x^2-a=0\n",
    "'''\n",
    "a = 4\n",
    "def g(x):\n",
    "    return (x**2+a)/(2*x)      # g(x) = x-f(x)/f'(x)\n",
    "x_exact = np.sqrt(a)           # Exact solution\n",
    "x  = 1                         # Starting value\n",
    "errors = [np.abs(x_exact-x)]   # Array to store errors\n",
    "Nit = 10                       # Number of iterations\n",
    "\n",
    "# Start the iterations\n",
    "print(\"The Newton iterations:\")\n",
    "for k in range(Nit):\n",
    "    x = g(x)                   # One iteration\n",
    "    ek = np.abs(x_exact-x)     # Find the error\n",
    "    print(f\"k = {k:2d},   x_k = {x:10.8f},   e_k = {ek:8.2e}\")\n",
    "    if ek < 1.e-15:            # If the error is small, terminate.\n",
    "        Nit = k+1\n",
    "        break                    \n",
    "    errors.append(ek)          # Append the new error to the array of errors\n",
    "\n",
    "# Find the order and the error constant C\n",
    "print(\"\\nThe order p and the error constant C\")\n",
    "for k in range(Nit-2):\n",
    "    p = np.log(errors[k+2]/errors[k+1])/np.log(errors[k+1]/errors[k])\n",
    "    C = errors[k+2]/errors[k+1]**p\n",
    "    print(f\"k = {k:2d},  p = {p:4.2f},  C = {C:6.4f}\")"
   ]
  },
  {
   "cell_type": "markdown",
   "id": "70aec9b7",
   "metadata": {},
   "source": [
    "## Convergence of $h$-dependent approximations\n",
    "Let $X$ be the exact solution, and $X(h)$ some numerical solution depending on a\n",
    "parameter $h$, and let $e(h)$ be the norm of the error, so $e(h)=\\|X-X(h)\\|$. The numerical approximation $X(h)$ converges to $X$ if $e(h) \\rightarrow 0$ as $h\\rightarrow 0$. \n",
    "The order of the approximation is $p$ if there exists a positive constant $M$ such that"
   ]
  },
  {
   "cell_type": "markdown",
   "id": "7550dd4a",
   "metadata": {},
   "source": [
    "$$\n",
    "e(h) \\leq M h^p\n",
    "$$"
   ]
  },
  {
   "cell_type": "markdown",
   "id": "e04d964a",
   "metadata": {},
   "source": [
    "**The Big $\\mathcal{O}$-notation:**\n",
    "A function $f(x) = \\mathcal{O}(g(x))$ as $x\\rightarrow a$ if and only there exist positive numbers $\\delta$ and $M$ such that"
   ]
  },
  {
   "cell_type": "markdown",
   "id": "39481774",
   "metadata": {},
   "source": [
    "$$\n",
    "|f(x)| \\leq M|g(x)| \\qquad \\text{when} \\qquad 0 < |x-a| < \\delta.\n",
    "$$"
   ]
  },
  {
   "cell_type": "markdown",
   "id": "4f92f2e1",
   "metadata": {},
   "source": [
    "Let $a=0$ and the error of an approximation of order $p$ can be written as"
   ]
  },
  {
   "cell_type": "markdown",
   "id": "aa6b6ebb",
   "metadata": {},
   "source": [
    "$$\n",
    "e(h) = \\mathcal{O}(h^p).\n",
    "$$"
   ]
  },
  {
   "cell_type": "markdown",
   "id": "96b1e2f6",
   "metadata": {},
   "source": [
    "This is often used when we are not directly interested in any expression for the constant $M$, we only need to know it exists.  \n",
    "\n",
    "### Numerical verification\n",
    "\n",
    "The following is based on the assumption that  $e(h)\\approx C h^p$ for some\n",
    "unknown constant $C$. This assumption is usually reasonable for sufficiently\n",
    "small $h$. \n",
    "\n",
    "Choose a test problem for which the exact solution is known and compute the\n",
    "error for a sequence of smaller $h$'s, for instance $h_k=H/2^k$,\n",
    "$k=0,1,2,\\dots$. The procedure is then quite similar to what was done for\n",
    "iterative processes."
   ]
  },
  {
   "cell_type": "markdown",
   "id": "cdb81fde",
   "metadata": {},
   "source": [
    "$$\n",
    "\\begin{array}{rcl} e(h_{k+1}) &\\approx& C h_{k+1}^p \\\\  e(h_k) &\\approx& C h_k^p \\end{array}\n",
    "  \\qquad \\Rightarrow \\qquad \n",
    "  \\frac{e(h_{k+1})}{e(h_k)} \\approx \\left( \\frac{h_{k+1}}{h_k} \\right)^p \n",
    "  \\qquad \\Rightarrow \\qquad \n",
    "  p \\approx \\frac{\\log{(e(h_{k+1})/e(h_k))}}{\\log{(h_{k+1}/h_k)}}.\n",
    "$$"
   ]
  },
  {
   "cell_type": "markdown",
   "id": "e840a4c7",
   "metadata": {},
   "source": [
    "Since"
   ]
  },
  {
   "cell_type": "markdown",
   "id": "d0c39040",
   "metadata": {},
   "source": [
    "$$\n",
    "e(h) \\approx Ch^p \\qquad \\Rightarrow \\qquad \\log{e(h)} \\approx \\log{C} + p \\log{h},\n",
    "$$"
   ]
  },
  {
   "cell_type": "markdown",
   "id": "324d4a7f",
   "metadata": {},
   "source": [
    "a plot of $e(h)$ as a function of $h$ using a logarithmic scale on both axes\n",
    "will be a straight line with slope $p$. Such a plot is referred to as\n",
    "an *error plot* or a *convergence plot*. \n",
    "\n",
    "### Some terminology\n",
    "\n",
    "Let $X$ be the exact solution of some problem, and $\\tilde{X}$ the numerical\n",
    "approximation of $X$. The following concepts are of interest: \n",
    "\n",
    "* *Error*: $E = X - \\tilde{X}$. This is something which obviously is only known if the exact solution is known (which it will be in our test problems, but not in real life problems). Still, most error analysis will start trying to find an expression for this error, but it will typically contain some higher order derivatives evaluated in some unknown point. \n",
    "\n",
    "* *Error bound* : $\\|X-\\tilde{X}\\|\\leq K$. If the approximation depend on some parameter $h$, we typically search for expressions of the form $K=Mh^p$, if $M$ is known, this can be used to decide how small $h$ has to be to guarantee that the error is below some tolerance. \n",
    "\n",
    "* *Error estimate*: $\\mathcal{E} \\approx \\|E\\|$. This is an approximation to the error (or the norm of the error) and something that can be computed and included in practical codes. How to compute these will be described for each class of problems discussed later in the course.  \n",
    "\n",
    "**Example 5:**\n",
    "Consider the trapezoidal rule for numerical integration. It is known that"
   ]
  },
  {
   "cell_type": "markdown",
   "id": "a980715f",
   "metadata": {},
   "source": [
    "$$\n",
    "\\int_a^b f(x)dx = T(h) + E(h)\n",
    "$$"
   ]
  },
  {
   "cell_type": "markdown",
   "id": "7c90e2bb",
   "metadata": {},
   "source": [
    "where $T(h)$ is the numerical approximation given by"
   ]
  },
  {
   "cell_type": "markdown",
   "id": "87baec0c",
   "metadata": {},
   "source": [
    "$$\n",
    "T(h) = h\\left(\\frac12 f(x_0)+\\sum_{i=0}^{n-1} f(x_i)+\\frac12 f(x_n) \\right), \\qquad x_n=a+ih, \\quad h = \\frac{b-a}{n},\n",
    "$$"
   ]
  },
  {
   "cell_type": "markdown",
   "id": "34aaad4c",
   "metadata": {},
   "source": [
    "and the error $E(h)$ is known to be"
   ]
  },
  {
   "cell_type": "markdown",
   "id": "093d0032",
   "metadata": {},
   "source": [
    "$$\n",
    "E(h) = -\\frac{b-a}{12} f''(\\xi) h^2, \\qquad \\xi \\in (a,b).\n",
    "$$"
   ]
  },
  {
   "cell_type": "markdown",
   "id": "9f16b760",
   "metadata": {},
   "source": [
    "Assume there exists an $M$ such that $|f''(x)|\\leq M$ for all $x\\in (a,b)$. Let\n",
    "$e(h)=|E(h)|$ (notice that $E(h)$ is a scalar) so"
   ]
  },
  {
   "cell_type": "markdown",
   "id": "a609dfcb",
   "metadata": {},
   "source": [
    "$$\n",
    "e(h) \\leq M h^2.\n",
    "$$"
   ]
  },
  {
   "cell_type": "markdown",
   "id": "e437a775",
   "metadata": {},
   "source": [
    "So the error of the trapezoidal rule is of order 2, and $e(h) = \\mathcal{O}(h^2)$.\n",
    "\n",
    "Use this to verify the order of the trapezoidal rule, as given above. As test example, choose"
   ]
  },
  {
   "cell_type": "markdown",
   "id": "33060c2a",
   "metadata": {},
   "source": [
    "$$\n",
    "\\int_0^{\\pi}\\sin(x)dx = 2.\n",
    "$$"
   ]
  },
  {
   "cell_type": "markdown",
   "id": "3e61cf47",
   "metadata": {},
   "source": [
    "In this case, we expect the order $p$ to be 2. The constant $C = |f''(\\xi)|\\pi/12$ for\n",
    "some unknown $\\xi\\in[0,\\pi]$. Thus $0 < C < \\pi/12=0.2617\\dotsc$, but we can not be more precise.\n",
    "An upper bound for the error is thus $e(h)\\leq (\\pi/12) h^2$.  \n",
    "\n",
    "The following code can be used to confirm the result. It also returns an\n",
    "approximation to $C$, so we can at least check if it is within the expected\n",
    "bound."
   ]
  },
  {
   "cell_type": "code",
   "execution_count": 8,
   "id": "7b1fec4f",
   "metadata": {},
   "outputs": [
    {
     "name": "stdout",
     "output_type": "stream",
     "text": [
      "h = 3.14e+00,   T(h) = 0.00000000,   e(h) = 2.00e+00\n",
      "h = 1.57e+00,   T(h) = 1.57079633,   e(h) = 4.29e-01\n",
      "h = 7.85e-01,   T(h) = 1.89611890,   e(h) = 1.04e-01\n",
      "h = 3.93e-01,   T(h) = 1.97423160,   e(h) = 2.58e-02\n",
      "h = 1.96e-01,   T(h) = 1.99357034,   e(h) = 6.43e-03\n",
      "h = 9.82e-02,   T(h) = 1.99839336,   e(h) = 1.61e-03\n",
      "h = 4.91e-02,   T(h) = 1.99959839,   e(h) = 4.02e-04\n",
      "h = 2.45e-02,   T(h) = 1.99989960,   e(h) = 1.00e-04\n",
      "h = 1.23e-02,   T(h) = 1.99997490,   e(h) = 2.51e-05\n",
      "h = 6.14e-03,   T(h) = 1.99999373,   e(h) = 6.27e-06\n",
      "\n",
      "The order p and the error constant C\n",
      "h = 1.57e+00,  p = 2.05,  C = 0.1703\n",
      "h = 7.85e-01,  p = 2.01,  C = 0.1689\n",
      "h = 3.93e-01,  p = 2.00,  C = 0.1675\n",
      "h = 1.96e-01,  p = 2.00,  C = 0.1670\n",
      "h = 9.82e-02,  p = 2.00,  C = 0.1668\n",
      "h = 4.91e-02,  p = 2.00,  C = 0.1667\n",
      "h = 2.45e-02,  p = 2.00,  C = 0.1667\n",
      "h = 1.23e-02,  p = 2.00,  C = 0.1667\n"
     ]
    },
    {
     "data": {
      "image/png": "[encoded data removed]",
      "text/plain": [
       "<Figure size 576x288 with 1 Axes>"
      ]
     },
     "metadata": {
      "needs_background": "light"
     },
     "output_type": "display_data"
    }
   ],
   "source": [
    "''' Find the order and the error plot for the trapezoidal rule '''\n",
    "\n",
    "def trapezoidal(f, a, b, n):\n",
    "    # The trapezoidal rule\n",
    "    h = (b-a)/n                     # The stepsize\n",
    "    x = np.linspace(a, b, n+1)      # Create a uniform grid x = [a=x_0,x_1,...,x_{n-1},x_n=b]\n",
    "    res = h*np.sum(f(x[1:n]))       # h*(f(x_1)+f(x_2)+...+f(x_{n-1})\n",
    "    res = res + 0.5*h*(f(a)+f(b))   # add the function values of the endpoints a and b\n",
    "    return res\n",
    "\n",
    "def f(x):                           # Define the function\n",
    "    return np.sin(x)\n",
    "\n",
    "a, b = 0, np.pi                     # integration interval\n",
    "exact = 2\n",
    "\n",
    "# Find an numerical approximation for different values of h. \n",
    "# Store the stepsize h and the error\n",
    "n = 1                           # initial stepsize, h=(b-a) \n",
    "h = (b-a)/n\n",
    "steps = []                      # arrays to store stepsizes and errors\n",
    "errors = []\n",
    "Nmax = 10\n",
    "for k in range(Nmax):\n",
    "    numres = trapezoidal(f, a, b, n)    # Numerical approximation\n",
    "    eh = np.abs(exact - numres)         # Error e(h)\n",
    "    print('h = {:8.2e},   T(h) = {:10.8f},   e(h) = {:8.2e}'.format(h, numres, eh))\n",
    "    steps.append(h)                     # Append the step to the array\n",
    "    errors.append(eh)                   # Append the error to the array\n",
    "    n = 2*n                             # Reduce the stepsize with a factor 2\n",
    "    h = (b-a)/n\n",
    "\n",
    "# Find the order and the error constant\n",
    "print('\\nThe order p and the error constant C')\n",
    "for k in range(1, Nmax-1):\n",
    "    p = np.log(errors[k+1]/errors[k])/np.log(steps[k+1]/steps[k])\n",
    "    C = errors[k+1]/steps[k+1]**p\n",
    "    print(f\"h = {steps[k]:8.2e},  p = {p:4.2f},  C = {C:6.4f}\")\n",
    "\n",
    "# Make an error plot\n",
    "plt.clf()\n",
    "plt.loglog(steps, errors, 'o-')\n",
    "plt.xlabel('h')\n",
    "plt.ylabel('e(h)')\n",
    "plt.title('Error plot for the trapezoidal rule')\n",
    "plt.grid('True')"
   ]
  },
  {
   "cell_type": "markdown",
   "id": "4af72102",
   "metadata": {},
   "source": [
    "# Taylor-expansions\n",
    "Given a function $f\\in C^{\\infty}[a,b]$, choose a point $x$ and an increment $h$ such that \n",
    "$x, x+h \\in [a,b]$. The Taylor expansion of $f$ around $x$ is then given by"
   ]
  },
  {
   "cell_type": "markdown",
   "id": "2b0f9a07",
   "metadata": {},
   "source": [
    "$$\n",
    "f(x+h) = \\sum_{k=0}^{\\infty} \\frac{h^k}{k!}f^{(k)}(x).\n",
    "$$"
   ]
  },
  {
   "cell_type": "markdown",
   "id": "3fe17e88",
   "metadata": {},
   "source": [
    "The function $f$ is called analytic in $x$ if the series converges for sufficiently small values of $|h|$.\n",
    "In numerics, we will usually work with the truncated series, also known as the Taylor polynomial of\n",
    "degree $m$:"
   ]
  },
  {
   "cell_type": "markdown",
   "id": "9970f353",
   "metadata": {},
   "source": [
    "$$\n",
    "f(x+h) = \\sum_{k=0}^{m} \\frac{h^k}{k!}f^{(k)}(x) + R_{m+1}(x).\n",
    "$$"
   ]
  },
  {
   "cell_type": "markdown",
   "id": "66c03a1e",
   "metadata": {},
   "source": [
    "The remainder term $R_{m+1}(x)$ is given by"
   ]
  },
  {
   "cell_type": "markdown",
   "id": "29665dc1",
   "metadata": {},
   "source": [
    "$$\n",
    "R_{m+1}(x) = \\frac{h^{m+1}}{(m+1)!} f^{(m+1)}(\\xi),\n",
    "$$"
   ]
  },
  {
   "cell_type": "markdown",
   "id": "4018681e",
   "metadata": {},
   "source": [
    "where $\\xi$ is some unknown point between $x$ and $x+h$. Unlike the full expansion, constructing the truncated series only requires that $f\\in C^{(m+1)}$ near $x$. The remainder term is often  written as\n",
    "$R_{m+1}(x)=\\mathcal{O}(h^{m+1})$.\n",
    "# Some other useful results\n",
    "\n",
    "**Intermediate value theorem:**\n",
    "Let $f\\in C[a,b]$ and let $x$ be some number between $f(a)$ and $f(b)$, then there exist at least one $\\xi \\in (a,b)$ such that $f(\\xi)=x$. \n",
    "\n",
    "The generalization of this reads: \n",
    "Given $k$ nodes $x_i\\in [a,b]$ and $k$ positive weights\n",
    "$w_i>0$, $i=1,\\dotsc,k$. Then there exists at least one $\\xi \\in (a,b)$ such that"
   ]
  },
  {
   "cell_type": "markdown",
   "id": "0a7ef62e",
   "metadata": {},
   "source": [
    "<!-- Equation labels as ordinary links -->\n",
    "<div id=\"eq:gen_mid\"></div>\n",
    "\n",
    "$$\n",
    "\\begin{equation} \\sum_{i=1}^{k} w_i f(x_i) = f(\\xi) \\sum_{i=1}^k w_i. \n",
    "\\label{eq:gen_mid} \\tag{1}\n",
    "\\end{equation}\n",
    "$$"
   ]
  },
  {
   "cell_type": "markdown",
   "id": "620bb8b7",
   "metadata": {},
   "source": [
    "**Mean value theorem:**\n",
    " Let $f\\in C^1[a,b]$. Then there exists at least one $\\xi\\in (a,b)$ such that"
   ]
  },
  {
   "cell_type": "markdown",
   "id": "300d6a1d",
   "metadata": {},
   "source": [
    "<!-- Equation labels as ordinary links -->\n",
    "<div id=\"eq:mvt\"></div>\n",
    "\n",
    "$$\n",
    "\\begin{equation} \\label{eq:mvt} \\tag{2}\n",
    "f'(\\xi) = \\frac{f(b)-f(a)}{b-a}\n",
    "\\end{equation}\n",
    "$$"
   ]
  },
  {
   "cell_type": "markdown",
   "id": "0669ffaf",
   "metadata": {},
   "source": [
    "**Rolle's theorem:**\n",
    "Let $f\\in C^1[a,b]$ and $f(a)=f(b)=0$. Then there exists at least one $\\xi \\in (a,b)$ such that $f'(\\xi)=0$. This is just a special case of the Mean value theorem.  \n",
    "\n",
    "**Mean value theorem for integrals:**\n",
    "Let $f\\in C[a,b]$ and $g$ an integrable function that does not change sign on $[a,b]$. Then there exists a $\\xi\\in(a,b)$ such that"
   ]
  },
  {
   "cell_type": "markdown",
   "id": "c6ef9e97",
   "metadata": {},
   "source": [
    "<!-- Equation labels as ordinary links -->\n",
    "<div id=\"eq:mvti\"></div>\n",
    "\n",
    "$$\n",
    "\\begin{equation} \\label{eq:mvti} \\tag{3}\n",
    "\\int_a^b f(x)g(x)dx = f(\\xi)\\int_a^b g(x)dx.\n",
    "\\end{equation}\n",
    "$$"
   ]
  }
 ],
 "metadata": {
  "kernelspec": {
   "display_name": "Python 3 (ipykernel)",
   "language": "python",
   "name": "python3"
  },
  "language_info": {
   "codemirror_mode": {
    "name": "ipython",
    "version": 3
   },
   "file_extension": ".py",
   "mimetype": "text/x-python",
   "name": "python",
   "nbconvert_exporter": "python",
   "pygments_lexer": "ipython3",
   "version": "3.9.12"
  }
 },
 "nbformat": 4,
 "nbformat_minor": 5
}
